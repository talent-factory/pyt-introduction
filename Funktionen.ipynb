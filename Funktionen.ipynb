{
 "nbformat": 4,
 "nbformat_minor": 0,
 "metadata": {
  "colab": {
   "provenance": []
  },
  "kernelspec": {
   "name": "python3",
   "language": "python",
   "display_name": "Python 3 (ipykernel)"
  }
 },
 "cells": [
  {
   "cell_type": "markdown",
   "metadata": {
    "id": "Xw13oS3z4juO"
   },
   "source": [
    "# Funktionen"
   ]
  },
  {
   "cell_type": "markdown",
   "metadata": {
    "id": "v-rIJn0_LjwA"
   },
   "source": [
    "In diesem Kapitel zeigen wir, wie man in Python eigene Funktionen schreibt. Funktionen hatten wir bereits in den vorigen Kapiteln benutzt. So benutzten wir die Funktion `len`, um die Anzahl der Zeichen eines Strings oder die Anzahl der Elemente einer Liste zu ermitteln.\n",
    "\n",
    "Eine Funktion wird aufgerufen und liefert einen Wert – oder genauer gesagt: ein Objekt – zurück. Diesen Wert kann man auch wieder in einem Ausdruck weiterverwenden, wie wir es im nächsten Beispiel tun. Wir multiplizieren den Rückgabewert mit der Zahl 3:"
   ]
  },
  {
   "cell_type": "code",
   "metadata": {
    "id": "P2owzEJiLufq",
    "colab": {
     "base_uri": "https://localhost:8080/"
    },
    "executionInfo": {
     "status": "ok",
     "timestamp": 1694623170052,
     "user_tz": -120,
     "elapsed": 10,
     "user": {
      "displayName": "Daniel Senften",
      "userId": "05364229159230685820"
     }
    },
    "outputId": "14292fcb-72cb-4986-90af-fe63213bd51c",
    "ExecuteTime": {
     "end_time": "2024-01-31T18:19:06.681533Z",
     "start_time": "2024-01-31T18:19:06.675809Z"
    }
   },
   "source": [
    "name = \"Monty Python\"\n",
    "\n",
    "print(len(name) * 3)\n",
    "print(type(name))\n",
    "print(type(len))"
   ],
   "execution_count": 1,
   "outputs": [
    {
     "name": "stdout",
     "output_type": "stream",
     "text": [
      "36\n",
      "<class 'str'>\n",
      "<class 'builtin_function_or_method'>\n"
     ]
    }
   ]
  },
  {
   "cell_type": "markdown",
   "metadata": {
    "id": "jwE752CZ4rHp"
   },
   "source": [
    "## Syntax in Python"
   ]
  },
  {
   "cell_type": "markdown",
   "metadata": {
    "id": "naBLeCYOL8D7"
   },
   "source": [
    "Eine Funktionsdefinition wird mit dem Schlüsselwort `def` eingeleitet, gefolgt von einem frei wählbaren Funktionsnamen. Eingeschlossen in ein Klammerpaar folgt dann die Para- meterliste. Sie kann auch leer sein. Die Parameternamen der Parameterliste werden durch Kommata getrennt."
   ]
  },
  {
   "cell_type": "markdown",
   "metadata": {
    "id": "NCuVqgRi41A8"
   },
   "source": [
    "```\n",
    "def funktions-name(Parameterliste):\n",
    "    Anweisung(en)\n",
    "```"
   ]
  },
  {
   "cell_type": "markdown",
   "metadata": {
    "id": "V538toIJ5SxB"
   },
   "source": [
    "Die Parameterliste besteht aus einem oder mehr Bezeichnern, die durch Kommata getrennt sind. Die Parameter der Definition werden beim Aufruf der Funtion als Argumente bezeichnet. Meistens werden die beiden Begriffe jedoch fälschlicherweise wie Synonyme verwendet.\n",
    "Parameter können obligatorisch und optional sein. Die optionalen Parameter (0 oder mehr) folgen den obligatorischen."
   ]
  },
  {
   "cell_type": "markdown",
   "metadata": {
    "id": "AtfbrZ_C5ePr"
   },
   "source": [
    "Der Funktionskörper (*function body*), also die Anweisungen, die ausgeführt werden, wenn die Funktion aufgerufen wird, wird in Python durch eine homogene Einrückung markiert. Also ebenso wie alle anderen Blöcke in Python. Die Funktionsdefinition ist beendet, wenn eine Anweisung erfolgt, die wieder auf der selben Einrückungsstufe steht, wie der Kopf der Funktion."
   ]
  },
  {
   "cell_type": "markdown",
   "metadata": {
    "id": "8W9q7aHFMCRy"
   },
   "source": [
    "Schauen wir uns ein einfaches Beispiel an:"
   ]
  },
  {
   "cell_type": "code",
   "metadata": {
    "id": "U2qdGDPLMD7y",
    "colab": {
     "base_uri": "https://localhost:8080/"
    },
    "executionInfo": {
     "status": "ok",
     "timestamp": 1694623799596,
     "user_tz": -120,
     "elapsed": 276,
     "user": {
      "displayName": "Daniel Senften",
      "userId": "05364229159230685820"
     }
    },
    "outputId": "b559420d-00eb-4280-b334-116bf85a6901"
   },
   "source": [
    "def say_hello(name):\n",
    "    return f'Hello {name}'\n",
    "\n",
    "greeting = say_hello('Hans')\n",
    "print(say_hello('Hans'))"
   ],
   "execution_count": 12,
   "outputs": [
    {
     "output_type": "stream",
     "name": "stdout",
     "text": [
      "Hello Hans\n"
     ]
    }
   ]
  },
  {
   "cell_type": "markdown",
   "metadata": {
    "id": "R_kImnBy5vIw"
   },
   "source": [
    "Der Funktionskörper kann ein oder mehrere return-Anweisungen enthalten. Diese können sich an beliebiger Stelle innerhalb des Funktionskörpers befinden. Eine return-Anweisung beendet den Funktionsaufruf und das Ergebnis des Ausdrucks, der hinter der return-Anweisung steht, wird an die aufrufende Stelle zurückgeliefert. Falls kein Ausdruck dem return folgt, wird der spezielle Wert None zurückgeliefert. Wird das Ende eines Funktionskörpers erreicht, ohne auf eine return-Anweisung gestossen zu sein, endet der Funktionsaufruf und es wird ebenfalls der Wert `None` zurückgegeben."
   ]
  },
  {
   "cell_type": "markdown",
   "metadata": {
    "id": "-4FJBCTQMWQf"
   },
   "source": [
    "Ein weiteres Beispiel:"
   ]
  },
  {
   "cell_type": "code",
   "metadata": {
    "id": "FLGBUucsMW-f",
    "colab": {
     "base_uri": "https://localhost:8080/"
    },
    "executionInfo": {
     "status": "ok",
     "timestamp": 1694624628592,
     "user_tz": -120,
     "elapsed": 274,
     "user": {
      "displayName": "Daniel Senften",
      "userId": "05364229159230685820"
     }
    },
    "outputId": "26afc0ab-e3a2-4e99-dece-81230c38eaac",
    "ExecuteTime": {
     "end_time": "2024-01-31T18:28:32.542059Z",
     "start_time": "2024-01-31T18:28:32.515725Z"
    }
   },
   "source": [
    "def fahrenheit(celsius):\n",
    "    \"\"\"returs the temperature in degrees Fahrenheit\"\"\"\n",
    "    return (celsius * 9 / 5) + 32\n",
    "\n",
    "for temp in (22.6, 25.8, 27.3, 100):\n",
    "    print('%6.2f°C → %6.2f°F' % (temp, fahrenheit(temp)))"
   ],
   "execution_count": 2,
   "outputs": [
    {
     "name": "stdout",
     "output_type": "stream",
     "text": [
      " 22.60°C →  72.68°F\n",
      " 25.80°C →  78.44°F\n",
      " 27.30°C →  81.14°F\n",
      "100.00°C → 212.00°F\n"
     ]
    }
   ]
  },
  {
   "cell_type": "markdown",
   "metadata": {
    "id": "hH9SsF366fj1"
   },
   "source": [
    "## Beispiel einer Funktion mit optionalen Parametern"
   ]
  },
  {
   "cell_type": "markdown",
   "metadata": {
    "id": "MQDV9WLe6kOY"
   },
   "source": [
    "Funktionen können auch optionale Parameter haben. Man nennt sie auch Default-Parameter. Dies sind Parameter, die beim Aufruf nicht angegeben werden müssen. In diesem Fall werden dann Default-Werte für diese Parameter eingesetzt.\n",
    "\n",
    "Wir zeigen dies an einem Beispiel. Das folgende kleine Skript, das nicht sehr nützlich ist, begrüßt eine Person mit Namen. Falls beim Aufruf allerdings kein Name übergeben wird, druckt sie nur `\"Hello everybody!\"`:"
   ]
  },
  {
   "cell_type": "code",
   "metadata": {
    "id": "Uvj9KO7T6we1",
    "executionInfo": {
     "status": "ok",
     "timestamp": 1694625787803,
     "user_tz": -120,
     "elapsed": 459,
     "user": {
      "displayName": "Daniel Senften",
      "userId": "05364229159230685820"
     }
    },
    "ExecuteTime": {
     "end_time": "2024-01-31T18:55:10.931375Z",
     "start_time": "2024-01-31T18:55:10.796589Z"
    }
   },
   "source": [
    "def hello(name='everybody'):\n",
    "    \"\"\" Greets a person \"\"\"\n",
    "    print(f\"Hello {name}!\")\n"
   ],
   "execution_count": 3,
   "outputs": []
  },
  {
   "cell_type": "code",
   "metadata": {
    "id": "qZ2nac887a3p",
    "colab": {
     "base_uri": "https://localhost:8080/"
    },
    "executionInfo": {
     "status": "ok",
     "timestamp": 1694625820974,
     "user_tz": -120,
     "elapsed": 338,
     "user": {
      "displayName": "Daniel Senften",
      "userId": "05364229159230685820"
     }
    },
    "outputId": "dcad0385-802c-4152-feab-51fb2a6f7a6a",
    "ExecuteTime": {
     "end_time": "2024-01-31T18:55:56.628312Z",
     "start_time": "2024-01-31T18:55:56.618365Z"
    }
   },
   "source": [
    "hello(\"Peter\")"
   ],
   "execution_count": 6,
   "outputs": [
    {
     "name": "stdout",
     "output_type": "stream",
     "text": [
      "Hello Peter!\n"
     ]
    }
   ]
  },
  {
   "cell_type": "code",
   "metadata": {
    "id": "Qqm31SbR7gLu",
    "colab": {
     "base_uri": "https://localhost:8080/"
    },
    "executionInfo": {
     "status": "ok",
     "timestamp": 1694625843465,
     "user_tz": -120,
     "elapsed": 594,
     "user": {
      "displayName": "Daniel Senften",
      "userId": "05364229159230685820"
     }
    },
    "outputId": "e83b58b4-2bf3-4d78-c62c-5360e6371fb2",
    "ExecuteTime": {
     "end_time": "2024-01-31T18:55:35.239674Z",
     "start_time": "2024-01-31T18:55:35.216211Z"
    }
   },
   "source": [
    "hello()"
   ],
   "execution_count": 5,
   "outputs": [
    {
     "name": "stdout",
     "output_type": "stream",
     "text": [
      "Hello everybody!\n"
     ]
    }
   ]
  },
  {
   "cell_type": "markdown",
   "metadata": {
    "id": "PjLi3mx-NOmd"
   },
   "source": [
    "## Docstring - Dokumentieren einer Funktion"
   ]
  },
  {
   "cell_type": "markdown",
   "metadata": {
    "id": "zcBZUhNNNTtc"
   },
   "source": [
    "Wie der Name nahelegt, handelt es sich beim Docstring um einen String, der zu Dokumentationszwecken dient. Er steht in einer Funktion direkt nach dem Funktionskopf, also nach der `def`-Zeile. Der Wert des Docstrings ist in dem Attribut .`__doc__` gespeichert und vom Programm aus abrufbar."
   ]
  },
  {
   "cell_type": "code",
   "metadata": {
    "id": "tmlVOsvaNrDm",
    "colab": {
     "base_uri": "https://localhost:8080/"
    },
    "executionInfo": {
     "status": "ok",
     "timestamp": 1694625906270,
     "user_tz": -120,
     "elapsed": 380,
     "user": {
      "displayName": "Daniel Senften",
      "userId": "05364229159230685820"
     }
    },
    "outputId": "4e33973b-7fe2-4781-ac83-ed1b570911af",
    "ExecuteTime": {
     "end_time": "2024-01-31T19:02:02.282659Z",
     "start_time": "2024-01-31T19:02:02.277224Z"
    }
   },
   "source": [
    "def fahrenheit(celsius):\n",
    "    \"\"\"\n",
    "    Returns the temperature in degrees Fahrenheit\n",
    "    \n",
    "    :param celsius: degree in celsius\n",
    "    :return: degree in fahrenheit\n",
    "    \"\"\"\n",
    "    return (celsius * 9 / 5) + 32\n",
    "\n",
    "print(fahrenheit(10))"
   ],
   "execution_count": 7,
   "outputs": [
    {
     "name": "stdout",
     "output_type": "stream",
     "text": [
      "50.0\n"
     ]
    }
   ]
  },
  {
   "cell_type": "code",
   "metadata": {
    "id": "Pos9qekjN1at",
    "colab": {
     "base_uri": "https://localhost:8080/",
     "height": 36
    },
    "executionInfo": {
     "status": "ok",
     "timestamp": 1694625933061,
     "user_tz": -120,
     "elapsed": 453,
     "user": {
      "displayName": "Daniel Senften",
      "userId": "05364229159230685820"
     }
    },
    "outputId": "524f92bf-e9f8-44c6-b237-6ffb36960a1b",
    "ExecuteTime": {
     "end_time": "2024-01-31T19:02:26.501186Z",
     "start_time": "2024-01-31T19:02:26.485213Z"
    }
   },
   "source": [
    "fahrenheit.__doc__"
   ],
   "execution_count": 8,
   "outputs": [
    {
     "data": {
      "text/plain": "'\\n    Returns the temperature in degrees Fahrenheit\\n    \\n    :param celsius: degree in celsius\\n    :return: degree in fahrenheit\\n    '"
     },
     "execution_count": 8,
     "metadata": {},
     "output_type": "execute_result"
    }
   ]
  },
  {
   "cell_type": "markdown",
   "metadata": {
    "id": "QcJWwsRrOT--"
   },
   "source": [
    "Die besondere Bedeutung des Docstrings sieht man, wenn man die help-Funktion benutzt. Wenn wir in der Shell den Befehl\n",
    "`help(fahrenheit)` eingeben, erhalten wir folgende Ausgabe:"
   ]
  },
  {
   "cell_type": "code",
   "metadata": {
    "id": "4dpKP880N8Di",
    "colab": {
     "base_uri": "https://localhost:8080/"
    },
    "executionInfo": {
     "status": "ok",
     "timestamp": 1694626181332,
     "user_tz": -120,
     "elapsed": 570,
     "user": {
      "displayName": "Daniel Senften",
      "userId": "05364229159230685820"
     }
    },
    "outputId": "66d94cf8-4ef6-46e2-a5b3-4aedd2250680",
    "ExecuteTime": {
     "end_time": "2024-01-31T19:03:05.875170Z",
     "start_time": "2024-01-31T19:03:05.866951Z"
    }
   },
   "source": [
    "help(fahrenheit)"
   ],
   "execution_count": 9,
   "outputs": [
    {
     "name": "stdout",
     "output_type": "stream",
     "text": [
      "Help on function fahrenheit in module __main__:\n",
      "\n",
      "fahrenheit(celsius)\n",
      "    Returns the temperature in degrees Fahrenheit\n",
      "\n",
      "    :param celsius: degree in celsius\n",
      "    :return: degree in fahrenheit\n"
     ]
    }
   ]
  },
  {
   "cell_type": "markdown",
   "metadata": {
    "id": "ptsKLCQ2Ojtr"
   },
   "source": [
    "## Standardwerte für Funktionen"
   ]
  },
  {
   "cell_type": "markdown",
   "metadata": {
    "id": "CxsQFB-mOsr9"
   },
   "source": [
    "Man hat auch die Möglichkeit, die Parameter einer Funktion mit Standardwerten – meist\n",
    "auch als Default-Werte bezeichnet – zu versehen. Diese Parameter sind dann optional beim\n",
    "Aufruf der Funktion, d.h. man kann für einen solchen Parameter ein Argument zur Verfügung stellen, muss das aber nicht."
   ]
  },
  {
   "cell_type": "code",
   "metadata": {
    "id": "tDG1Iz4QO0Tq",
    "executionInfo": {
     "status": "ok",
     "timestamp": 1694626195210,
     "user_tz": -120,
     "elapsed": 287,
     "user": {
      "displayName": "Daniel Senften",
      "userId": "05364229159230685820"
     }
    }
   },
   "source": [
    "def hallo(name=\"Namenloser\"):\n",
    "    print(\"Hallo \" + name + \"!\")"
   ],
   "execution_count": 29,
   "outputs": []
  },
  {
   "cell_type": "code",
   "metadata": {
    "id": "djtCMSqNO4ts",
    "colab": {
     "base_uri": "https://localhost:8080/"
    },
    "executionInfo": {
     "status": "ok",
     "timestamp": 1694626203183,
     "user_tz": -120,
     "elapsed": 266,
     "user": {
      "displayName": "Daniel Senften",
      "userId": "05364229159230685820"
     }
    },
    "outputId": "3be02b36-a880-4966-99de-be5576740010"
   },
   "source": [
    "hallo(\"Peter\")"
   ],
   "execution_count": 31,
   "outputs": [
    {
     "output_type": "stream",
     "name": "stdout",
     "text": [
      "Hallo Peter!\n"
     ]
    }
   ]
  },
  {
   "cell_type": "code",
   "metadata": {
    "id": "1dIIMMr0O6xV",
    "colab": {
     "base_uri": "https://localhost:8080/"
    },
    "executionInfo": {
     "status": "ok",
     "timestamp": 1694626200319,
     "user_tz": -120,
     "elapsed": 269,
     "user": {
      "displayName": "Daniel Senften",
      "userId": "05364229159230685820"
     }
    },
    "outputId": "0108e3e1-c314-4819-cb68-87355b995baf"
   },
   "source": [
    "hallo()"
   ],
   "execution_count": 30,
   "outputs": [
    {
     "output_type": "stream",
     "name": "stdout",
     "text": [
      "Hallo Namenloser!\n"
     ]
    }
   ]
  },
  {
   "cell_type": "markdown",
   "metadata": {
    "id": "CJ2ZQue9PB41"
   },
   "source": [
    "Im nächsten Beispiel definieren wir die Funktion „umfang”, die den Umfang eines Rechtecks berechnet:"
   ]
  },
  {
   "cell_type": "code",
   "metadata": {
    "id": "Jiwd4PIVPGRk",
    "executionInfo": {
     "status": "ok",
     "timestamp": 1694626237444,
     "user_tz": -120,
     "elapsed": 270,
     "user": {
      "displayName": "Daniel Senften",
      "userId": "05364229159230685820"
     }
    },
    "ExecuteTime": {
     "end_time": "2024-01-31T19:07:13.271046Z",
     "start_time": "2024-01-31T19:07:13.261822Z"
    }
   },
   "source": [
    "def umfang(laenge=2, breite=1):\n",
    "    return 2 * (laenge + breite)"
   ],
   "execution_count": 10,
   "outputs": []
  },
  {
   "cell_type": "code",
   "metadata": {
    "id": "_8Vr8EjmPOGg",
    "colab": {
     "base_uri": "https://localhost:8080/"
    },
    "executionInfo": {
     "status": "ok",
     "timestamp": 1694626385933,
     "user_tz": -120,
     "elapsed": 281,
     "user": {
      "displayName": "Daniel Senften",
      "userId": "05364229159230685820"
     }
    },
    "outputId": "f4c27b4f-0047-49de-e075-57bd12d937f8",
    "ExecuteTime": {
     "end_time": "2024-01-31T19:07:16.127638Z",
     "start_time": "2024-01-31T19:07:16.094668Z"
    }
   },
   "source": [
    "umfang(breite=5, laenge=7)"
   ],
   "execution_count": 11,
   "outputs": [
    {
     "data": {
      "text/plain": "24"
     },
     "execution_count": 11,
     "metadata": {},
     "output_type": "execute_result"
    }
   ]
  },
  {
   "cell_type": "code",
   "metadata": {
    "id": "o5R_-VsTPOyQ",
    "colab": {
     "base_uri": "https://localhost:8080/"
    },
    "executionInfo": {
     "status": "ok",
     "timestamp": 1694626294849,
     "user_tz": -120,
     "elapsed": 271,
     "user": {
      "displayName": "Daniel Senften",
      "userId": "05364229159230685820"
     }
    },
    "outputId": "47812e72-939d-417d-f45b-491c3efe14cd",
    "ExecuteTime": {
     "end_time": "2024-01-31T19:07:41.135264Z",
     "start_time": "2024-01-31T19:07:41.010293Z"
    }
   },
   "source": [
    "umfang(5) # für die Breite wird der Standardwert `1` benutzt"
   ],
   "execution_count": 12,
   "outputs": [
    {
     "data": {
      "text/plain": "12"
     },
     "execution_count": 12,
     "metadata": {},
     "output_type": "execute_result"
    }
   ]
  },
  {
   "cell_type": "code",
   "metadata": {
    "id": "5PYqiS7yPYSJ",
    "colab": {
     "base_uri": "https://localhost:8080/"
    },
    "executionInfo": {
     "status": "ok",
     "timestamp": 1694626302051,
     "user_tz": -120,
     "elapsed": 321,
     "user": {
      "displayName": "Daniel Senften",
      "userId": "05364229159230685820"
     }
    },
    "outputId": "37595fae-2471-4369-de13-78afe3f3a8f9",
    "ExecuteTime": {
     "end_time": "2024-01-31T19:08:19.965475Z",
     "start_time": "2024-01-31T19:08:19.944162Z"
    }
   },
   "source": [
    "umfang(laenge=56)  # es werden beide Standardwerte benutzt"
   ],
   "execution_count": 15,
   "outputs": [
    {
     "data": {
      "text/plain": "114"
     },
     "execution_count": 15,
     "metadata": {},
     "output_type": "execute_result"
    }
   ]
  },
  {
   "cell_type": "markdown",
   "metadata": {
    "id": "cgdKx5lhPqj8"
   },
   "source": [
    "Wie sieht es aber aus, wenn wir nur einen Wert für die Breite angeben wollen? Bisher wurden die Argumente der Reihenfolge nach an die Parameter übergeben. Übergibt man nur ein Argument, bedeutet das automatisch, dass dies ein Wert für den ersten Parameter darstellt, also in unserem Fall für `laenge`."
   ]
  },
  {
   "cell_type": "markdown",
   "metadata": {
    "id": "2PYESmhvPi8L"
   },
   "source": [
    "## Schlüsselwortparameter"
   ]
  },
  {
   "cell_type": "markdown",
   "metadata": {
    "id": "4CzKtJImPy-A"
   },
   "source": [
    "Für das zuletzt beschriebene Problem liefern die Schlüsselwortparameter eine Lösung. Schlüsselwortparameter werden benutzt, um beim Aufruf einer Funktion einen Ausdruck einem bestimmten Parameter zuzuordnen. Die Funktionsdefinition selbst ändert sich nicht, d.h. ein Schlüsselwortparameter entspricht einem Parameter."
   ]
  },
  {
   "cell_type": "code",
   "metadata": {
    "id": "6bvNfzCrP18k",
    "colab": {
     "base_uri": "https://localhost:8080/"
    },
    "executionInfo": {
     "status": "ok",
     "timestamp": 1688404522090,
     "user_tz": -120,
     "elapsed": 347,
     "user": {
      "displayName": "Daniel Senften",
      "userId": "05364229159230685820"
     }
    },
    "outputId": "1b43cf8e-c193-408b-9c6d-1fa9509158d3"
   },
   "source": [
    "umfang(breite=1.5)"
   ],
   "execution_count": null,
   "outputs": [
    {
     "output_type": "execute_result",
     "data": {
      "text/plain": [
       "7.0"
      ]
     },
     "metadata": {},
     "execution_count": 29
    }
   ]
  },
  {
   "cell_type": "markdown",
   "metadata": {
    "id": "8lJzCSjcQAAd"
   },
   "source": [
    "## Mehrere Rückgabewerte"
   ]
  },
  {
   "cell_type": "markdown",
   "metadata": {
    "id": "ZoaKwdWtQG5A"
   },
   "source": [
    "Eine Funktion kann genau ein Objekt zurückliefern, welches beispielsweise ein numerischer Wert wie eine ganze Zahl (Integer) oder eine Fliesskommazahl (float) sein kann, aber auch ein komplexes Objekt wie etwa eine Liste oder ein Dictionary."
   ]
  },
  {
   "cell_type": "markdown",
   "metadata": {
    "id": "7Gk-yaNPQR4B"
   },
   "source": [
    "Im folgenden Beispiel berechnet die Funktion `fib_intervall` die [Fibonacci](https://de.wikipedia.org/wiki/Fibonacci-Folge)-Begrenzung für eine beliebige positive Zahl, d.h. sie liefert ein 2-Tupel zurück. Das erste Element ist die größte Fibonacci-Zahl, die kleiner oder gleich x ist, und die zweite Komponente ist die kleinste Fibonacci-Zahl grösser oder gleich $x$."
   ]
  },
  {
   "cell_type": "code",
   "metadata": {
    "id": "2EsZe6oXRFZK",
    "executionInfo": {
     "status": "ok",
     "timestamp": 1694627373780,
     "user_tz": -120,
     "elapsed": 244,
     "user": {
      "displayName": "Daniel Senften",
      "userId": "05364229159230685820"
     }
    },
    "ExecuteTime": {
     "end_time": "2024-01-31T19:14:35.492430Z",
     "start_time": "2024-01-31T19:14:35.478009Z"
    }
   },
   "source": [
    "def fib_interval(x):\n",
    "  \"\"\"\n",
    "  liefert ein Tupel mit der grössten Fibonacci-Zahl, kleiner oder\n",
    "  gleich x, und der kleinsten Fibonacci-Zahl, grösser oder gleich x, zurück\n",
    "  \"\"\"\n",
    "\n",
    "  if x < 0:\n",
    "    return -1\n",
    "\n",
    "  old, new = 0, 1\n",
    "\n",
    "  while True:\n",
    "    if new < x:\n",
    "      old, new = new, old + new\n",
    "    else:\n",
    "      return old, new"
   ],
   "execution_count": 16,
   "outputs": []
  },
  {
   "cell_type": "code",
   "metadata": {
    "id": "wXqZoTASRmo6",
    "colab": {
     "base_uri": "https://localhost:8080/"
    },
    "executionInfo": {
     "status": "ok",
     "timestamp": 1694627376429,
     "user_tz": -120,
     "elapsed": 307,
     "user": {
      "displayName": "Daniel Senften",
      "userId": "05364229159230685820"
     }
    },
    "outputId": "694540d0-e294-4db5-ec6e-51617cdd5de0",
    "ExecuteTime": {
     "end_time": "2024-01-31T19:14:39.153888Z",
     "start_time": "2024-01-31T19:14:39.140579Z"
    }
   },
   "source": [
    "for i in range(0, 10):\n",
    "  print(i, fib_interval(i))"
   ],
   "execution_count": 17,
   "outputs": [
    {
     "name": "stdout",
     "output_type": "stream",
     "text": [
      "0 (0, 1)\n",
      "1 (0, 1)\n",
      "2 (1, 2)\n",
      "3 (2, 3)\n",
      "4 (3, 5)\n",
      "5 (3, 5)\n",
      "6 (5, 8)\n",
      "7 (5, 8)\n",
      "8 (5, 8)\n",
      "9 (8, 13)\n"
     ]
    }
   ]
  },
  {
   "cell_type": "markdown",
   "metadata": {
    "id": "l1Hol_qtU8uL"
   },
   "source": [
    "## Variable Anzahl von Parametern"
   ]
  },
  {
   "cell_type": "markdown",
   "metadata": {
    "id": "rn2ZfUmxVCmW"
   },
   "source": [
    "Man hat sehr häufig Fälle, in denen die Anzahl der beim Aufruf nötigen Parameter nicht bekannt ist. Im Folgenden zeigen wir, wie man Funktionen definiert, die mit einer beliebigen Anzahl von Argumenten aufgerufen werden können."
   ]
  },
  {
   "cell_type": "code",
   "metadata": {
    "id": "BI2hC6enVfge",
    "executionInfo": {
     "status": "ok",
     "timestamp": 1694627487641,
     "user_tz": -120,
     "elapsed": 322,
     "user": {
      "displayName": "Daniel Senften",
      "userId": "05364229159230685820"
     }
    },
    "ExecuteTime": {
     "end_time": "2024-01-31T19:19:13.282148Z",
     "start_time": "2024-01-31T19:19:13.277393Z"
    }
   },
   "source": [
    "def variable_arguments(*argument):\n",
    "  print(argument)"
   ],
   "execution_count": 18,
   "outputs": []
  },
  {
   "cell_type": "code",
   "metadata": {
    "id": "gKj91jneVp5y",
    "colab": {
     "base_uri": "https://localhost:8080/"
    },
    "executionInfo": {
     "status": "ok",
     "timestamp": 1694627502054,
     "user_tz": -120,
     "elapsed": 230,
     "user": {
      "displayName": "Daniel Senften",
      "userId": "05364229159230685820"
     }
    },
    "outputId": "4b563aa2-3f3b-42aa-aa35-c08d07ef023f",
    "ExecuteTime": {
     "end_time": "2024-01-31T19:19:25.794071Z",
     "start_time": "2024-01-31T19:19:25.782134Z"
    }
   },
   "source": [
    "variable_arguments()"
   ],
   "execution_count": 19,
   "outputs": [
    {
     "name": "stdout",
     "output_type": "stream",
     "text": [
      "()\n"
     ]
    }
   ]
  },
  {
   "cell_type": "code",
   "metadata": {
    "id": "5hmBPQ4bVrl5",
    "colab": {
     "base_uri": "https://localhost:8080/"
    },
    "executionInfo": {
     "status": "ok",
     "timestamp": 1694627544875,
     "user_tz": -120,
     "elapsed": 269,
     "user": {
      "displayName": "Daniel Senften",
      "userId": "05364229159230685820"
     }
    },
    "outputId": "77fbd7b0-9ea2-4d2e-e4fa-67dc2ce084e9",
    "ExecuteTime": {
     "end_time": "2024-01-31T19:20:20.097286Z",
     "start_time": "2024-01-31T19:20:20.038016Z"
    }
   },
   "source": [
    "variable_arguments(34, 'Do you like Python?', 'Yes, I do!', [1, 2], 3.14159)"
   ],
   "execution_count": 20,
   "outputs": [
    {
     "name": "stdout",
     "output_type": "stream",
     "text": [
      "(34, 'Do you like Python?', 'Yes, I do!', [1, 2], 3.14159)\n"
     ]
    }
   ]
  },
  {
   "cell_type": "markdown",
   "metadata": {
    "id": "CpG60yWFV_Vx"
   },
   "source": [
    "Wir erkennen, dass die beim Aufruf an `variable_arguments` übergebenen Argumente in einem Tupel gesammelt werden. Auf dieses Tupel kann als „normale” Variable im Rumpf der Funktion zugegriffen werden. Ruft man die Funktion ohne jegliche Argumente auf, so ist $x$ ein leeres Tupel."
   ]
  },
  {
   "cell_type": "code",
   "metadata": {
    "id": "qt9W0DrPWO-h",
    "executionInfo": {
     "status": "ok",
     "timestamp": 1694627889335,
     "user_tz": -120,
     "elapsed": 294,
     "user": {
      "displayName": "Daniel Senften",
      "userId": "05364229159230685820"
     }
    },
    "ExecuteTime": {
     "end_time": "2024-01-31T19:22:33.028934Z",
     "start_time": "2024-01-31T19:22:32.957914Z"
    }
   },
   "source": [
    "def locations(city, *other_cities):\n",
    "  print(city, other_cities)"
   ],
   "execution_count": 26,
   "outputs": []
  },
  {
   "cell_type": "code",
   "metadata": {
    "id": "QFS8JFnOWbHJ",
    "colab": {
     "base_uri": "https://localhost:8080/"
    },
    "executionInfo": {
     "status": "ok",
     "timestamp": 1694627890849,
     "user_tz": -120,
     "elapsed": 262,
     "user": {
      "displayName": "Daniel Senften",
      "userId": "05364229159230685820"
     }
    },
    "outputId": "99b37e2c-7a12-44b3-d3d7-00873fc29f6b",
    "ExecuteTime": {
     "end_time": "2024-01-31T19:22:35.739016Z",
     "start_time": "2024-01-31T19:22:35.726027Z"
    }
   },
   "source": [
    "locations('Berlin')"
   ],
   "execution_count": 27,
   "outputs": [
    {
     "name": "stdout",
     "output_type": "stream",
     "text": [
      "Berlin ()\n"
     ]
    }
   ]
  },
  {
   "cell_type": "code",
   "metadata": {
    "id": "4mr_8bAzWf8J",
    "colab": {
     "base_uri": "https://localhost:8080/"
    },
    "executionInfo": {
     "status": "ok",
     "timestamp": 1694627905096,
     "user_tz": -120,
     "elapsed": 348,
     "user": {
      "displayName": "Daniel Senften",
      "userId": "05364229159230685820"
     }
    },
    "outputId": "94675706-ff18-46d6-ec29-b3babab703fb",
    "ExecuteTime": {
     "end_time": "2024-01-31T19:22:48.901737Z",
     "start_time": "2024-01-31T19:22:48.870096Z"
    }
   },
   "source": [
    "locations('Berlin', 'Freiburg', 'Stuttgart', 'Düsseldorf', 'Bern', \"Basel\")"
   ],
   "execution_count": 28,
   "outputs": [
    {
     "name": "stdout",
     "output_type": "stream",
     "text": [
      "Berlin ('Freiburg', 'Stuttgart', 'Düsseldorf', 'Bern', 'Basel')\n"
     ]
    }
   ]
  },
  {
   "cell_type": "markdown",
   "metadata": {
    "id": "9G-UDE9UWwfn"
   },
   "source": [
    "Wir wollen dies an einem sinnvolleren Beispiel veranschaulichen. Wir schreiben dazu eine Funktion, die das arithmetische Mittel aus einer variablen Anzahl von Werten berechnet:"
   ]
  },
  {
   "cell_type": "code",
   "metadata": {
    "id": "vRbT8C98Wyj-",
    "executionInfo": {
     "status": "ok",
     "timestamp": 1694627975066,
     "user_tz": -120,
     "elapsed": 4,
     "user": {
      "displayName": "Daniel Senften",
      "userId": "05364229159230685820"
     }
    },
    "ExecuteTime": {
     "end_time": "2024-01-31T19:25:15.807014Z",
     "start_time": "2024-01-31T19:25:15.769752Z"
    }
   },
   "source": [
    "def mean(first, *others):\n",
    "  return(first + sum(others)) / (1 + len(others))"
   ],
   "execution_count": 29,
   "outputs": []
  },
  {
   "cell_type": "code",
   "metadata": {
    "id": "tHBCWZMgXFIg",
    "colab": {
     "base_uri": "https://localhost:8080/"
    },
    "executionInfo": {
     "status": "ok",
     "timestamp": 1694628082111,
     "user_tz": -120,
     "elapsed": 500,
     "user": {
      "displayName": "Daniel Senften",
      "userId": "05364229159230685820"
     }
    },
    "outputId": "46ba96dd-2bf8-4c12-a024-52a7a90ad076",
    "ExecuteTime": {
     "end_time": "2024-01-31T19:25:19.357080Z",
     "start_time": "2024-01-31T19:25:19.310951Z"
    }
   },
   "source": [
    "mean(1)"
   ],
   "execution_count": 30,
   "outputs": [
    {
     "data": {
      "text/plain": "1.0"
     },
     "execution_count": 30,
     "metadata": {},
     "output_type": "execute_result"
    }
   ]
  },
  {
   "cell_type": "code",
   "metadata": {
    "id": "Gz1B_C4JXGxG",
    "colab": {
     "base_uri": "https://localhost:8080/"
    },
    "executionInfo": {
     "status": "ok",
     "timestamp": 1694628151755,
     "user_tz": -120,
     "elapsed": 258,
     "user": {
      "displayName": "Daniel Senften",
      "userId": "05364229159230685820"
     }
    },
    "outputId": "d517fc52-2155-4aa0-9f3f-fab53e8710a4",
    "ExecuteTime": {
     "end_time": "2024-01-31T19:25:46.748340Z",
     "start_time": "2024-01-31T19:25:46.681864Z"
    }
   },
   "source": [
    "mean(4, 5, 6, 7, 8, 3.14159)"
   ],
   "execution_count": 33,
   "outputs": [
    {
     "data": {
      "text/plain": "5.523598333333333"
     },
     "execution_count": 33,
     "metadata": {},
     "output_type": "execute_result"
    }
   ]
  },
  {
   "cell_type": "code",
   "metadata": {
    "id": "5I3Z2H4eXJiF",
    "colab": {
     "base_uri": "https://localhost:8080/"
    },
    "executionInfo": {
     "status": "ok",
     "timestamp": 1694628263356,
     "user_tz": -120,
     "elapsed": 268,
     "user": {
      "displayName": "Daniel Senften",
      "userId": "05364229159230685820"
     }
    },
    "outputId": "a910e2d9-99c1-4abd-b66a-12a48cc73ff2",
    "ExecuteTime": {
     "end_time": "2024-01-31T19:26:11.442869Z",
     "start_time": "2024-01-31T19:26:11.430356Z"
    }
   },
   "source": [
    "mean(35, 89, 103, 1, 17, 44, 12, 9, 4711, 3.14159)"
   ],
   "execution_count": 34,
   "outputs": [
    {
     "data": {
      "text/plain": "502.41415900000004"
     },
     "execution_count": 34,
     "metadata": {},
     "output_type": "execute_result"
    }
   ]
  },
  {
   "cell_type": "markdown",
   "metadata": {
    "id": "0vIzN1v_XW9V"
   },
   "source": [
    "Wie sieht es aber nun aus, wenn wir das arithmetische Mittel einer Liste oder eines Tupel berechnen wollen? Ruft man die Funktion mit einer Liste oder einem Tupel als Argument statt mit einer variablen Anzahl von Zahlen auf, wird ein Fehler generiert:"
   ]
  },
  {
   "cell_type": "code",
   "metadata": {
    "id": "lvBEoNkjXlPi",
    "ExecuteTime": {
     "end_time": "2024-01-31T19:27:52.144649Z",
     "start_time": "2024-01-31T19:27:52.130560Z"
    }
   },
   "source": [
    "lst = [35, 89, 103, 1, 17, 44, 12, 9, 4711, 3.14159]\n",
    "\n",
    "mean(lst)"
   ],
   "execution_count": 35,
   "outputs": [
    {
     "ename": "TypeError",
     "evalue": "can only concatenate list (not \"int\") to list",
     "output_type": "error",
     "traceback": [
      "\u001B[0;31m---------------------------------------------------------------------------\u001B[0m",
      "\u001B[0;31mTypeError\u001B[0m                                 Traceback (most recent call last)",
      "Cell \u001B[0;32mIn[35], line 3\u001B[0m\n\u001B[1;32m      1\u001B[0m lst \u001B[38;5;241m=\u001B[39m [\u001B[38;5;241m35\u001B[39m, \u001B[38;5;241m89\u001B[39m, \u001B[38;5;241m103\u001B[39m, \u001B[38;5;241m1\u001B[39m, \u001B[38;5;241m17\u001B[39m, \u001B[38;5;241m44\u001B[39m, \u001B[38;5;241m12\u001B[39m, \u001B[38;5;241m9\u001B[39m, \u001B[38;5;241m4711\u001B[39m, \u001B[38;5;241m3.14159\u001B[39m]\n\u001B[0;32m----> 3\u001B[0m \u001B[43mmean\u001B[49m\u001B[43m(\u001B[49m\u001B[43mlst\u001B[49m\u001B[43m)\u001B[49m\n",
      "Cell \u001B[0;32mIn[29], line 2\u001B[0m, in \u001B[0;36mmean\u001B[0;34m(first, *others)\u001B[0m\n\u001B[1;32m      1\u001B[0m \u001B[38;5;28;01mdef\u001B[39;00m \u001B[38;5;21mmean\u001B[39m(first, \u001B[38;5;241m*\u001B[39mothers):\n\u001B[0;32m----> 2\u001B[0m   \u001B[38;5;28;01mreturn\u001B[39;00m(\u001B[43mfirst\u001B[49m\u001B[43m \u001B[49m\u001B[38;5;241;43m+\u001B[39;49m\u001B[43m \u001B[49m\u001B[38;5;28;43msum\u001B[39;49m\u001B[43m(\u001B[49m\u001B[43mothers\u001B[49m\u001B[43m)\u001B[49m) \u001B[38;5;241m/\u001B[39m (\u001B[38;5;241m1\u001B[39m \u001B[38;5;241m+\u001B[39m \u001B[38;5;28mlen\u001B[39m(others))\n",
      "\u001B[0;31mTypeError\u001B[0m: can only concatenate list (not \"int\") to list"
     ]
    }
   ]
  },
  {
   "cell_type": "markdown",
   "metadata": {
    "id": "LKs5I3mpXv1X"
   },
   "source": [
    "Die Lösung besteht in der Benutzung eines weiteren Sternchens:"
   ]
  },
  {
   "cell_type": "code",
   "metadata": {
    "id": "yV9O6RzkXzeR",
    "colab": {
     "base_uri": "https://localhost:8080/"
    },
    "executionInfo": {
     "status": "ok",
     "timestamp": 1694628663654,
     "user_tz": -120,
     "elapsed": 355,
     "user": {
      "displayName": "Daniel Senften",
      "userId": "05364229159230685820"
     }
    },
    "outputId": "1565cb94-e4c0-4f64-d328-44d99ac53f21",
    "ExecuteTime": {
     "end_time": "2024-01-31T19:29:19.596943Z",
     "start_time": "2024-01-31T19:29:19.552894Z"
    }
   },
   "source": [
    "mean(*lst)"
   ],
   "execution_count": 36,
   "outputs": [
    {
     "data": {
      "text/plain": "502.41415900000004"
     },
     "execution_count": 36,
     "metadata": {},
     "output_type": "execute_result"
    }
   ]
  },
  {
   "cell_type": "markdown",
   "metadata": {
    "id": "eYYhFt9VX78N"
   },
   "source": [
    "## * in Funktionen"
   ]
  },
  {
   "cell_type": "markdown",
   "metadata": {
    "id": "o1oU44NLYiEg"
   },
   "source": [
    "Häufig wird jedoch sowohl in der Definition als auch beim Aufruf einer Funktion ein Sternchen verwendet. Beim Aufruf werden dann Tupel oder Listen entpackt, und bei der Definition werden beliebig viele Argumente in ein Tupel gepackt:"
   ]
  },
  {
   "cell_type": "code",
   "metadata": {
    "id": "YGYACoteYlbn",
    "executionInfo": {
     "status": "ok",
     "timestamp": 1694628754866,
     "user_tz": -120,
     "elapsed": 24,
     "user": {
      "displayName": "Daniel Senften",
      "userId": "05364229159230685820"
     }
    },
    "ExecuteTime": {
     "end_time": "2024-01-31T19:30:55.021381Z",
     "start_time": "2024-01-31T19:30:55.006816Z"
    }
   },
   "source": [
    "def function(*args):\n",
    "  return args"
   ],
   "execution_count": 37,
   "outputs": []
  },
  {
   "cell_type": "code",
   "metadata": {
    "id": "1ZTVq-16YqSm",
    "colab": {
     "base_uri": "https://localhost:8080/"
    },
    "executionInfo": {
     "status": "ok",
     "timestamp": 1694628763324,
     "user_tz": -120,
     "elapsed": 439,
     "user": {
      "displayName": "Daniel Senften",
      "userId": "05364229159230685820"
     }
    },
    "outputId": "9c999204-01a3-490a-bfb8-00d85bb351ba",
    "ExecuteTime": {
     "end_time": "2024-01-31T19:31:01.857332Z",
     "start_time": "2024-01-31T19:31:01.756646Z"
    }
   },
   "source": [
    "function(3, 4, 5, 6) # In der Funktion f werden die Werte ins Tupel"
   ],
   "execution_count": 38,
   "outputs": [
    {
     "data": {
      "text/plain": "(3, 4, 5, 6)"
     },
     "execution_count": 38,
     "metadata": {},
     "output_type": "execute_result"
    }
   ]
  },
  {
   "cell_type": "code",
   "metadata": {
    "id": "MZlIIw45Y3xX",
    "colab": {
     "base_uri": "https://localhost:8080/"
    },
    "executionInfo": {
     "status": "ok",
     "timestamp": 1694628793000,
     "user_tz": -120,
     "elapsed": 423,
     "user": {
      "displayName": "Daniel Senften",
      "userId": "05364229159230685820"
     }
    },
    "outputId": "96ef6e8d-91a4-4bc3-b300-66b98836ea1f",
    "ExecuteTime": {
     "end_time": "2024-01-31T19:31:18.809152Z",
     "start_time": "2024-01-31T19:31:18.774001Z"
    }
   },
   "source": [
    "lst = [4, 6, 12]\n",
    "\n",
    "function(*lst)       # Liste lst wird entpackt, und dann werden die Werte in args gepackt"
   ],
   "execution_count": 39,
   "outputs": [
    {
     "data": {
      "text/plain": "(4, 6, 12)"
     },
     "execution_count": 39,
     "metadata": {},
     "output_type": "execute_result"
    }
   ]
  },
  {
   "cell_type": "markdown",
   "metadata": {
    "id": "l11Ee2b3ZQy9"
   },
   "source": [
    "## Beliebige Schlüsselwortparameter"
   ]
  },
  {
   "cell_type": "markdown",
   "metadata": {
    "id": "oov2UtX-ZW2r"
   },
   "source": [
    "Es gibt auch einen Mechanismus für eine beliebige Anzahl von Schlüsselwortparametern. Um dies zu ermöglichen, wurde als Notation ein doppeltes Sternchen `**` eingeführt:\n"
   ]
  },
  {
   "cell_type": "code",
   "metadata": {
    "id": "d1-WzslbZeNF",
    "executionInfo": {
     "status": "ok",
     "timestamp": 1694629013410,
     "user_tz": -120,
     "elapsed": 788,
     "user": {
      "displayName": "Daniel Senften",
      "userId": "05364229159230685820"
     }
    },
    "ExecuteTime": {
     "end_time": "2024-01-31T19:32:52.957Z",
     "start_time": "2024-01-31T19:32:52.950321Z"
    }
   },
   "source": [
    "def foo(*args, **kwargs):\n",
    "  print(f'args:   {args}')\n",
    "  print(f'kwargs: {kwargs}')"
   ],
   "execution_count": 40,
   "outputs": []
  },
  {
   "cell_type": "markdown",
   "source": [],
   "metadata": {
    "collapsed": false
   }
  },
  {
   "cell_type": "code",
   "metadata": {
    "id": "4YqDSk-XZrPR",
    "colab": {
     "base_uri": "https://localhost:8080/"
    },
    "executionInfo": {
     "status": "ok",
     "timestamp": 1694629015542,
     "user_tz": -120,
     "elapsed": 9,
     "user": {
      "displayName": "Daniel Senften",
      "userId": "05364229159230685820"
     }
    },
    "outputId": "1c07d72f-9144-4eb2-94d7-0eb088d58f82",
    "ExecuteTime": {
     "end_time": "2024-01-31T19:36:50.262775Z",
     "start_time": "2024-01-31T19:36:50.255267Z"
    }
   },
   "source": [
    "my_list = 42, [89, 12]\n",
    "foo('Daniel', *my_list, 3.14159, x=17, name='Hello', z=[3, 8, 9], args=47, first_name='Daniel')"
   ],
   "execution_count": 44,
   "outputs": [
    {
     "name": "stdout",
     "output_type": "stream",
     "text": [
      "args:   ('Daniel', 42, [89, 12], 3.14159)\n",
      "kwargs: {'x': 17, 'name': 'Hello', 'z': [3, 8, 9], 'args': 47, 'first_name': 'Daniel'}\n"
     ]
    }
   ]
  },
  {
   "cell_type": "markdown",
   "metadata": {
    "id": "0VO9MQpAavMb"
   },
   "source": [
    "## Aufgaben"
   ]
  },
  {
   "cell_type": "markdown",
   "metadata": {
    "id": "VTP-zSF5bGHW"
   },
   "source": [
    "### 1. Aufgabe"
   ]
  },
  {
   "cell_type": "markdown",
   "metadata": {
    "id": "iabMyLx4bSLm"
   },
   "source": [
    "Schreiben Sie eine Funktion `is_palindrome`, die prüft, ob es sich bei einer übergebenen Zeichenkette um ein Palindrom handelt.\n",
    "\n",
    "**Anmerkung**: Ein Palindrom ist eine Zeichenkette, die von vorne und von hinten gelesen gleich bleibt, wie beispielsweise die Namen `Anna` und `Otto` oder die Wörter `Reittier` und `Lagerregal`. Das längste deutsche Ein-Wort-Palindrom lautet `Reliefpfeiler`. Palindrome müssen nicht nur aus Buchstaben bestehen. Es gibt auch Zahlenpalindrome, wie etwa 24742."
   ]
  },
  {
   "cell_type": "markdown",
   "metadata": {
    "id": "5-ib5Tt9bLBq"
   },
   "source": [
    "#### Lösung"
   ]
  },
  {
   "cell_type": "markdown",
   "metadata": {
    "id": "Fu8VlPKbcjch"
   },
   "source": [
    "Lauer entsprechendDie einfachste Lösung lässt sich unter Benutzung des Teilbereichsoperators mit negativem dritten Index erzielen:"
   ]
  },
  {
   "cell_type": "code",
   "metadata": {
    "id": "QfGtt5rNcajX",
    "ExecuteTime": {
     "end_time": "2024-01-31T19:54:39.703787Z",
     "start_time": "2024-01-31T19:54:39.657269Z"
    }
   },
   "source": [
    "def is_palindrome(word):\n",
    "  word = word.lower()\n",
    "  return word == word[::-1]"
   ],
   "execution_count": 1,
   "outputs": []
  },
  {
   "cell_type": "code",
   "metadata": {
    "id": "0w0drX-Ac_8Q",
    "colab": {
     "base_uri": "https://localhost:8080/"
    },
    "executionInfo": {
     "status": "ok",
     "timestamp": 1688408847634,
     "user_tz": -120,
     "elapsed": 2,
     "user": {
      "displayName": "Daniel Senften",
      "userId": "05364229159230685820"
     }
    },
    "outputId": "983054ff-aa44-46fe-b593-aaec67e17b8f",
    "ExecuteTime": {
     "end_time": "2024-01-31T19:55:05.069813Z",
     "start_time": "2024-01-31T19:55:04.966189Z"
    }
   },
   "source": [
    "is_palindrome('Daniel')"
   ],
   "execution_count": 2,
   "outputs": [
    {
     "data": {
      "text/plain": "False"
     },
     "execution_count": 2,
     "metadata": {},
     "output_type": "execute_result"
    }
   ]
  },
  {
   "cell_type": "code",
   "metadata": {
    "id": "96jpUdEIdKqh",
    "colab": {
     "base_uri": "https://localhost:8080/"
    },
    "executionInfo": {
     "status": "ok",
     "timestamp": 1688408850313,
     "user_tz": -120,
     "elapsed": 659,
     "user": {
      "displayName": "Daniel Senften",
      "userId": "05364229159230685820"
     }
    },
    "outputId": "25305b8a-ee00-4bc8-d3e5-04e3df68f200"
   },
   "source": [
    "is_palindrome('Reittier')"
   ],
   "execution_count": null,
   "outputs": [
    {
     "output_type": "execute_result",
     "data": {
      "text/plain": [
       "True"
      ]
     },
     "metadata": {},
     "execution_count": 55
    }
   ]
  },
  {
   "cell_type": "markdown",
   "metadata": {
    "id": "s5LpFz8Ydftj"
   },
   "source": [
    "### 2. Aufgabe"
   ]
  },
  {
   "cell_type": "markdown",
   "metadata": {
    "id": "my5yrI98dnIK"
   },
   "source": [
    "Es gibt auch Satzpalindrome. Auch hier gilt, dass sie vorwärts und rückwärts gelesen gleich sind. Aber bei Satzpalindromen gilt die Besonderheit, dass Leerzeichen und Sonderzeichen gegebenenfalls ignoriert bzw. eingefügt werden:"
   ]
  },
  {
   "cell_type": "markdown",
   "metadata": {
    "id": "arTY3LKUd9WR"
   },
   "source": [
    "**Beispiele:**\n",
    "```\n",
    "Ein Eis esse sie nie.\n",
    "```\n",
    "\n",
    "````\n",
    "Ein Esel lese nie.\n",
    "````\n",
    "\n",
    "```\n",
    "Nein, kann Anna knien?\n",
    "```\n",
    "\n"
   ]
  },
  {
   "cell_type": "markdown",
   "metadata": {
    "id": "io1fbDMEeGlG"
   },
   "source": [
    "Erweitern Sie Ihre Funktion `is_palindrome`, dass sie auch Satzpalindrome prüfen kann."
   ]
  },
  {
   "cell_type": "markdown",
   "metadata": {
    "id": "ua2q_qyOdikH"
   },
   "source": [
    "#### Lösung"
   ]
  },
  {
   "cell_type": "code",
   "metadata": {
    "id": "RhlQ8KfjeUwk",
    "ExecuteTime": {
     "end_time": "2024-01-31T20:08:41.944399Z",
     "start_time": "2024-01-31T20:08:41.934509Z"
    }
   },
   "source": [
    "def is_epalindrome(sentence):\n",
    "    \"\"\"\n",
    "    Check if the given sentence is an epalindrome.\n",
    "\n",
    "    :param sentence: The sentence to check.\n",
    "    :type sentence: str\n",
    "    :return: True if the sentence is an epalindrome, False otherwise.\n",
    "    :rtype: bool\n",
    "    \"\"\"\n",
    "    left = 0\n",
    "    right = -1\n",
    "    middle = len(sentence) // 2\n",
    "    sentence = sentence.lower()\n",
    "\n",
    "    while True:\n",
    "        while left <= middle and not sentence[left].isalpha():\n",
    "            left += 1\n",
    "        while -right <= middle and not sentence[right].isalpha():\n",
    "            right -= 1\n",
    "        if left <= middle and -right <= middle:\n",
    "            if sentence[left] != sentence[right]:\n",
    "                return False\n",
    "            left, right = left + 1, right - 1\n",
    "        else:\n",
    "            return True"
   ],
   "execution_count": 3,
   "outputs": []
  },
  {
   "cell_type": "code",
   "metadata": {
    "id": "2FWBKx4IeYTE",
    "ExecuteTime": {
     "end_time": "2024-01-31T20:08:45.285146Z",
     "start_time": "2024-01-31T20:08:45.280787Z"
    }
   },
   "source": [
    "words = (\"Anna\", \"Lager\", \"Reittier\", \"Lagerregal\", \"x\", \"aka\")"
   ],
   "execution_count": 4,
   "outputs": []
  },
  {
   "cell_type": "code",
   "metadata": {
    "id": "s1jcyf4Kea6P",
    "ExecuteTime": {
     "end_time": "2024-01-31T20:08:48.579279Z",
     "start_time": "2024-01-31T20:08:48.533157Z"
    }
   },
   "source": [
    "phrases = (\n",
    "    \"Oh, ello voll Echo!\",\n",
    "    \"Nein, kann Anna knien?\",\n",
    "    \"Ein Esel lese nie.\",\n",
    ")"
   ],
   "execution_count": 5,
   "outputs": []
  },
  {
   "cell_type": "code",
   "metadata": {
    "id": "lj-62uEfelYr",
    "colab": {
     "base_uri": "https://localhost:8080/"
    },
    "executionInfo": {
     "status": "ok",
     "timestamp": 1688409053581,
     "user_tz": -120,
     "elapsed": 468,
     "user": {
      "displayName": "Daniel Senften",
      "userId": "05364229159230685820"
     }
    },
    "outputId": "679ce815-c4f3-418d-9f55-87ac86481201",
    "ExecuteTime": {
     "end_time": "2024-01-31T20:08:50.267978Z",
     "start_time": "2024-01-31T20:08:50.258688Z"
    }
   },
   "source": [
    "for phrase in phrases + words:\n",
    "    print(f\"'{phrase}' -\", end=\" Ist \")\n",
    "    if is_epalindrome(phrase):\n",
    "        print(\"ein Palindrom!\")\n",
    "    else:\n",
    "        print(\"kein Palindrom!\")"
   ],
   "execution_count": 6,
   "outputs": [
    {
     "name": "stdout",
     "output_type": "stream",
     "text": [
      "'Oh, ello voll Echo!' - Ist kein Palindrom!\n",
      "'Nein, kann Anna knien?' - Ist ein Palindrom!\n",
      "'Ein Esel lese nie.' - Ist ein Palindrom!\n",
      "'Anna' - Ist ein Palindrom!\n",
      "'Lager' - Ist kein Palindrom!\n",
      "'Reittier' - Ist ein Palindrom!\n",
      "'Lagerregal' - Ist ein Palindrom!\n",
      "'x' - Ist ein Palindrom!\n",
      "'aka' - Ist ein Palindrom!\n"
     ]
    }
   ]
  },
  {
   "cell_type": "markdown",
   "source": [
    "Hier noch ein vereinfachter Vorschlag von **Béla Csikos**."
   ],
   "metadata": {
    "collapsed": false
   }
  },
  {
   "cell_type": "code",
   "outputs": [
    {
     "name": "stdout",
     "output_type": "stream",
     "text": [
      "'Oh, ello voll Echo!' - Ist kein Palindrom!\n",
      "'Nein, kann Anna knien?' - Ist ein Palindrom!\n",
      "'Ein Esel lese nie.' - Ist ein Palindrom!\n",
      "'Anna' - Ist ein Palindrom!\n",
      "'Lager' - Ist kein Palindrom!\n",
      "'Reittier' - Ist ein Palindrom!\n",
      "'Lagerregal' - Ist ein Palindrom!\n",
      "'x' - Ist ein Palindrom!\n",
      "'aka' - Ist ein Palindrom!\n"
     ]
    }
   ],
   "source": [
    "def sentence_palindrome(word):\n",
    "    word = ''.join(char.lower() for char in word if char.isalpha())\n",
    "    return word == word[::-1]\n",
    "\n",
    "\n",
    "for phrase in phrases + words:\n",
    "    print(f\"'{phrase}' -\", end=\" Ist \")\n",
    "    if sentence_palindrome(phrase):\n",
    "        print(\"ein Palindrom!\")\n",
    "    else:\n",
    "        print(\"kein Palindrom!\")"
   ],
   "metadata": {
    "collapsed": false,
    "ExecuteTime": {
     "end_time": "2024-01-31T20:55:10.625643Z",
     "start_time": "2024-01-31T20:55:10.605919Z"
    }
   },
   "execution_count": 9
  }
 ]
}
