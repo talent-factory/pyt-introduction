{
 "cells": [
  {
   "cell_type": "markdown",
   "source": [
    "# Einführung in Python\n",
    "\n",
    "Python ist eine hochrangige, interpretierte und allgemeine Programmiersprache, die 1991 von Guido van Rossum entwickelt wurde. Sie legt besonderen Wert auf Code-Lesbarkeit und ermöglicht es Programmierern, Konzepte in weniger Code-Zeilen auszudrücken als in Sprachen wie C++ oder Java. Die Sprache bietet Konstrukte, die es ermöglichen, klare Programme zu schreiben, sowohl auf kleiner als auch auf grosser Skala.\n",
    "\n",
    "Der Hauptunterschied zwischen einer kompilierten Sprache und einer Skriptsprache liegt in der Ausführung der Programme. Bei kompilierten Sprachen wird der Code vor der Ausführung komplett in Maschinen-Code übersetzt. Bei Skriptsprachen hingegen wird der Code Zeile für Zeile während der Laufzeit interpretiert. Python ist eine interpretierte Sprache, was ihr eine gewisse Flexibilität verschafft, allerdings auf Kosten der Performance.\n",
    "\n",
    "Python wird in diversen Anwendungsfällen eingesetzt. Es wird häufig als (_Glue_-) Sprache verwendet, um existierende Komponenten zusammenzuführen. Es ist auch sehr gut für den Einsatz in Datenanalyse, künstlicher Intelligenz, maschinellem Lernen und Webentwicklung geeignet. In Bezug auf seine Systemintegration und Textverarbeitungsfähigkeiten ist Python besonders stark.\n",
    "\n",
    "Die Zukunft von Python sieht recht positiv aus. Es wird von einer aktiven Community unterstützt und seine Popularität hat in den letzten Jahren zunehmend zugenommen. Sicherlich hat jede der Sprachen C, C++, C# und Java ihre eigene Nische und wird in bestimmten Anwendungsfällen bevorzugt. Aber die Tatsache, dass Python eine einfach zu lernende und anzuwendende Sprache ist, macht sie zu einer attraktiven Wahl für viele Anwendungsfälle, besonders für Anfänger in der Programmierung. Python wird wahrscheinlich weiterhin ein wichtiger Spieler in der Welt der Programmiersprachen bleiben."
   ],
   "metadata": {
    "collapsed": false
   },
   "id": "d09b729ca6857d8b"
  },
  {
   "cell_type": "code",
   "outputs": [
    {
     "name": "stdout",
     "output_type": "stream",
     "text": [
      "Hello\n"
     ]
    }
   ],
   "source": [
    "print(\"Hello\")"
   ],
   "metadata": {
    "collapsed": true,
    "ExecuteTime": {
     "end_time": "2024-01-16T09:59:09.729627Z",
     "start_time": "2024-01-16T09:59:09.685299Z"
    }
   },
   "id": "initial_id",
   "execution_count": 11
  },
  {
   "cell_type": "code",
   "outputs": [],
   "source": [
    "# Test"
   ],
   "metadata": {
    "collapsed": false,
    "ExecuteTime": {
     "end_time": "2024-01-16T09:59:09.834729Z",
     "start_time": "2024-01-16T09:59:09.723148Z"
    }
   },
   "id": "71df80cca66f9053",
   "execution_count": 12
  },
  {
   "cell_type": "markdown",
   "source": [
    "# Referenzen\n",
    "\n",
    "- [Python.org](https://www.python.org/) - _Downloads_, Dokumentation, Einfühungen $\\ldots$"
   ],
   "metadata": {
    "collapsed": false
   },
   "id": "1f9a135e1e9c16ee"
  }
 ],
 "metadata": {
  "kernelspec": {
   "display_name": "Python 3",
   "language": "python",
   "name": "python3"
  },
  "language_info": {
   "codemirror_mode": {
    "name": "ipython",
    "version": 2
   },
   "file_extension": ".py",
   "mimetype": "text/x-python",
   "name": "python",
   "nbconvert_exporter": "python",
   "pygments_lexer": "ipython2",
   "version": "2.7.6"
  }
 },
 "nbformat": 4,
 "nbformat_minor": 5
}
