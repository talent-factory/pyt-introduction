{
 "cells": [
  {
   "cell_type": "markdown",
   "source": [
    "# Einführung in Python\n",
    "\n",
    "Python ist eine hochrangige, interpretierte und allgemeine Programmiersprache, die 1991 von Guido van Rossum entwickelt wurde. Sie legt besonderen Wert auf Code-Lesbarkeit und ermöglicht es Programmierern, Konzepte in weniger Code-Zeilen auszudrücken als in Sprachen wie C++ oder Java. Die Sprache bietet Konstrukte, die es ermöglichen, klare Programme zu schreiben, sowohl auf kleiner als auch auf grosser Skala.\n",
    "\n",
    "Der Hauptunterschied zwischen einer kompilierten Sprache und einer Skriptsprache liegt in der Ausführung der Programme. Bei kompilierten Sprachen wird der Code vor der Ausführung komplett in Maschinen-Code übersetzt. Bei Skriptsprachen hingegen wird der Code Zeile für Zeile während der Laufzeit interpretiert. Python ist eine interpretierte Sprache, was ihr eine gewisse Flexibilität verschafft, allerdings auf Kosten der Performance.\n",
    "\n",
    "Python wird in diversen Anwendungsfällen eingesetzt. Es wird häufig als (_Glue_-) Sprache verwendet, um existierende Komponenten zusammenzuführen. Es ist auch sehr gut für den Einsatz in Datenanalyse, künstlicher Intelligenz, maschinellem Lernen und Webentwicklung geeignet. In Bezug auf seine Systemintegration und Textverarbeitungsfähigkeiten ist Python besonders stark.\n",
    "\n",
    "Die Zukunft von Python sieht recht positiv aus. Es wird von einer aktiven Community unterstützt und seine Popularität hat in den letzten Jahren zunehmend zugenommen. Sicherlich hat jede der Sprachen C, C++, C# und Java ihre eigene Nische und wird in bestimmten Anwendungsfällen bevorzugt. Aber die Tatsache, dass Python eine einfach zu lernende und anzuwendende Sprache ist, macht sie zu einer attraktiven Wahl für viele Anwendungsfälle, besonders für Anfänger in der Programmierung. Python wird wahrscheinlich weiterhin ein wichtiger Spieler in der Welt der Programmiersprachen bleiben."
   ],
   "metadata": {
    "collapsed": false
   },
   "id": "d09b729ca6857d8b"
  },
  {
   "cell_type": "markdown",
   "source": [
    "## Was ist Python\n",
    "[Python](https://www.python.org/) ist eine moderne, objektorientierte Hochsprachenprogrammierung für allgemeine Zwecke.\n",
    "\n",
    "Allgemeine Eigenschaften von Python:\n",
    "* **Saubere und einfache Sprache**: Leicht zu lesender und intuitiver Code, einfach zu erlernende, minimalistische Syntax, gute Wartbarkeit, skalierbar mit der Größe der Projekte.\n",
    "* **Ausdrucksvolle Sprache**: Weniger Codezeilen, weniger Fehler, leichter zu pflegen.\n",
    "\n",
    "Technische Einzelheiten:\n",
    "* **Dynamisch typisiert**: Der Typ von Variablen, Funktionsargumenten oder Rückgabetypen muss nicht definiert werden.\n",
    "* **Automatische Speicherverwaltung**: Kein explizites Zuweisen und Freigeben von Speicher für Variablen und Datenarrays erforderlich. Keine Speicherleck-Fehler. \n",
    "* **Interpretiert**: Sie müssen den Code nicht kompilieren. Der Python-Interpreter liest und führt den Python-Code direkt aus.\n",
    "\n",
    "Vorteile:\n",
    "* Der Hauptvorteil ist die einfache Programmierung, die den Zeitaufwand für die Entwicklung, das Debugging und die Pflege des Codes minimiert.\n",
    "* Gut konzipierte Sprache, die viele gute Programmierpraktiken fördert:\n",
    "    * Modulare und objektorientierte Programmierung, gutes System für die Verpackung und Wiederverwendung von Code. Dies führt oft zu transparenterem, wartbarem und fehlerfreiem Code.\n",
    "    * Die Dokumentation ist eng in den Code integriert.\n",
    "* Eine umfangreiche Standardbibliothek und eine grosse Sammlung von Zusatzpaketen.\n",
    "\n",
    "Nachteile:\n",
    "* Da Python eine interpretierte und dynamisch typisierte Programmiersprache ist, kann die Ausführung von Python-Code im Vergleich zu kompilierten, statisch typisierten Programmiersprachen wie C und Fortran langsam sein. \n",
    "* Etwas dezentralisiert, mit verschiedenen Umgebungen, Paketen und Dokumentationen, die an verschiedenen Orten verteilt sind. Das kann den Einstieg erschweren."
   ],
   "metadata": {
    "collapsed": false
   },
   "id": "36fd4fdc4cfd6944"
  },
  {
   "cell_type": "markdown",
   "source": [
    "# Kommandos und Programme\n",
    "## Erste Schritte mit Python\n",
    "\n",
    "Wir beginnen den Kurs mit ein paar grundlegenden Python-Befehlen. Ein einfacher Befel in Python könnte das Drucken von Text auf dem Bildschirm sein."
   ],
   "metadata": {
    "collapsed": false
   },
   "id": "3c042b4ea21334a"
  },
  {
   "cell_type": "code",
   "outputs": [
    {
     "name": "stdout",
     "output_type": "stream",
     "text": [
      "Herzlich Willkommen zum Python-Kurs\n"
     ]
    }
   ],
   "source": [
    "print(\"Herzlich Willkommen zum Python-Kurs\")"
   ],
   "metadata": {
    "collapsed": false,
    "ExecuteTime": {
     "end_time": "2024-01-17T09:07:41.931111Z",
     "start_time": "2024-01-17T09:07:41.593441Z"
    }
   },
   "id": "54ac5528bdf8e61d",
   "execution_count": 8
  },
  {
   "cell_type": "markdown",
   "source": [
    "Ebenso können wir einfache mathematische Berechnungen durchführen."
   ],
   "metadata": {
    "collapsed": false
   },
   "id": "d96b7180d51e58a0"
  },
  {
   "cell_type": "code",
   "outputs": [
    {
     "name": "stdout",
     "output_type": "stream",
     "text": [
      "15\n"
     ]
    }
   ],
   "source": [
    "print(5 + 10)"
   ],
   "metadata": {
    "collapsed": true,
    "ExecuteTime": {
     "end_time": "2024-01-17T09:07:42.017942Z",
     "start_time": "2024-01-17T09:07:41.917627Z"
    }
   },
   "id": "initial_id",
   "execution_count": 9
  },
  {
   "cell_type": "markdown",
   "source": [
    "Oder eine Division:"
   ],
   "metadata": {
    "collapsed": false
   },
   "id": "f57760b074887192"
  },
  {
   "cell_type": "code",
   "outputs": [
    {
     "name": "stdout",
     "output_type": "stream",
     "text": [
      "5.0\n"
     ]
    }
   ],
   "source": [
    "print(10 / 2)"
   ],
   "metadata": {
    "collapsed": false,
    "ExecuteTime": {
     "end_time": "2024-01-17T09:07:42.159289Z",
     "start_time": "2024-01-17T09:07:42.018612Z"
    }
   },
   "id": "d5282d848bed0380",
   "execution_count": 10
  },
  {
   "cell_type": "markdown",
   "source": [
    "In diesen Beispielen wurde die Funktion `print()` aus der Standardbibliothek von Python verwendet. Hier spricht man auch von den sogenannten _built-in_ Funktionen, welche im Detail im [Handbuch](https://docs.python.org/3/library/functions.html) aufgeführt und beschrieben sind. \n",
    "\n",
    "Die Spezialzeichen, welche an dieser Stelle für die Addition (`+`) und Division (`/`) verwendet wurden werden Operatoren genannt. Eine komplette Auflistung der möglichen Operatoren sind [hier](https://docs.python.org/3/library/stdtypes.html#numeric-types-int-float-complex) zu finden. "
   ],
   "metadata": {
    "collapsed": false
   },
   "id": "1038bd24b8eb92ec"
  },
  {
   "cell_type": "markdown",
   "source": [
    "## Python Umgebungen\n",
    "Python-Skripte werden üblicherweise in eine mit einem Editor oder einer Interaktiven Entwiklungsumgebung (IDE) in einer Datei abgelegt.\n",
    "Hier nur einige Beispiele möglicher Umgebungen:\n",
    "\n",
    "- [PyCharm](https://www.jetbrains.com/pycharm/) \n",
    "- [Visual Studio Code](https://code.visualstudio.com/) \n",
    "- [Spyder](https://www.spyder-ide.org/) "
   ],
   "metadata": {
    "collapsed": false
   },
   "id": "3a9689f7a2c79d3c"
  },
  {
   "cell_type": "markdown",
   "source": [
    "### Python Interpreter\n",
    "Die Standardmethode zur Verwendung der Programmiersprache Python ist die Verwendung des Python-Interpreters zur Ausführung von Python-Code. Der Python-Interpreter ist ein Programm, das den Python-Code in Dateien liest und ausführt, die ihm als Argumente übergeben werden. An der Eingabeaufforderung wird der Befehl `python` verwendet, um den Python-Interpreter aufzurufen.\n",
    "\n",
    "Um zum Beispiel eine Datei [hello.py](scripts/hello.py), die Python-Code enthält, von der Eingabeaufforderung aus zu starten, verwenden wir:\n",
    "\n",
    "<br>\n",
    "\n",
    "    $ python hello.py\n",
    "\n",
    "Wir können den Interpreter auch einfach durch die Eingabe von `python` in der Befehlszeile starten und interaktiv python-Code in den Interpreter eingeben.\n",
    "\n",
    "<br>\n",
    "<img src=\"./images/python-screenshot.png\" width=\"840\">\n",
    "\n",
    "So wollen wir oft arbeiten, wenn wir wissenschaftliche Anwendungen entwickeln oder kleine Berechnungen durchführen. Aber der Standard-Python-Interpreter ist für diese Art von Arbeit aufgrund einer Reihe von Einschränkungen nicht sehr geeignet."
   ],
   "metadata": {
    "collapsed": false
   },
   "id": "1565cd43023faf2b"
  },
  {
   "cell_type": "markdown",
   "source": [
    "### IPython\n",
    "IPython ist eine interaktive Shell, die die Einschränkungen des Standard-Python-Interpreters behebt und ein Arbeitspferd für den wissenschaftlichen Einsatz von Python ist. Sie bietet eine interaktive Eingabeaufforderung für den Python-Interpreter mit einer stark verbesserten Benutzerfreundlichkeit.\n",
    "  \n",
    "<br>\n",
    "<img src=\"./images/ipython-screenshot.png\" width=\"840\">\n",
    "\n",
    "Einige der vielen nützlichen Funktionen von IPython sind:\n",
    "\n",
    "* Befehlshistorie, die mit den Aufwärts- und Abwärtspfeilen auf der Tastatur durchsucht werden kann.\n",
    "* Automatische Vervollständigung mit `TAB`.\n",
    "* Inline-Bearbeitung von Code.\n",
    "* Objektintrospektion und automatische Extraktion von Dokumentationsstrings aus Pythonobjekten wie Klassen und Funktionen.\n",
    "* Gute Interaktion mit der Shell des Betriebssystems.\n",
    "* Support for multiple parallel back-end processes, that can run on computing clusters or cloud services like Amazon EC2."
   ],
   "metadata": {
    "collapsed": false
   },
   "id": "368aaf1617582589"
  },
  {
   "cell_type": "markdown",
   "source": [
    "### Jupyter Notebook\n",
    "\n",
    "[Jupyter Notebook](https://jupyter.org/) ist eine HTML-basierte Notizbuchumgebung für Python, ähnlich wie Mathematica oder Maple. Es basiert auf der IPython-Shell, bietet aber eine zellenbasierte Umgebung mit großer Interaktivität, in der Berechnungen strukturiert organisiert und dokumentiert werden können.\n",
    "\n",
    "<br>\n",
    "<img src=\"./images/jupyter-notebook-screenshot.png\" width=\"840\">\n",
    "\n",
    "Obwohl ein Webbrowser als grafische Oberfläche verwendet wird, werden Jupyter-Notebooks in der Regel lokal auf demselben Computer ausgeführt, auf dem auch der Browser läuft. Um eine neue Jupyter-Notebook-Sitzung zu starten, führen Sie den folgenden Befehl aus:\n",
    "\n",
    "<br>\n",
    "\n",
    "    $ jupyter notebook\n",
    "    \n",
    "aus einem Verzeichnis, in dem die Notizbücher gespeichert werden sollen. Dadurch wird ein neues Browserfenster (oder eine neue Registerkarte in einem bestehenden Fenster) mit einer Indexseite geöffnet, auf der die vorhandenen Notizbücher angezeigt werden und von der aus neue Notizbücher erstellt werden können.\n",
    "\n",
    "Damit obiger Befehl funktioniert muss, falls nicht bereits vorhanden, das Paket [jupyter](https://pypi.org/project/jupyter/) vorgängig installiert werden.\n",
    " \n",
    "Alternativ kann ein bestehendes Notebook (z.B. das vorliegende Dokument) mit dem [nbviewer](https://nbviewer.org/github/talent-factory/pyt-introduction/blob/develop/01-Introduction-to-Python.ipynb) betrachtet werden."
   ],
   "metadata": {
    "collapsed": false
   },
   "id": "d87b8227c568bcb0"
  },
  {
   "cell_type": "markdown",
   "source": [
    "### Spyder\n",
    "\n",
    "[Spyder](https://www.spyder-ide.org/) ist eine MATLAB-ähnliche IDE für wissenschaftliches Rechnen mit Python. Es hat die vielen Vorteile einer traditionellen IDE-Umgebung, zum Beispiel, dass alles von der Code-Bearbeitung, der Ausführung und dem Debugging in einer einzigen Umgebung durchgeführt wird und die Arbeit an verschiedenen Berechnungen als Projekte in der IDE-Umgebung organisiert werden kann.\n",
    "\n",
    "<br>\n",
    "<img src=\"./images/spyder-screenshot.png\" width=\"840\">Spyder Screenshot</img\n",
    "\n",
    "Einige Vorteile des Spyder:\n",
    "* Leistungsstarker Code-Editor mit Syntax-Highlighting, dynamischer Code-Introspektion und Integration mit dem Python-Debugger.\n",
    "* Variablen-Explorer, IPython-Eingabeaufforderung.\n",
    "* Integrierte Dokumentation und Hilfe."
   ],
   "metadata": {
    "collapsed": false
   },
   "id": "1f00db071af733d0"
  },
  {
   "cell_type": "markdown",
   "source": [
    "## Installation\n",
    "\n",
    "### Python und Modulversionen\n",
    "Da es mehrere verschiedene Versionen von Python gibt und jedes Python-Paket seinen eigenen Veröffentlichungszyklus und seine eigene Versionsnummer hat, ist es für die Reproduzierbarkeit eines Projektes wichtig, die Versionen all dieser verschiedenen Softwarepakete aufzuzeichnen. Wenn dies richtig gemacht wird, ist es einfach, die Umgebung zu reproduzieren, die zum Ausführen verwendet wurde, aber wenn nicht, kann es schwierig sein, herauszufinden, was verwendet wurde, um die Ergebnisse in einem Notizbuch zu erzeugen.\n",
    "\n",
    "Damit das folgende Skript funktioniert müssen vorgängig folgende Module installiert werden:\n",
    "\n",
    "<br>\n",
    "\n",
    "```\n",
    "pip install --upgrade numpy scipy matplotlib sympy jupyter version_information\n",
    "```"
   ],
   "metadata": {
    "collapsed": false
   },
   "id": "2de0f8af2cb47e2"
  },
  {
   "cell_type": "code",
   "outputs": [
    {
     "data": {
      "text/plain": "Software versions\nPython 3.12.0 64bit [Clang 13.0.0 (clang-1300.0.29.30)]\nIPython 8.20.0\nOS macOS 14.2.1 arm64 arm 64bit\nnumpy 1.26.3\nscipy 1.11.4\nmatplotlib 3.8.2\nsympy 1.12\njupyter 1.0.0\nversion_information 1.0.4\nWed Jan 17 10:07:43 2024 CET",
      "text/html": "<table><tr><th>Software</th><th>Version</th></tr><tr><td>Python</td><td>3.12.0 64bit [Clang 13.0.0 (clang-1300.0.29.30)]</td></tr><tr><td>IPython</td><td>8.20.0</td></tr><tr><td>OS</td><td>macOS 14.2.1 arm64 arm 64bit</td></tr><tr><td>numpy</td><td>1.26.3</td></tr><tr><td>scipy</td><td>1.11.4</td></tr><tr><td>matplotlib</td><td>3.8.2</td></tr><tr><td>sympy</td><td>1.12</td></tr><tr><td>jupyter</td><td>1.0.0</td></tr><tr><td>version_information</td><td>1.0.4</td></tr><tr><td colspan='2'>Wed Jan 17 10:07:43 2024 CET</td></tr></table>",
      "text/latex": "\\begin{tabular}{|l|l|}\\hline\n{\\bf Software} & {\\bf Version} \\\\ \\hline\\hline\nPython & 3.12.0 64bit [Clang 13.0.0 (clang-1300.0.29.30)] \\\\ \\hline\nIPython & 8.20.0 \\\\ \\hline\nOS & macOS 14.2.1 arm64 arm 64bit \\\\ \\hline\nnumpy & 1.26.3 \\\\ \\hline\nscipy & 1.11.4 \\\\ \\hline\nmatplotlib & 3.8.2 \\\\ \\hline\nsympy & 1.12 \\\\ \\hline\njupyter & 1.0.0 \\\\ \\hline\nversion_information & 1.0.4 \\\\ \\hline\n\\hline \\multicolumn{2}{|l|}{Wed Jan 17 10:07:43 2024 CET} \\\\ \\hline\n\\end{tabular}\n",
      "application/json": {
       "Software versions": [
        {
         "module": "Python",
         "version": "3.12.0 64bit [Clang 13.0.0 (clang-1300.0.29.30)]"
        },
        {
         "module": "IPython",
         "version": "8.20.0"
        },
        {
         "module": "OS",
         "version": "macOS 14.2.1 arm64 arm 64bit"
        },
        {
         "module": "numpy",
         "version": "1.26.3"
        },
        {
         "module": "scipy",
         "version": "1.11.4"
        },
        {
         "module": "matplotlib",
         "version": "3.8.2"
        },
        {
         "module": "sympy",
         "version": "1.12"
        },
        {
         "module": "jupyter",
         "version": "1.0.0"
        },
        {
         "module": "version_information",
         "version": "1.0.4"
        }
       ]
      }
     },
     "execution_count": 11,
     "metadata": {},
     "output_type": "execute_result"
    }
   ],
   "source": [
    "# Ausgabe der Versionsnummern der benötigten Module\n",
    "%load_ext version_information\n",
    "\n",
    "%version_information numpy, scipy, matplotlib, sympy, jupyter, version_information"
   ],
   "metadata": {
    "collapsed": false,
    "ExecuteTime": {
     "end_time": "2024-01-17T09:07:43.357105Z",
     "start_time": "2024-01-17T09:07:42.162706Z"
    }
   },
   "id": "f4c93eb4ccd7fb8f",
   "execution_count": 11
  },
  {
   "cell_type": "markdown",
   "source": [
    "# Variablen und Datentypen"
   ],
   "metadata": {
    "collapsed": false
   },
   "id": "add9141f89ff1ef8"
  },
  {
   "cell_type": "markdown",
   "source": [
    "## Symbolische Namen\n",
    "Variablennamen in Python können die alphanumerischen Zeichen `a-z`, `A-Z`, `0-9` und einige Sonderzeichen wie `_` enthalten. Normale Variablennamen müssen mit einem Buchstaben beginnen.\n",
    "\n",
    "Konventionell beginnen Variablennamen mit einem Kleinbuchstaben und Klassennamen mit einem Grossbuchstaben. Dies ist im [Python Style Guide](https://peps.python.org/pep-0008/#naming-conventions) (PEP8) festgehalten.\n",
    "\n",
    "Darüber hinaus gibt es eine Reihe von [Python-Schlüsselwörtern](https://docs.python.org/3/reference/lexical_analysis.html#keywords), die nicht als Variablennamen verwendet werden können. \n"
   ],
   "metadata": {
    "collapsed": false
   },
   "id": "671f92b089b8e1c2"
  },
  {
   "cell_type": "markdown",
   "source": [
    "## Zuweisungen\n",
    "Der Zuweisungsoperator in Python ist `=`. Python ist eine dynamisch typisierte Sprache, so dass wir den Typ einer Variablen nicht angeben müssen, wenn wir eine Variable erstellen.\n",
    "\n",
    "Durch die Zuweisung eines Wertes an eine neue Variable wird die Variable erstellt:"
   ],
   "metadata": {
    "collapsed": false
   },
   "id": "9d6c855ce87c90ce"
  },
  {
   "cell_type": "code",
   "outputs": [],
   "source": [
    "# Variablenzuweisungen\n",
    "x = 1.0\n",
    "my_variable = 12.\n",
    "name = 'Peter Pan'"
   ],
   "metadata": {
    "collapsed": false,
    "ExecuteTime": {
     "end_time": "2024-01-17T09:07:43.359133Z",
     "start_time": "2024-01-17T09:07:43.348076Z"
    }
   },
   "id": "a351491e1e6b7346",
   "execution_count": 12
  },
  {
   "cell_type": "markdown",
   "source": [
    "Obwohl nicht explizit angegeben, hat eine Variable einen Typ, der mit ihr verbunden ist. Der Typ wird von dem Wert abgeleitet, der ihr zugewiesen wurde."
   ],
   "metadata": {
    "collapsed": false
   },
   "id": "1f9f02dd8633cb2c"
  },
  {
   "cell_type": "code",
   "outputs": [
    {
     "name": "stdout",
     "output_type": "stream",
     "text": [
      "<class 'float'>\n"
     ]
    }
   ],
   "source": [
    "print(type(x))"
   ],
   "metadata": {
    "collapsed": false,
    "ExecuteTime": {
     "end_time": "2024-01-17T09:07:43.365628Z",
     "start_time": "2024-01-17T09:07:43.350099Z"
    }
   },
   "id": "a140366867d99a01",
   "execution_count": 13
  },
  {
   "cell_type": "markdown",
   "source": [
    "Wenn wir einer Variablen einen neuen Wert zuweisen, kann sich ihr Typ ändern."
   ],
   "metadata": {
    "collapsed": false
   },
   "id": "589450a7176ae46"
  },
  {
   "cell_type": "code",
   "outputs": [
    {
     "name": "stdout",
     "output_type": "stream",
     "text": [
      "<class 'int'>\n"
     ]
    }
   ],
   "source": [
    "x = 1\n",
    "print(type(x))"
   ],
   "metadata": {
    "collapsed": false,
    "ExecuteTime": {
     "end_time": "2024-01-17T09:07:43.369688Z",
     "start_time": "2024-01-17T09:07:43.353188Z"
    }
   },
   "id": "f4d4149b0983917b",
   "execution_count": 14
  },
  {
   "cell_type": "markdown",
   "source": [
    "Wenn wir versuchen, eine Variable zu verwenden, die noch nicht definiert wurde, erhalten wir einen `NameError`:"
   ],
   "metadata": {
    "collapsed": false
   },
   "id": "dada6989727d67a7"
  },
  {
   "cell_type": "code",
   "outputs": [
    {
     "name": "stdout",
     "output_type": "stream",
     "text": [
      "<class 'int'>\n"
     ]
    }
   ],
   "source": [
    "print(type(y))"
   ],
   "metadata": {
    "collapsed": false,
    "ExecuteTime": {
     "end_time": "2024-01-17T09:07:43.379825Z",
     "start_time": "2024-01-17T09:07:43.355228Z"
    }
   },
   "id": "471429f59ecf4215",
   "execution_count": 15
  },
  {
   "cell_type": "markdown",
   "source": [
    "## Grundlegende Datentypen"
   ],
   "metadata": {
    "collapsed": false
   },
   "id": "d2bb70f709398344"
  },
  {
   "cell_type": "code",
   "outputs": [
    {
     "name": "stdout",
     "output_type": "stream",
     "text": [
      "<class 'int'>\n"
     ]
    }
   ],
   "source": [
    "# integers\n",
    "x = 1\n",
    "print(type(x))"
   ],
   "metadata": {
    "collapsed": false,
    "ExecuteTime": {
     "end_time": "2024-01-17T09:07:43.383824Z",
     "start_time": "2024-01-17T09:07:43.358546Z"
    }
   },
   "id": "7e789c3938634680",
   "execution_count": 16
  },
  {
   "cell_type": "code",
   "outputs": [
    {
     "name": "stdout",
     "output_type": "stream",
     "text": [
      "<class 'float'>\n"
     ]
    }
   ],
   "source": [
    "# float\n",
    "x = 1.0\n",
    "print(type(x))"
   ],
   "metadata": {
    "collapsed": false,
    "ExecuteTime": {
     "end_time": "2024-01-17T09:07:43.385779Z",
     "start_time": "2024-01-17T09:07:43.361614Z"
    }
   },
   "id": "ceeb694b4ff1e07c",
   "execution_count": 17
  },
  {
   "cell_type": "code",
   "outputs": [
    {
     "name": "stdout",
     "output_type": "stream",
     "text": [
      "<class 'bool'>\n"
     ]
    }
   ],
   "source": [
    "# boolean\n",
    "b1 = True\n",
    "b2 = False\n",
    "\n",
    "print(type(b1))"
   ],
   "metadata": {
    "collapsed": false,
    "ExecuteTime": {
     "end_time": "2024-01-17T09:07:43.387471Z",
     "start_time": "2024-01-17T09:07:43.363313Z"
    }
   },
   "id": "d947dcbe9a6316d2",
   "execution_count": 18
  },
  {
   "cell_type": "code",
   "outputs": [
    {
     "name": "stdout",
     "output_type": "stream",
     "text": [
      "<class 'complex'>\n"
     ]
    }
   ],
   "source": [
    "# complex numbers: beachte die Verwendung von \"j\" zur Angabe des Imaginärteils\n",
    "x = 1.0 - 1.0j\n",
    "print(type(x))"
   ],
   "metadata": {
    "collapsed": false,
    "ExecuteTime": {
     "end_time": "2024-01-17T09:07:43.397814Z",
     "start_time": "2024-01-17T09:07:43.366505Z"
    }
   },
   "id": "b4f009182bc4f82e",
   "execution_count": 19
  },
  {
   "cell_type": "markdown",
   "source": [
    "## Hilfsfunktionen\n",
    "Das Modul `types` enthält eine Reihe von Definitionen von Typnamen, die verwendet werden können, um zu prüfen, ob Variablen von bestimmten Typen sind:"
   ],
   "metadata": {
    "collapsed": false
   },
   "id": "f77b43f56ef67ad0"
  },
  {
   "cell_type": "code",
   "outputs": [
    {
     "name": "stdout",
     "output_type": "stream",
     "text": [
      "True\n"
     ]
    }
   ],
   "source": [
    "x = 1.0\n",
    "\n",
    "# prüfen, ob die Variable x ein Float ist\n",
    "print(type(x) is float)"
   ],
   "metadata": {
    "collapsed": false,
    "ExecuteTime": {
     "end_time": "2024-01-17T09:07:43.511492Z",
     "start_time": "2024-01-17T09:07:43.369604Z"
    }
   },
   "id": "13d777d7e412b665",
   "execution_count": 20
  },
  {
   "cell_type": "code",
   "outputs": [
    {
     "name": "stdout",
     "output_type": "stream",
     "text": [
      "False\n"
     ]
    }
   ],
   "source": [
    "x = 1.0\n",
    "\n",
    "# prüfen, ob die Variable x ein Int ist\n",
    "print(type(x) is int)"
   ],
   "metadata": {
    "collapsed": false,
    "ExecuteTime": {
     "end_time": "2024-01-17T09:07:43.512825Z",
     "start_time": "2024-01-17T09:07:43.371495Z"
    }
   },
   "id": "4cfd1ee5e1848c52",
   "execution_count": 21
  },
  {
   "cell_type": "markdown",
   "source": [
    "Wir können auch die Methode `isinstance()` zum Testen von Variablentypen verwenden:\n"
   ],
   "metadata": {
    "collapsed": false
   },
   "id": "72e807aac005895b"
  },
  {
   "cell_type": "code",
   "outputs": [
    {
     "name": "stdout",
     "output_type": "stream",
     "text": [
      "True\n"
     ]
    }
   ],
   "source": [
    "print(isinstance(x, float))"
   ],
   "metadata": {
    "collapsed": false,
    "ExecuteTime": {
     "end_time": "2024-01-17T09:07:43.524950Z",
     "start_time": "2024-01-17T09:07:43.373629Z"
    }
   },
   "id": "ae2d6fb7ee337aff",
   "execution_count": 22
  },
  {
   "cell_type": "markdown",
   "source": [
    "### Typumwandlung"
   ],
   "metadata": {
    "collapsed": false
   },
   "id": "322280c3f31ba1c6"
  },
  {
   "cell_type": "code",
   "outputs": [
    {
     "name": "stdout",
     "output_type": "stream",
     "text": [
      "1.5 <class 'float'>\n"
     ]
    }
   ],
   "source": [
    "x = 1.5\n",
    "\n",
    "print(x, type(x))"
   ],
   "metadata": {
    "collapsed": false,
    "ExecuteTime": {
     "end_time": "2024-01-17T09:07:43.526577Z",
     "start_time": "2024-01-17T09:07:43.375712Z"
    }
   },
   "id": "9316f94f789afe22",
   "execution_count": 23
  },
  {
   "cell_type": "code",
   "outputs": [
    {
     "name": "stdout",
     "output_type": "stream",
     "text": [
      "1 <class 'int'>\n"
     ]
    }
   ],
   "source": [
    "x = int(x)\n",
    "\n",
    "print(x, type(x))"
   ],
   "metadata": {
    "collapsed": false,
    "ExecuteTime": {
     "end_time": "2024-01-17T09:07:43.529265Z",
     "start_time": "2024-01-17T09:07:43.378025Z"
    }
   },
   "id": "66aec1aa0dc0a82a",
   "execution_count": 24
  },
  {
   "cell_type": "markdown",
   "source": [
    "## Operatoren und Vergleiche\n",
    "Die meisten Operatoren und Vergleiche in Python funktionieren so, wie man es erwarten würde:\n",
    "\n",
    "<br>\n",
    "\n",
    "* Arithmetische Operatoren `+`, `-`, `*`, `/`, `//` (Ganzzahlige Division), `**` Potenz"
   ],
   "metadata": {
    "collapsed": false
   },
   "id": "293767cd122091ec"
  },
  {
   "cell_type": "code",
   "outputs": [
    {
     "data": {
      "text/plain": "(3, -1, 2, 0.5)"
     },
     "execution_count": 25,
     "metadata": {},
     "output_type": "execute_result"
    }
   ],
   "source": [
    "1 + 2, 1 - 2, 1 * 2, 1 / 2"
   ],
   "metadata": {
    "collapsed": false,
    "ExecuteTime": {
     "end_time": "2024-01-17T09:07:43.542025Z",
     "start_time": "2024-01-17T09:07:43.380504Z"
    }
   },
   "id": "aec9f44380a005ac",
   "execution_count": 25
  },
  {
   "cell_type": "code",
   "outputs": [
    {
     "data": {
      "text/plain": "(3.0, -1.0, 2.0, 0.5)"
     },
     "execution_count": 26,
     "metadata": {},
     "output_type": "execute_result"
    }
   ],
   "source": [
    "1.0 + 2.0, 1.0 - 2.0, 1.0 * 2.0, 1.0 / 2.0"
   ],
   "metadata": {
    "collapsed": false,
    "ExecuteTime": {
     "end_time": "2024-01-17T09:07:43.554025Z",
     "start_time": "2024-01-17T09:07:43.382861Z"
    }
   },
   "id": "ad043ebcbb050697",
   "execution_count": 26
  },
  {
   "cell_type": "code",
   "outputs": [
    {
     "data": {
      "text/plain": "1.0"
     },
     "execution_count": 27,
     "metadata": {},
     "output_type": "execute_result"
    }
   ],
   "source": [
    "# Ganzzahlige Division von Float Zahlen\n",
    "3.0 // 2.0"
   ],
   "metadata": {
    "collapsed": false,
    "ExecuteTime": {
     "end_time": "2024-01-17T09:07:43.565894Z",
     "start_time": "2024-01-17T09:07:43.385504Z"
    }
   },
   "id": "313681a6dadf3bf3",
   "execution_count": 27
  },
  {
   "cell_type": "markdown",
   "source": [
    "**Hinweis**: Der Operator `/` führt in Python 3.x immer eine Fliesskommadivision durch. Dies ist in Python 2.x nicht der Fall, wo das Ergebnis von `/` immer eine ganze Zahl ist, wenn die Operanden ganze Zahlen sind. Genauer gesagt, `1/2 = 0,5` (float) in Python 3.x und `1/2 = 0` (int) in Python 2.x (aber `1.0/2 = 0.5` in Python 2.x).\n",
    "\n",
    "<br>\n",
    "\n",
    "* Die booleschen Operatoren werden mit den Worten `and`, `not` und `or` buchstabiert. Weitere Informationen sind [hier](https://docs.python.org/3/library/stdtypes.html#boolean-operations-and-or-not) zu finden."
   ],
   "metadata": {
    "collapsed": false
   },
   "id": "7b5ea5847d28377"
  },
  {
   "cell_type": "code",
   "outputs": [
    {
     "data": {
      "text/plain": "False"
     },
     "execution_count": 28,
     "metadata": {},
     "output_type": "execute_result"
    }
   ],
   "source": [
    "True and False"
   ],
   "metadata": {
    "collapsed": false,
    "ExecuteTime": {
     "end_time": "2024-01-17T09:07:43.567412Z",
     "start_time": "2024-01-17T09:07:43.388294Z"
    }
   },
   "id": "db2b39364b3ce9bc",
   "execution_count": 28
  },
  {
   "cell_type": "code",
   "outputs": [
    {
     "data": {
      "text/plain": "True"
     },
     "execution_count": 29,
     "metadata": {},
     "output_type": "execute_result"
    }
   ],
   "source": [
    "not False"
   ],
   "metadata": {
    "collapsed": false,
    "ExecuteTime": {
     "end_time": "2024-01-17T09:07:43.568737Z",
     "start_time": "2024-01-17T09:07:43.390591Z"
    }
   },
   "id": "a034c7b24b3602d6",
   "execution_count": 29
  },
  {
   "cell_type": "code",
   "outputs": [
    {
     "data": {
      "text/plain": "True"
     },
     "execution_count": 30,
     "metadata": {},
     "output_type": "execute_result"
    }
   ],
   "source": [
    "True or False"
   ],
   "metadata": {
    "collapsed": false,
    "ExecuteTime": {
     "end_time": "2024-01-17T09:07:43.570145Z",
     "start_time": "2024-01-17T09:07:43.393574Z"
    }
   },
   "id": "5d8b590cbd0d3e6",
   "execution_count": 30
  },
  {
   "cell_type": "markdown",
   "source": [
    "* Vergleichsoperatoren `>`, `<`, `>=` (grösser oder gleich), `<=` (kleiner oder gleich), `==` Gleichheit, `is` identisch."
   ],
   "metadata": {
    "collapsed": false
   },
   "id": "be12d257cdd01012"
  },
  {
   "cell_type": "code",
   "outputs": [
    {
     "data": {
      "text/plain": "(True, False)"
     },
     "execution_count": 31,
     "metadata": {},
     "output_type": "execute_result"
    }
   ],
   "source": [
    "2 > 1, 2 < 1"
   ],
   "metadata": {
    "collapsed": false,
    "ExecuteTime": {
     "end_time": "2024-01-17T09:07:43.573994Z",
     "start_time": "2024-01-17T09:07:43.396047Z"
    }
   },
   "id": "61660c3af31d0789",
   "execution_count": 31
  },
  {
   "cell_type": "code",
   "outputs": [
    {
     "data": {
      "text/plain": "(False, False)"
     },
     "execution_count": 32,
     "metadata": {},
     "output_type": "execute_result"
    }
   ],
   "source": [
    "2 > 2, 2 < 2"
   ],
   "metadata": {
    "collapsed": false,
    "ExecuteTime": {
     "end_time": "2024-01-17T09:07:43.575534Z",
     "start_time": "2024-01-17T09:07:43.398723Z"
    }
   },
   "id": "1070c468f6dcf124",
   "execution_count": 32
  },
  {
   "cell_type": "code",
   "outputs": [
    {
     "data": {
      "text/plain": "(True, True)"
     },
     "execution_count": 33,
     "metadata": {},
     "output_type": "execute_result"
    }
   ],
   "source": [
    "2 >= 2, 2 <= 2"
   ],
   "metadata": {
    "collapsed": false,
    "ExecuteTime": {
     "end_time": "2024-01-17T09:07:43.581885Z",
     "start_time": "2024-01-17T09:07:43.401611Z"
    }
   },
   "id": "4a7c802634504ae3",
   "execution_count": 33
  },
  {
   "cell_type": "markdown",
   "source": [
    "## Zusammengesetzte Typen\n",
    "### Zeichenketten\n",
    "\n",
    "Strings sind der Variablentyp, der für die Speicherung von Textnachrichten verwendet wird. "
   ],
   "metadata": {
    "collapsed": false
   },
   "id": "f4a3a3c84ce073d"
  },
  {
   "cell_type": "code",
   "outputs": [
    {
     "name": "stdout",
     "output_type": "stream",
     "text": [
      "<class 'str'>\n"
     ]
    }
   ],
   "source": [
    "s = \"Hallo Peter\"\n",
    "print(type(s))"
   ],
   "metadata": {
    "collapsed": false,
    "ExecuteTime": {
     "end_time": "2024-01-17T09:07:43.583461Z",
     "start_time": "2024-01-17T09:07:43.404240Z"
    }
   },
   "id": "f9ee6cb181c21910",
   "execution_count": 34
  },
  {
   "cell_type": "code",
   "outputs": [
    {
     "name": "stdout",
     "output_type": "stream",
     "text": [
      "11\n"
     ]
    }
   ],
   "source": [
    "# Länge der Zeichenkette: die Anzahl der Zeichen\n",
    "print(len(s))"
   ],
   "metadata": {
    "collapsed": false,
    "ExecuteTime": {
     "end_time": "2024-01-17T09:07:43.584786Z",
     "start_time": "2024-01-17T09:07:43.406112Z"
    }
   },
   "id": "4e02bd47ab941943",
   "execution_count": 35
  },
  {
   "cell_type": "code",
   "outputs": [
    {
     "name": "stdout",
     "output_type": "stream",
     "text": [
      "Hallo Daniel\n"
     ]
    }
   ],
   "source": [
    "# Eine Teilzeichenkette in einer Zeichenkette durch etwas anderes ersetzen\n",
    "s = s.replace(\"Peter\", \"Daniel\")\n",
    "print(s)"
   ],
   "metadata": {
    "collapsed": false,
    "ExecuteTime": {
     "end_time": "2024-01-17T09:07:43.586081Z",
     "start_time": "2024-01-17T09:07:43.408241Z"
    }
   },
   "id": "5afaddd89bd98dd3",
   "execution_count": 36
  },
  {
   "cell_type": "markdown",
   "source": [
    "Wir können ein Zeichen in einer Zeichenkette mit `[]` indizieren:"
   ],
   "metadata": {
    "collapsed": false
   },
   "id": "bfc34ef9be3c76f9"
  },
  {
   "cell_type": "code",
   "outputs": [
    {
     "name": "stdout",
     "output_type": "stream",
     "text": [
      "H\n"
     ]
    }
   ],
   "source": [
    "print(s[0])"
   ],
   "metadata": {
    "collapsed": false,
    "ExecuteTime": {
     "end_time": "2024-01-17T09:07:43.587453Z",
     "start_time": "2024-01-17T09:07:43.410608Z"
    }
   },
   "id": "fa3888c5705d8b65",
   "execution_count": 37
  },
  {
   "cell_type": "markdown",
   "source": [
    "Wir können einen Teil einer Zeichenkette mit der Syntax `[start:stop]` extrahieren, wobei die Zeichen zwischen Index `start` und `stop` -1 berücksichtigt werden (das Zeichen bei Index `stop` wird nicht berücksichtigt):"
   ],
   "metadata": {
    "collapsed": false
   },
   "id": "834d4e09eabbcc25"
  },
  {
   "cell_type": "code",
   "outputs": [
    {
     "name": "stdout",
     "output_type": "stream",
     "text": [
      "Hallo\n",
      "o\n"
     ]
    }
   ],
   "source": [
    "print(s[0:5])\n",
    "print(s[4:5])"
   ],
   "metadata": {
    "collapsed": false,
    "ExecuteTime": {
     "end_time": "2024-01-17T09:07:43.589112Z",
     "start_time": "2024-01-17T09:07:43.415815Z"
    }
   },
   "id": "42e4f2c7a78c9b4",
   "execution_count": 38
  },
  {
   "cell_type": "markdown",
   "source": [
    "Wenn wir eines (oder beide) von `start` oder `stop` aus `[start:stop]` weglassen, ist die Vorgabe der Anfang bzw. das Ende der Zeichenkette:"
   ],
   "metadata": {
    "collapsed": false
   },
   "id": "32d9b1e72b7ea80a"
  },
  {
   "cell_type": "code",
   "outputs": [
    {
     "name": "stdout",
     "output_type": "stream",
     "text": [
      "Hallo\n",
      "Daniel\n",
      "Hallo Daniel\n"
     ]
    }
   ],
   "source": [
    "print(s[:5])\n",
    "print(s[6:])\n",
    "print(s[:])"
   ],
   "metadata": {
    "collapsed": false,
    "ExecuteTime": {
     "end_time": "2024-01-17T09:07:43.787781Z",
     "start_time": "2024-01-17T09:07:43.418155Z"
    }
   },
   "id": "356d007b4765844",
   "execution_count": 39
  },
  {
   "cell_type": "markdown",
   "source": [
    "Wir können die Schrittgrösse auch mit der Syntax `[start:stop:schritt]` definieren (der Standardwert für `schritt` ist 1, wie wir oben gesehen haben):"
   ],
   "metadata": {
    "collapsed": false
   },
   "id": "e811545a15f30484"
  },
  {
   "cell_type": "code",
   "outputs": [
    {
     "name": "stdout",
     "output_type": "stream",
     "text": [
      "Hallo Daniel\n",
      "HloDne\n"
     ]
    }
   ],
   "source": [
    "print(s[::1])\n",
    "print(s[::2])"
   ],
   "metadata": {
    "collapsed": false,
    "ExecuteTime": {
     "end_time": "2024-01-17T09:07:43.789348Z",
     "start_time": "2024-01-17T09:07:43.420304Z"
    }
   },
   "id": "24ffbdd2e6e6c94d",
   "execution_count": 40
  },
  {
   "cell_type": "markdown",
   "source": [
    "Diese Technik wird _Slicing_ genannt. Lesen Sie [hier](https://docs.python.org/3/library/functions.html?highlight=slice#slice) mehr über die Syntax.\n",
    "\n",
    "Python verfügt über einen sehr umfangreichen Satz von [Funktionen](https://docs.python.org/3/library/string.html) für die Textverarbeitung. "
   ],
   "metadata": {
    "collapsed": false
   },
   "id": "54e2496e5942d999"
  },
  {
   "cell_type": "markdown",
   "source": [
    "#### Beispiele für die Formatierung von Zeichenketten"
   ],
   "metadata": {
    "collapsed": false
   },
   "id": "16dbf4f5836f2ca5"
  },
  {
   "cell_type": "code",
   "outputs": [
    {
     "name": "stdout",
     "output_type": "stream",
     "text": [
      "str1 str2 str3\n"
     ]
    }
   ],
   "source": [
    "print(\"str1\", \"str2\", \"str3\")  # Die print-Anweisung verkettet Zeichenketten mit einem Leerzeichen"
   ],
   "metadata": {
    "collapsed": false,
    "ExecuteTime": {
     "end_time": "2024-01-17T09:07:43.790658Z",
     "start_time": "2024-01-17T09:07:43.422174Z"
    }
   },
   "id": "e05c547fb83aa6ed",
   "execution_count": 41
  },
  {
   "cell_type": "code",
   "outputs": [
    {
     "name": "stdout",
     "output_type": "stream",
     "text": [
      "str1str2str3\n"
     ]
    }
   ],
   "source": [
    "print(\"str1\" + \"str2\" + \"str3\") # mit + hinzugefügte Zeichenfolgen werden ohne Leerzeichen verkettet"
   ],
   "metadata": {
    "collapsed": false,
    "ExecuteTime": {
     "end_time": "2024-01-17T09:07:43.792011Z",
     "start_time": "2024-01-17T09:07:43.424547Z"
    }
   },
   "id": "d64dcb03d1ac2217",
   "execution_count": 42
  },
  {
   "cell_type": "code",
   "outputs": [
    {
     "name": "stdout",
     "output_type": "stream",
     "text": [
      "value = 1.000000\n"
     ]
    }
   ],
   "source": [
    "print(\"value = %f\" % 1.0)       # wir können eine String-Formatierung im C-Stil verwenden"
   ],
   "metadata": {
    "collapsed": false,
    "ExecuteTime": {
     "end_time": "2024-01-17T09:07:43.816036Z",
     "start_time": "2024-01-17T09:07:43.431099Z"
    }
   },
   "id": "3ca8f6dae1a44f73",
   "execution_count": 43
  },
  {
   "cell_type": "code",
   "outputs": [
    {
     "name": "stdout",
     "output_type": "stream",
     "text": [
      "value1 = 3.14. value2 = 1\n"
     ]
    }
   ],
   "source": [
    "# Diese Formatierung erzeugt eine Zeichenkette\n",
    "s = \"value1 = %.2f. value2 = %d\" % (3.1415, 1.5)\n",
    "\n",
    "print(s)"
   ],
   "metadata": {
    "collapsed": false,
    "ExecuteTime": {
     "end_time": "2024-01-17T09:07:43.817704Z",
     "start_time": "2024-01-17T09:07:43.431616Z"
    }
   },
   "id": "512e70373955cc50",
   "execution_count": 44
  },
  {
   "cell_type": "code",
   "outputs": [
    {
     "name": "stdout",
     "output_type": "stream",
     "text": [
      "value1 = 3.1415, value2 = 1.5\n"
     ]
    }
   ],
   "source": [
    "# Alternative, intuitivere Methode zur Formatierung einer Zeichenkette  \n",
    "s = 'value1 = {0}, value2 = {1}'.format(3.1415, 1.5)\n",
    "\n",
    "print(s)"
   ],
   "metadata": {
    "collapsed": false,
    "ExecuteTime": {
     "end_time": "2024-01-17T09:07:43.819056Z",
     "start_time": "2024-01-17T09:07:43.434778Z"
    }
   },
   "id": "7f5693873eeb0a3c",
   "execution_count": 45
  },
  {
   "cell_type": "markdown",
   "source": [
    "Die Formatierung einer Zeichenkette ist ein sehr umfangreiches Thema, welches in diesem kurzen Abschnitt nichtvollständig abgehandelt werden kann. Aus diesem Grund hier einige Referenzen zu weitergehenden Informationen:\n",
    "\n",
    "- [Python Dokumentation](https://docs.python.org/3/library/string.html#custom-string-formatting) - Benutzerdefinierte String-Formatierung\n",
    "- [RealPython](https://realpython.com/python-string-formatting/) - Python String Formatierung Best Practices\n",
    "- [W3Schools](https://www.w3schools.com/python/ref_string_format.asp) - Python String `format()` Methode  "
   ],
   "metadata": {
    "collapsed": false
   },
   "id": "694baad515f356e0"
  },
  {
   "cell_type": "markdown",
   "source": [
    "### Listen\n",
    "Listen sind den Zeichenketten sehr ähnlich, mit dem Unterschied, dass jedes Element von beliebigem Typ sein kann."
   ],
   "metadata": {
    "collapsed": false
   },
   "id": "b9f67a27689d6531"
  },
  {
   "cell_type": "code",
   "outputs": [
    {
     "name": "stdout",
     "output_type": "stream",
     "text": [
      "<class 'list'>\n",
      "[1, 2, 3, 4]\n"
     ]
    }
   ],
   "source": [
    "l = [1,2,3,4]\n",
    "\n",
    "print(type(l))\n",
    "print(l)"
   ],
   "metadata": {
    "collapsed": false,
    "ExecuteTime": {
     "end_time": "2024-01-17T09:07:43.820594Z",
     "start_time": "2024-01-17T09:07:43.437299Z"
    }
   },
   "id": "6463f570723707a0",
   "execution_count": 46
  },
  {
   "cell_type": "markdown",
   "source": [
    "Für die Bearbeitung von Listen können wir dieselben _Slicing_-Techniken verwenden, die wir auch für Zeichenketten anwenden können:"
   ],
   "metadata": {
    "collapsed": false
   },
   "id": "eb9cc62cf70cba21"
  },
  {
   "cell_type": "code",
   "outputs": [
    {
     "name": "stdout",
     "output_type": "stream",
     "text": [
      "[1, 2, 3, 4]\n",
      "[2, 3]\n",
      "[1, 3]\n"
     ]
    }
   ],
   "source": [
    "print(l)\n",
    "\n",
    "print(l[1:3])\n",
    "\n",
    "print(l[::2])"
   ],
   "metadata": {
    "collapsed": false,
    "ExecuteTime": {
     "end_time": "2024-01-17T09:07:43.828190Z",
     "start_time": "2024-01-17T09:07:43.439180Z"
    }
   },
   "id": "4f23526ea2df3411",
   "execution_count": 47
  },
  {
   "cell_type": "markdown",
   "source": [
    "Die Elemente in einer Liste müssen nicht alle vom gleichen Typ sein:"
   ],
   "metadata": {
    "collapsed": false
   },
   "id": "2bcd0868cd5d232b"
  },
  {
   "cell_type": "code",
   "outputs": [
    {
     "name": "stdout",
     "output_type": "stream",
     "text": [
      "[1, 'a', 1.0, (1-1j)]\n"
     ]
    }
   ],
   "source": [
    "l = [1, 'a', 1.0, 1-1j]\n",
    "\n",
    "print(l)"
   ],
   "metadata": {
    "collapsed": false,
    "ExecuteTime": {
     "end_time": "2024-01-17T09:07:43.829754Z",
     "start_time": "2024-01-17T09:07:43.441435Z"
    }
   },
   "id": "b759074135ab5970",
   "execution_count": 48
  },
  {
   "cell_type": "markdown",
   "source": [
    "Python-Listen können inhomogen und willkürlich verschachtelt sein:"
   ],
   "metadata": {
    "collapsed": false
   },
   "id": "890004ad60649a5e"
  },
  {
   "cell_type": "code",
   "outputs": [
    {
     "name": "stdout",
     "output_type": "stream",
     "text": [
      "[1, [2.0, [3.4, ['Daniel', [5]]]]]\n"
     ]
    }
   ],
   "source": [
    "my_list = [1, [2.0, [3.4, ['Daniel', [5]]]]]\n",
    "\n",
    "print(my_list)"
   ],
   "metadata": {
    "collapsed": false,
    "ExecuteTime": {
     "end_time": "2024-01-17T09:07:43.831311Z",
     "start_time": "2024-01-17T09:07:43.443714Z"
    }
   },
   "id": "7d5cd3b9a9939680",
   "execution_count": 49
  },
  {
   "cell_type": "markdown",
   "source": [
    "Listen spielen in Python eine sehr wichtige Rolle. Sie werden zum Beispiel in Schleifen und anderen Flusskontrollstrukturen verwendet. Es gibt eine Reihe praktischer Funktionen zur Erzeugung von Listen verschiedener Typen, zum Beispiel die Funktion `range()`):\n"
   ],
   "metadata": {
    "collapsed": false
   },
   "id": "1ef7162e739eef0f"
  },
  {
   "cell_type": "code",
   "outputs": [
    {
     "data": {
      "text/plain": "range(10, 30, 2)"
     },
     "execution_count": 50,
     "metadata": {},
     "output_type": "execute_result"
    }
   ],
   "source": [
    "start = 10\n",
    "stop = 30\n",
    "step = 2\n",
    "\n",
    "range(start, stop, step)"
   ],
   "metadata": {
    "collapsed": false,
    "ExecuteTime": {
     "end_time": "2024-01-17T09:07:43.832759Z",
     "start_time": "2024-01-17T09:07:43.445896Z"
    }
   },
   "id": "42eca5931de52420",
   "execution_count": 50
  },
  {
   "cell_type": "code",
   "outputs": [
    {
     "name": "stdout",
     "output_type": "stream",
     "text": [
      "[10, 12, 14, 16, 18, 20, 22, 24, 26, 28]\n"
     ]
    }
   ],
   "source": [
    "# In Python 3 erzeugt range() einen Iterator, der mit 'list(...)' in eine Liste umgewandelt werden kann.\n",
    "print(list(range(start, stop, step)))"
   ],
   "metadata": {
    "collapsed": false,
    "ExecuteTime": {
     "end_time": "2024-01-17T09:07:43.851798Z",
     "start_time": "2024-01-17T09:07:43.448667Z"
    }
   },
   "id": "3957ebc5fe1e2ba8",
   "execution_count": 51
  },
  {
   "cell_type": "code",
   "outputs": [
    {
     "name": "stdout",
     "output_type": "stream",
     "text": [
      "[-10, -9, -8, -7, -6, -5, -4, -3, -2, -1, 0, 1, 2, 3, 4, 5, 6, 7, 8, 9]\n"
     ]
    }
   ],
   "source": [
    "print(list(range(-10, 10)))"
   ],
   "metadata": {
    "collapsed": false,
    "ExecuteTime": {
     "end_time": "2024-01-17T09:07:43.853506Z",
     "start_time": "2024-01-17T09:07:43.450730Z"
    }
   },
   "id": "6e51d4e95ccc0c1",
   "execution_count": 52
  },
  {
   "cell_type": "markdown",
   "source": [
    "### Tupel\n",
    "Tupel sind wie Listen, mit dem Unterschied, dass sie nach ihrer Erstellung nicht mehr verändert werden können, d.h. sie sind *unveränderlich*. \n",
    "\n",
    "In Python werden Tupel mit der Syntax `(..., ..., ...)`, oder auch `..., ...` erstellt:"
   ],
   "metadata": {
    "collapsed": false
   },
   "id": "60be20f2a0ad27da"
  },
  {
   "cell_type": "code",
   "outputs": [
    {
     "name": "stdout",
     "output_type": "stream",
     "text": [
      "(10, 20) <class 'tuple'>\n"
     ]
    }
   ],
   "source": [
    "point = (10, 20)\n",
    "\n",
    "print(point, type(point))"
   ],
   "metadata": {
    "collapsed": false,
    "ExecuteTime": {
     "end_time": "2024-01-17T09:07:43.854883Z",
     "start_time": "2024-01-17T09:07:43.452816Z"
    }
   },
   "id": "961b45eb2540315e",
   "execution_count": 53
  },
  {
   "cell_type": "code",
   "outputs": [
    {
     "name": "stdout",
     "output_type": "stream",
     "text": [
      "(10, 20) <class 'tuple'>\n"
     ]
    }
   ],
   "source": [
    "point = 10, 20\n",
    "\n",
    "print(point, type(point))"
   ],
   "metadata": {
    "collapsed": false,
    "ExecuteTime": {
     "end_time": "2024-01-17T09:07:43.856432Z",
     "start_time": "2024-01-17T09:07:43.455206Z"
    }
   },
   "id": "175aaf653b614fcf",
   "execution_count": 54
  },
  {
   "cell_type": "markdown",
   "source": [
    "Wir können ein Tupel entpacken, indem wir es einer durch Komma getrennten Liste von Variablen zuordnen:"
   ],
   "metadata": {
    "collapsed": false
   },
   "id": "f6003e07dbcaf464"
  },
  {
   "cell_type": "code",
   "outputs": [
    {
     "name": "stdout",
     "output_type": "stream",
     "text": [
      "x = 10\n",
      "y = 20\n"
     ]
    }
   ],
   "source": [
    "x, y = point\n",
    "\n",
    "print(\"x =\", x)\n",
    "print(\"y =\", y)"
   ],
   "metadata": {
    "collapsed": false,
    "ExecuteTime": {
     "end_time": "2024-01-17T09:07:43.858159Z",
     "start_time": "2024-01-17T09:07:43.457690Z"
    }
   },
   "id": "663feb4d31cc74e2",
   "execution_count": 55
  },
  {
   "cell_type": "code",
   "outputs": [
    {
     "ename": "TypeError",
     "evalue": "'tuple' object does not support item assignment",
     "output_type": "error",
     "traceback": [
      "\u001B[0;31m---------------------------------------------------------------------------\u001B[0m",
      "\u001B[0;31mTypeError\u001B[0m                                 Traceback (most recent call last)",
      "Cell \u001B[0;32mIn[56], line 1\u001B[0m\n\u001B[0;32m----> 1\u001B[0m \u001B[43mpoint\u001B[49m\u001B[43m[\u001B[49m\u001B[38;5;241;43m0\u001B[39;49m\u001B[43m]\u001B[49m \u001B[38;5;241m=\u001B[39m \u001B[38;5;241m20\u001B[39m\n",
      "\u001B[0;31mTypeError\u001B[0m: 'tuple' object does not support item assignment"
     ]
    }
   ],
   "source": [
    "point[0] = 20"
   ],
   "metadata": {
    "collapsed": false,
    "ExecuteTime": {
     "end_time": "2024-01-17T09:07:43.860066Z",
     "start_time": "2024-01-17T09:07:43.462591Z"
    }
   },
   "id": "17d8779011159242",
   "execution_count": 56
  },
  {
   "cell_type": "markdown",
   "source": [
    "Wenn wir versuchen, einem Element in einem Tupel einen neuen Wert zuzuweisen, erhalten wir einen Fehler:"
   ],
   "metadata": {
    "collapsed": false
   },
   "id": "3d8d1809205c4350"
  },
  {
   "cell_type": "markdown",
   "source": [
    "### Wörterbücher (_Dictionaries_)\n",
    "Dictionaries sind ebenfalls wie Listen, nur dass jedes Element ein Schlüssel-Wert-Paar ist. Die Syntax für Wörterbücher ist"
   ],
   "metadata": {
    "collapsed": false
   },
   "id": "bb7c9afe56b015b0"
  },
  {
   "cell_type": "code",
   "outputs": [],
   "source": [
    "params = {\n",
    "    \"parameter1\" : 1.0,\n",
    "    \"parameter2\" : 2.0,\n",
    "    \"parameter3\" : 3.0,\n",
    "}\n",
    "\n",
    "print(type(params))\n",
    "print(params)"
   ],
   "metadata": {
    "collapsed": false,
    "ExecuteTime": {
     "start_time": "2024-01-17T09:07:43.487264Z"
    }
   },
   "id": "293971d94788c76e",
   "execution_count": null
  },
  {
   "cell_type": "code",
   "outputs": [],
   "source": [
    "print(\"parameter1 = \" + str(params[\"parameter1\"]))\n",
    "print(\"parameter2 = \" + str(params[\"parameter2\"]))\n",
    "print(\"parameter3 = \" + str(params[\"parameter3\"]))"
   ],
   "metadata": {
    "collapsed": false,
    "ExecuteTime": {
     "start_time": "2024-01-17T09:07:43.489119Z"
    }
   },
   "id": "421c5441ab351221",
   "execution_count": null
  },
  {
   "cell_type": "code",
   "outputs": [],
   "source": [
    "params[\"parameter1\"] = \"A\"\n",
    "params[\"parameter2\"] = \"B\"\n",
    "\n",
    "# add a new entry\n",
    "params[\"parameter4\"] = \"D\"\n",
    "\n",
    "print(\"parameter1 = \" + str(params[\"parameter1\"]))\n",
    "print(\"parameter2 = \" + str(params[\"parameter2\"]))\n",
    "print(\"parameter3 = \" + str(params[\"parameter3\"]))\n",
    "print(\"parameter4 = \" + str(params[\"parameter4\"]))"
   ],
   "metadata": {
    "collapsed": false,
    "ExecuteTime": {
     "start_time": "2024-01-17T09:07:43.489646Z"
    }
   },
   "id": "69cccde9e237ed93",
   "execution_count": null
  },
  {
   "cell_type": "markdown",
   "source": [
    "## Kontrollfluss"
   ],
   "metadata": {
    "collapsed": false
   },
   "id": "e1c4df0fff205cfb"
  },
  {
   "cell_type": "markdown",
   "source": [
    "# Referenzen | Wichtige Links\n",
    "\n",
    "- [Python.org](https://www.python.org/) - _Downloads_, Dokumentation, Handbücher, Einfühung $\\ldots$\n",
    "- [PyPi.org](https://pypi.org/) - Python Package Index\n",
    "\n",
    "### Nützliche Bibliotheken\n",
    "- [NumPy.org](https://numpy.org/) - Numerical Python\n",
    "- [SciPy.org](https://scipy.org/) - Scientific Python\n",
    "- [SymPy.org](https://www.sympy.org/) - Symbolische Mathematik\n",
    "\n",
    "### Online Tutorials\n",
    "- [Python Tutorial](https://docs.python.org/3/tutorial/) - Die offizielle Python Einführung\n",
    "- [Think Python](https://www.greenteapress.com/thinkpython). A free book on Python.\n",
    "- [Tutorialspoint](https://www.tutorialspoint.com/python/index.htm)\n",
    "- [W3Schools](https://www.w3schools.com/python/default.asp)\n",
    "\n",
    "### YouTube Tutorials\n",
    "\n",
    "- [PyCharm](https://www.youtube.com/watch?v=iZNu8bpu-Ys) - IDE für professionelle Python Entwicklung"
   ],
   "metadata": {
    "collapsed": false
   },
   "id": "1f9a135e1e9c16ee"
  }
 ],
 "metadata": {
  "kernelspec": {
   "display_name": "Python 3",
   "language": "python",
   "name": "python3"
  },
  "language_info": {
   "codemirror_mode": {
    "name": "ipython",
    "version": 2
   },
   "file_extension": ".py",
   "mimetype": "text/x-python",
   "name": "python",
   "nbconvert_exporter": "python",
   "pygments_lexer": "ipython2",
   "version": "2.7.6"
  }
 },
 "nbformat": 4,
 "nbformat_minor": 5
}
