{
 "cells": [
  {
   "cell_type": "markdown",
   "source": [
    "# Einführung in Python\n",
    "\n",
    "Python ist eine hochrangige, interpretierte und allgemeine Programmiersprache, die 1991 von Guido van Rossum entwickelt wurde. Sie legt besonderen Wert auf Code-Lesbarkeit und ermöglicht es Programmierern, Konzepte in weniger Code-Zeilen auszudrücken als in Sprachen wie C++ oder Java. Die Sprache bietet Konstrukte, die es ermöglichen, klare Programme zu schreiben, sowohl auf kleiner als auch auf grosser Skala.\n",
    "\n",
    "Der Hauptunterschied zwischen einer kompilierten Sprache und einer Skriptsprache liegt in der Ausführung der Programme. Bei kompilierten Sprachen wird der Code vor der Ausführung komplett in Maschinen-Code übersetzt. Bei Skriptsprachen hingegen wird der Code Zeile für Zeile während der Laufzeit interpretiert. Python ist eine interpretierte Sprache, was ihr eine gewisse Flexibilität verschafft, allerdings auf Kosten der Performance.\n",
    "\n",
    "Python wird in diversen Anwendungsfällen eingesetzt. Es wird häufig als (_Glue_-) Sprache verwendet, um existierende Komponenten zusammenzuführen. Es ist auch sehr gut für den Einsatz in Datenanalyse, künstlicher Intelligenz, maschinellem Lernen und Webentwicklung geeignet. In Bezug auf seine Systemintegration und Textverarbeitungsfähigkeiten ist Python besonders stark.\n",
    "\n",
    "Die Zukunft von Python sieht recht positiv aus. Es wird von einer aktiven Community unterstützt und seine Popularität hat in den letzten Jahren zunehmend zugenommen. Sicherlich hat jede der Sprachen C, C++, C# und Java ihre eigene Nische und wird in bestimmten Anwendungsfällen bevorzugt. Aber die Tatsache, dass Python eine einfach zu lernende und anzuwendende Sprache ist, macht sie zu einer attraktiven Wahl für viele Anwendungsfälle, besonders für Anfänger in der Programmierung. Python wird wahrscheinlich weiterhin ein wichtiger Spieler in der Welt der Programmiersprachen bleiben."
   ],
   "metadata": {
    "collapsed": false
   },
   "id": "d09b729ca6857d8b"
  },
  {
   "cell_type": "markdown",
   "source": [
    "## Was ist Python\n",
    "[Python](http://www.python.org/) ist eine moderne, objektorientierte Hochsprachenprogrammierung für allgemeine Zwecke.\n",
    "\n",
    "Allgemeine Eigenschaften von Python:\n",
    "* **Saubere und einfache Sprache**: Leicht zu lesender und intuitiver Code, einfach zu erlernende, minimalistische Syntax, gute Wartbarkeit, skalierbar mit der Größe der Projekte.\n",
    "* **Ausdrucksvolle Sprache**: Weniger Codezeilen, weniger Fehler, leichter zu pflegen.\n",
    "\n",
    "Technische Einzelheiten:\n",
    "* **Dynamisch typisiert**: Der Typ von Variablen, Funktionsargumenten oder Rückgabetypen muss nicht definiert werden.\n",
    "* **Automatische Speicherverwaltung**: Kein explizites Zuweisen und Freigeben von Speicher für Variablen und Datenarrays erforderlich. Keine Speicherleck-Fehler. \n",
    "* **Interpretiert**: Sie müssen den Code nicht kompilieren. Der Python-Interpreter liest und führt den Python-Code direkt aus.\n",
    "\n",
    "Vorteile:\n",
    "* Der Hauptvorteil ist die einfache Programmierung, die den Zeitaufwand für die Entwicklung, das Debugging und die Pflege des Codes minimiert.\n",
    "* Gut konzipierte Sprache, die viele gute Programmierpraktiken fördert:\n",
    "    * Modulare und objektorientierte Programmierung, gutes System für die Verpackung und Wiederverwendung von Code. Dies führt oft zu transparenterem, wartbarem und fehlerfreiem Code.\n",
    "    * Die Dokumentation ist eng in den Code integriert.\n",
    "* Eine umfangreiche Standardbibliothek und eine grosse Sammlung von Zusatzpaketen.\n",
    "\n",
    "Nachteile:\n",
    "* Da Python eine interpretierte und dynamisch typisierte Programmiersprache ist, kann die Ausführung von Python-Code im Vergleich zu kompilierten, statisch typisierten Programmiersprachen wie C und Fortran langsam sein. \n",
    "* Etwas dezentralisiert, mit verschiedenen Umgebungen, Paketen und Dokumentationen, die an verschiedenen Orten verteilt sind. Das kann den Einstieg erschweren."
   ],
   "metadata": {
    "collapsed": false
   },
   "id": "36fd4fdc4cfd6944"
  },
  {
   "cell_type": "markdown",
   "source": [
    "# Kommandos und Programme\n",
    "## Erste Schritte mit Python\n",
    "\n",
    "Wir beginnen den Kurs mit ein paar grundlegenden Python-Befehlen. Ein einfacher Befel in Python könnte das Drucken von Text auf dem Bildschirm sein."
   ],
   "metadata": {
    "collapsed": false
   },
   "id": "3c042b4ea21334a"
  },
  {
   "cell_type": "code",
   "outputs": [
    {
     "name": "stdout",
     "output_type": "stream",
     "text": [
      "Herzlich Willkommen zum Python-Kurs\n"
     ]
    }
   ],
   "source": [
    "print(\"Herzlich Willkommen zum Python-Kurs\")"
   ],
   "metadata": {
    "collapsed": false,
    "ExecuteTime": {
     "end_time": "2024-01-16T11:38:09.263291Z",
     "start_time": "2024-01-16T11:38:09.250867Z"
    }
   },
   "id": "54ac5528bdf8e61d",
   "execution_count": 101
  },
  {
   "cell_type": "markdown",
   "source": [
    "Ebenso können wir einfache mathematische Berechnungen durchführen."
   ],
   "metadata": {
    "collapsed": false
   },
   "id": "d96b7180d51e58a0"
  },
  {
   "cell_type": "code",
   "outputs": [
    {
     "name": "stdout",
     "output_type": "stream",
     "text": [
      "15\n"
     ]
    }
   ],
   "source": [
    "print(5 + 10)"
   ],
   "metadata": {
    "collapsed": true,
    "ExecuteTime": {
     "end_time": "2024-01-16T11:38:09.272155Z",
     "start_time": "2024-01-16T11:38:09.266990Z"
    }
   },
   "id": "initial_id",
   "execution_count": 102
  },
  {
   "cell_type": "markdown",
   "source": [
    "Oder eine Division:"
   ],
   "metadata": {
    "collapsed": false
   },
   "id": "f57760b074887192"
  },
  {
   "cell_type": "code",
   "outputs": [
    {
     "name": "stdout",
     "output_type": "stream",
     "text": [
      "5.0\n"
     ]
    }
   ],
   "source": [
    "print(10 / 2)"
   ],
   "metadata": {
    "collapsed": false,
    "ExecuteTime": {
     "end_time": "2024-01-16T11:38:09.295146Z",
     "start_time": "2024-01-16T11:38:09.273879Z"
    }
   },
   "id": "d5282d848bed0380",
   "execution_count": 103
  },
  {
   "cell_type": "markdown",
   "source": [
    "In diesen Beispielen wurde die Funktion `print()` aus der Standardbibliothek von Python verwendet. Hier spricht man auch von den sogenannten _built-in_ Funktionen, welche im Detail im [Handbuch](https://docs.python.org/3/library/functions.html) aufgeführt und beschrieben sind. \n",
    "\n",
    "Die Spezialzeichen, welche an dieser Stelle für die Addition (`+`) und Division (`/`) verwendet wurden werden Operatoren genannt. Eine komplette Auflistung der möglichen Operatoren sind [hier](https://docs.python.org/3/library/stdtypes.html#numeric-types-int-float-complex) zu finden. "
   ],
   "metadata": {
    "collapsed": false
   },
   "id": "1038bd24b8eb92ec"
  },
  {
   "cell_type": "markdown",
   "source": [
    "Python-Skripte werden üblicherweise in eine mit einem Editor oder einer Interaktiven Entwiklungsumgebung (IDE) in einer Datei abgelegt.\n",
    "Hier nur einige Beispiele möglicher Umgebungen:\n",
    "\n",
    "- [PyCharm](https://www.jetbrains.com/pycharm/) \n",
    "- [Visual Studio Code](https://code.visualstudio.com/) \n",
    "- [Spyder](https://www.spyder-ide.org/) "
   ],
   "metadata": {
    "collapsed": false
   },
   "id": "dfd3faa4c4583e24"
  },
  {
   "cell_type": "markdown",
   "source": [
    "## Python Umgebungen"
   ],
   "metadata": {
    "collapsed": false
   },
   "id": "3a9689f7a2c79d3c"
  },
  {
   "cell_type": "markdown",
   "source": [
    "### Python Interpreter\n",
    "Die Standardmethode zur Verwendung der Programmiersprache Python ist die Verwendung des Python-Interpreters zur Ausführung von Python-Code. Der Python-Interpreter ist ein Programm, das den Python-Code in Dateien liest und ausführt, die ihm als Argumente übergeben werden. An der Eingabeaufforderung wird der Befehl `python` verwendet, um den Python-Interpreter aufzurufen.\n",
    "\n",
    "Um zum Beispiel eine Datei [my-program.py](file://./my-program.py), die Python-Code enthält, von der Eingabeaufforderung aus zu starten, verwenden wir:\n",
    "\n",
    "    $ python my-program.py\n",
    "\n",
    "Wir können den Interpreter auch einfach durch die Eingabe von python in der Befehlszeile starten und interaktiv python-Code in den Interpreter eingeben.\n",
    "\n",
    "<img src=\"./images/python-screenshot.png\" width=\"1024\">\n"
   ],
   "metadata": {
    "collapsed": false
   },
   "id": "1565cd43023faf2b"
  },
  {
   "cell_type": "markdown",
   "source": [],
   "metadata": {
    "collapsed": false
   },
   "id": "f42d23d3a027a793"
  },
  {
   "cell_type": "markdown",
   "source": [
    "## Benutzung von Variablen"
   ],
   "metadata": {
    "collapsed": false
   },
   "id": "173d294fcd19bb96"
  },
  {
   "cell_type": "markdown",
   "source": [
    "# Datentypen und Variablen\n",
    "Python hat verschiedene Datentypen. Einige der grundlegenden Typen sind Ganzzahlen, Fließkommazahlen, boolesche Werte und Zeichenketten."
   ],
   "metadata": {
    "collapsed": false
   },
   "id": "671f92b089b8e1c2"
  },
  {
   "cell_type": "markdown",
   "source": [
    "# Referenzen | Wichtige Links\n",
    "\n",
    "- [Python.org](https://www.python.org/) - _Downloads_, Dokumentation, Handbücher, Einfühung $\\ldots$\n",
    "- [PyPi.org](https://pypi.org/) - Python Package Index\n",
    "- [NumPy.org](https://numpy.org/) - Numerical Python\n",
    "- [SciPy.org](https://scipy.org/) - Scientific Python\n",
    "- [SymPy.org](https://www.sympy.org/) - Symbolische Mathematik\n",
    "- [Python Reference](https://python-reference.readthedocs.io/en/latest/index.html) - Done the right Way\n",
    "\n",
    "\n",
    "## YouTube Tutorials\n",
    "\n",
    "- [PyCharm - IDE für professionelle Python Entwicklung](https://www.youtube.com/watch?v=iZNu8bpu-Ys)"
   ],
   "metadata": {
    "collapsed": false
   },
   "id": "1f9a135e1e9c16ee"
  }
 ],
 "metadata": {
  "kernelspec": {
   "display_name": "Python 3",
   "language": "python",
   "name": "python3"
  },
  "language_info": {
   "codemirror_mode": {
    "name": "ipython",
    "version": 2
   },
   "file_extension": ".py",
   "mimetype": "text/x-python",
   "name": "python",
   "nbconvert_exporter": "python",
   "pygments_lexer": "ipython2",
   "version": "2.7.6"
  }
 },
 "nbformat": 4,
 "nbformat_minor": 5
}
