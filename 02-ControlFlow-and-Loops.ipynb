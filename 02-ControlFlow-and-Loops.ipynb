{
 "cells": [
  {
   "cell_type": "markdown",
   "source": [
    "# Bedingungen und Kontrollstrukturen\n",
    "\n",
    "## Bedingungen\n",
    "\n",
    "Durch eine Bedingung (engl. _condition_) wird der Ablauf eines Programms beeinflusst. Es wird ein logischer Ausdruck ausgewertet. Für die Formulierung solcher Bedingungen stehen die Vergleichsoperatoren und die logischen Operatoren zur Verfügung. Eine Bedingung kann entweder mit „Ja“ beantwortet werden (`True` bzw. wahr) oder mit „Nein“ (`False` bzw. falsch). Vom Ergebnis der Bedingung ist abhängig, welche Anweisungen des Programms danach abgearbeitet werden und welche nicht."
   ],
   "metadata": {
    "collapsed": false
   },
   "id": "b59508abee40141b"
  },
  {
   "cell_type": "code",
   "outputs": [
    {
     "name": "stdout",
     "output_type": "stream",
     "text": [
      "True\n",
      "True\n",
      "True\n"
     ]
    }
   ],
   "source": [
    "zahl = 50\n",
    "\n",
    "print((zahl % 2) == 0)\n",
    "print((zahl > 40) and (zahl < 51))\n",
    "print(zahl > 60 or zahl == 50)"
   ],
   "metadata": {
    "collapsed": false,
    "ExecuteTime": {
     "end_time": "2024-01-24T16:49:49.045271Z",
     "start_time": "2024-01-24T16:49:49.013183Z"
    }
   },
   "id": "dc2ee29c8c3cd2d6",
   "execution_count": 21
  },
  {
   "cell_type": "markdown",
   "source": [
    "### Kontrollstrukturen\n",
    "\n",
    "Kontrollsturkturen dienen dazu den Programmfluss zu bestimmen. Es werden zwei Gruppen von Kontrollstrukturen unterschieden. Die Verzweigungen und die Schleifen.\n",
    "\n",
    "Eine Verzweigung kann eine der folgenden Ausprägungen besitzen:\n",
    "\n",
    "* Bedingte Anweisung (Einseitige Verzweigung)\n",
    "* Verzweigung\n",
    "* Geschachtelte Verzweigung\n",
    "* Mehrfache Verzweigung"
   ],
   "metadata": {
    "collapsed": false
   },
   "id": "614ad479e3f81b22"
  },
  {
   "cell_type": "code",
   "outputs": [
    {
     "name": "stdout",
     "output_type": "stream",
     "text": [
      "Das ist zu teuer...\n"
     ]
    }
   ],
   "source": [
    "x = 60\n",
    "\n",
    "# Einseitige Verzweigung\n",
    "if x > 50:\n",
    "    print('Das ist zu teuer...')"
   ],
   "metadata": {
    "collapsed": false,
    "ExecuteTime": {
     "end_time": "2024-01-24T16:49:49.109334Z",
     "start_time": "2024-01-24T16:49:49.048252Z"
    }
   },
   "id": "e35390bff7575d07",
   "execution_count": 22
  },
  {
   "cell_type": "code",
   "outputs": [
    {
     "name": "stdout",
     "output_type": "stream",
     "text": [
      "Das ist zu teuer...\n"
     ]
    }
   ],
   "source": [
    "# Verzweigung\n",
    "if x > 50:\n",
    "    print('Das ist zu teuer...')\n",
    "else:\n",
    "    print('Der Preis ist OK.')"
   ],
   "metadata": {
    "collapsed": false,
    "ExecuteTime": {
     "end_time": "2024-01-24T16:49:49.124529Z",
     "start_time": "2024-01-24T16:49:49.111404Z"
    }
   },
   "id": "34e76bf40774a0a",
   "execution_count": 23
  },
  {
   "cell_type": "code",
   "outputs": [
    {
     "name": "stdout",
     "output_type": "stream",
     "text": [
      "Das ist zu teuer...\n"
     ]
    }
   ],
   "source": [
    "# Geschachtelte Verzweigung\n",
    "if x > 50:\n",
    "    print('Das ist zu teuer...')\n",
    "else:\n",
    "    if x < 10:\n",
    "        print('Das ist ein Schnäppchen')\n",
    "    else:\n",
    "        print('Der Preis ist OK.')"
   ],
   "metadata": {
    "collapsed": false,
    "ExecuteTime": {
     "end_time": "2024-01-24T16:49:49.134854Z",
     "start_time": "2024-01-24T16:49:49.126766Z"
    }
   },
   "id": "bb476cf9f23ddf2e",
   "execution_count": 24
  },
  {
   "cell_type": "code",
   "outputs": [
    {
     "name": "stdout",
     "output_type": "stream",
     "text": [
      "Das ist zu teuer...\n"
     ]
    }
   ],
   "source": [
    "# Geschachtelte Verzweigung (Vereinfacht)\n",
    "if x > 50:\n",
    "    print('Das ist zu teuer...')\n",
    "elif x < 10:\n",
    "    print('Das ist ein Schnäppchen')\n",
    "else:\n",
    "    print('Der Preis ist OK.')"
   ],
   "metadata": {
    "collapsed": false,
    "ExecuteTime": {
     "end_time": "2024-01-24T16:49:49.135311Z",
     "start_time": "2024-01-24T16:49:49.130912Z"
    }
   },
   "id": "e9e4877c5dacd0a6",
   "execution_count": 25
  },
  {
   "cell_type": "markdown",
   "source": [
    "```\n",
    "# Mehrfache Verzweigung\n",
    "# Abhängig von einem einzigen Ausdruck wird ein Fall (Case) ausgeführt\n",
    "# Beispiel Java:\n",
    "```\n",
    "\n",
    "```java\n",
    "switch(monat_als_zahl){\n",
    "  case 1:\n",
    "    System.out.println(\"Januar\");\n",
    "  case 2:\n",
    "    System.out.println(\"Februar\");\n",
    "  ...\n",
    "  default:\n",
    "    System.out.println(\"Falsche Eingabe\");\n",
    "}\n",
    "```"
   ],
   "metadata": {
    "collapsed": false
   },
   "id": "5dd950658a9b4d61"
  },
  {
   "cell_type": "code",
   "outputs": [
    {
     "name": "stdout",
     "output_type": "stream",
     "text": [
      "Februar\n"
     ]
    }
   ],
   "source": [
    "# Eine Switch-Anweisung existiert in Python nicht. Die Alternative sieht hier so aus.\n",
    "\n",
    "month_number = int(input('Monats-Zahl: '))\n",
    "\n",
    "if month_number == 1:\n",
    "    print('Januar')\n",
    "elif month_number == 2:\n",
    "    print('Februar')\n",
    "elif month_number == 3:\n",
    "    print('März')\n",
    "elif month_number == 4:\n",
    "    print('April')\n",
    "elif month_number == 5:\n",
    "    print('Mai')\n",
    "elif month_number == 6:\n",
    "    print('Juni')\n",
    "elif month_number == 7:\n",
    "    print('Juli')\n",
    "elif month_number == 8:\n",
    "    print('August')\n",
    "elif month_number == 9:\n",
    "    print('September')\n",
    "elif month_number == 10:\n",
    "    print('Oktober')\n",
    "elif month_number == 11:\n",
    "    print('November')\n",
    "elif month_number == 12:\n",
    "    print('Dezember')\n",
    "else:\n",
    "    print('Ungültige Eingabe')"
   ],
   "metadata": {
    "collapsed": false,
    "ExecuteTime": {
     "end_time": "2024-01-24T16:49:53.435817Z",
     "start_time": "2024-01-24T16:49:49.134923Z"
    }
   },
   "id": "7b30a897205e8e21",
   "execution_count": 26
  },
  {
   "cell_type": "markdown",
   "source": [
    "### Übung\n",
    "\n",
    "Erstelle ein Programm das eine Schulnote entgegennimmt und eine entsprechende Meldung ausgibt."
   ],
   "metadata": {
    "collapsed": false
   },
   "id": "ad38af35c98f75f"
  },
  {
   "cell_type": "code",
   "outputs": [],
   "source": [
    "# Gewünschte Ausgabe:\n",
    "# Bei Note 6: \"Sehr gut\"\n",
    "# Bei Note 5: \"Gut\"\n",
    "# Bei Note 4: \"Befriedigend\"\n",
    "# Bei Note 3: \"Ausreichend\"\n",
    "# Bei Note 2: \"Mangelhaft\"\n",
    "# Bei Note 1: \"Ungenügend\"\n",
    "# Bei Fehleingabe: \"FEHLER!\"\n",
    "\n",
    "# Hier kannst du deinen Code erfassen."
   ],
   "metadata": {
    "collapsed": false,
    "ExecuteTime": {
     "end_time": "2024-01-24T16:49:53.436359Z",
     "start_time": "2024-01-24T16:49:53.390283Z"
    }
   },
   "id": "b1e3f3f4fff1a8c2",
   "execution_count": 27
  },
  {
   "cell_type": "markdown",
   "source": [
    "## Schleifen\n",
    "\n",
    "Zur Umsetzung von Algorithmen müssen die gleichen Anweisungen meist mehrmals wiederholt werden. Häufig ist es dabei auch nicht vorhersehbar, wie oft diese Anweisungen ausgeführt werden sollen. In jeder Programmiersprache gibt es verschiedene Strukturen, die eine wiederholte Ausführung von Anweisungen ermöglichen. Diese Kontrollstrukturen werden als Schleifen bezeichnet.\n",
    "\n",
    "Eine Schleife besteht aus einer Schleifensteuerung und einem Schleifenrumpf. Die Schleifensteuerung gibt an, wie oft oder unter welcher Bedingung die Anweisungen abgearbeitet werden. Innerhalb der Schleifensteuerung befindet sich der Schleifenrumpf, der die zu wiederholenden Anweisungen enthält.\n",
    "\n",
    "Drei Arten von Schleifenstrukturen werden unterschieden:\n",
    "* Zählergesteuerte Schleife\n",
    "* Bedingte Schleife (Kopfgesteuert)\n",
    "* Bedingte Schleife (Fussgesteuert)"
   ],
   "metadata": {
    "collapsed": false
   },
   "id": "8a2f202ef5281e60"
  },
  {
   "cell_type": "markdown",
   "source": [
    "### Zählergesteuerte Schleife\n",
    "\n",
    "Die zählergesteuerte Schleife (auch For-Schleife genannt) ist dadurch gekennzeichnet, dass die Anzahl der Schleifendurchläufe durch einen Anfangs- und Endwert festgelegt ist.\n",
    "\n",
    "Python kennt die übliche `for`-Schleife nicht. "
   ],
   "metadata": {
    "collapsed": false
   },
   "id": "f110d4669c0d2058"
  },
  {
   "cell_type": "code",
   "outputs": [
    {
     "name": "stdout",
     "output_type": "stream",
     "text": [
      "Wir kennen die folgenden Programmiersprachen:\n"
     ]
    }
   ],
   "source": [
    "# Beispiel For-Schleife Python\n",
    "\n",
    "languages = ['Python', 'C#', 'C++', 'Java', 'JavaScript']\n",
    "\n",
    "print('Wir kennen die folgenden Programmiersprachen:')\n",
    "\n",
    "for language in languages:\n",
    "    print('- {}'.format(language))"
   ],
   "metadata": {
    "collapsed": false,
    "ExecuteTime": {
     "end_time": "2024-01-24T20:03:03.731843Z",
     "start_time": "2024-01-24T20:03:03.727355Z"
    }
   },
   "id": "190d51b8c57ada75",
   "execution_count": 37
  },
  {
   "cell_type": "markdown",
   "source": [
    "### Bedingte Schleife (Kopfgesteuert)\n",
    "\n",
    "Bei einer kopfgesteuerten bedingten Schleife wird eine Bedingung ausgewertet, bevor die Anweisungsfolge innerhalb des Schleifenrumpfs ausgeführt wird. Wenn das Ergebnis der Bedingung falsch ist, bevor die Schleife das erste Mal durchlaufen werden soll, werden die darin enthaltenen Anweisungen nie ausgeführt (abweisende Schleife).\n",
    "\n",
    "Wenn das Ergebnis der Bedingung wahr ist, wird die Anweisungsfolge so lange ausgeführt, bis die Bedingung nicht mehr zutrifft.\n",
    "\n",
    "Eine kopfgesteuerte Schleife wird auch abweisende Schleife genannt. Auch die Zählschleife ist eine kopfgesteuerte Schleife. Wenn die Laufvariable den Endwert bereits bei der Initialisierung überschreitet, werden die Anweisungen der Schleife nie ausgeführt.\n",
    "\n",
    "Sie sollten kopfgesteuerte Schleifen einsetzen, wenn das Programm nur dann die Anweisungen der Schleife abarbeiten soll, wenn eine bestimmte Bedingung zutrifft."
   ],
   "metadata": {
    "collapsed": false
   },
   "id": "5cae189dfcf74cae"
  },
  {
   "cell_type": "code",
   "outputs": [
    {
     "name": "stdout",
     "output_type": "stream",
     "text": [
      "10\n",
      "9\n",
      "8\n",
      "7\n",
      "6\n",
      "5\n",
      "4\n",
      "3\n",
      "2\n",
      "1\n",
      "0\n"
     ]
    }
   ],
   "source": [
    "countdown = 10\n",
    "\n",
    "while countdown >= 0:\n",
    "    print(countdown)\n",
    "    countdown -= 1"
   ],
   "metadata": {
    "collapsed": false,
    "ExecuteTime": {
     "end_time": "2024-01-24T16:49:53.437956Z",
     "start_time": "2024-01-24T16:49:53.403169Z"
    }
   },
   "id": "c47640091792bec5",
   "execution_count": 29
  },
  {
   "cell_type": "markdown",
   "source": [
    "### Fussgesteuerte Schleife\n",
    "\n",
    "Bei der fussgesteuerten Schleife findet die Bedingungsprüfung am Ende der Schleife statt.\n",
    "\n",
    "Erst nach Abarbeitung der Anweisungen wird am Ende der Schleife die Bedingung geprüft, ob der Schleifenrumpf noch einmal durchlaufen werden soll oder nicht (annehmende Schleife).\n",
    "\n",
    "Setzen Sie fußgesteuerte Schleifen ein, wenn die Anweisungen innerhalb des Schleifenrumpfs mindestens einmal ausgeführt werden sollen. Erst danach entscheidet eine Bedingungsprüfung, ob die Schleife erneut ausgeführt wird.\n",
    "\n",
    "Python kennt keine fußgesteuerte Schleife in klassischem Sinn. Deshalb wird hier eine Syntax vorgestellt, wie sie in Sprachen wie Java, JavaScript, PHP, C, C# etc. üblich ist. Die konkrete Syntax soll wieder Java sein. Aber noch einmal zur Verdeutlichung – der Verzicht auf diese Art einer Schleife in Python ist keine Schwäche, sondern ein sehr großer Vorteil! Es gibt keinen Grund, warum man zwingend eine fußgesteuerte Schleife in einer Programmiersprache benötigt. Man muss lediglich eine Situation beim Erreichen der Schleife so formulieren, dass auch mit einer abweisenden Schleife die Schleife auf jeden Fall einmal durchlaufen wird, etwa durch geschickte Wahl des Wertes der Zählvariable. In Python sorgt der Verzicht also nur für klareren Code und einfachere Syntax."
   ],
   "metadata": {
    "collapsed": false
   },
   "id": "163f94d7aff5c7ae"
  },
  {
   "cell_type": "markdown",
   "source": [
    "```\n",
    "# Beispiel Java\n",
    "\n",
    "int countdown = 20\n",
    "do\n",
    "  System.out.println(countdown)\n",
    "  countdown -= 1\n",
    "while (countdown >= 0)\n",
    "```"
   ],
   "metadata": {
    "collapsed": false
   },
   "id": "c47bab9ab614b980"
  },
  {
   "cell_type": "markdown",
   "source": [
    "### Sprunganweisungen\n",
    "\n",
    "Nahezu alle modernen Sprachen stellen eine gewisse Anzahl an Sprunganweisungen zur Verfügung. Diese verlassen eine umgebende syntaktische Struktur (beispielsweise eine Schleife) und führen dazu, dass mit der direkten Anweisung hinter der syntaktischen Struktur weitergemacht wird.\n",
    "\n",
    "#### BREAK-Anweisung\n",
    "Die Anweisung break verlässt eine Syntaxstruktur sofort, wenn diese Stelle im Quelltext erreicht wird. Das kann\n",
    "man in Schleifen nutzen."
   ],
   "metadata": {
    "collapsed": false
   },
   "id": "c9ac54a1a5bd9509"
  },
  {
   "cell_type": "code",
   "outputs": [
    {
     "name": "stdout",
     "output_type": "stream",
     "text": [
      "1\n",
      "2\n",
      "3\n",
      "4\n",
      "5\n"
     ]
    }
   ],
   "source": [
    "number = 1\n",
    "\n",
    "while number < 100:\n",
    "    print(number)\n",
    "    if number == 5:\n",
    "        break\n",
    "    number += 1"
   ],
   "metadata": {
    "collapsed": false,
    "ExecuteTime": {
     "end_time": "2024-01-24T16:49:53.438366Z",
     "start_time": "2024-01-24T16:49:53.411111Z"
    }
   },
   "id": "c538b1cd1e288195",
   "execution_count": 30
  },
  {
   "cell_type": "markdown",
   "source": [
    "#### CONTINUE-Anweisung\n",
    "\n",
    "Mit der Sprunganweisung continue können Sie an einer bestimmten Stelle innerhalb des Schleifenblocks unmittelbar den nächsten Schleifendurchlauf erzwingen und die nachfolgenden Anweisungen innerhalb des Schleifenblocks ignorieren. Die Verwendung von continue findet man in der Praxis nicht sonderlich oft. Alternativ kann man fast immer Bedingungen so formulieren, dass man darauf verzichten kann."
   ],
   "metadata": {
    "collapsed": false
   },
   "id": "738630363030c336"
  },
  {
   "cell_type": "code",
   "outputs": [
    {
     "name": "stdout",
     "output_type": "stream",
     "text": [
      "1\n",
      "2\n",
      "3\n",
      "4\n",
      "7\n",
      "8\n",
      "9\n",
      "10\n"
     ]
    }
   ],
   "source": [
    "number = 0\n",
    "\n",
    "while number < 10:\n",
    "    number += 1\n",
    "    if number == 5 or number == 6:\n",
    "        continue\n",
    "    print(number)"
   ],
   "metadata": {
    "collapsed": false,
    "ExecuteTime": {
     "end_time": "2024-01-24T16:49:53.438745Z",
     "start_time": "2024-01-24T16:49:53.416449Z"
    }
   },
   "id": "8b09a4e39703d102",
   "execution_count": 31
  },
  {
   "cell_type": "markdown",
   "source": [
    "#### RETURN-Anweisung\n",
    "\n",
    "Im Zusammenhang mit Funktionen (folgt im nächsten Abschnitt) und Methoden gibt es die Sprunganweisung return. Diese verlässt eine\n",
    "Funktion oder Methode und gibt in der Regel einen Rückgabewert zurück."
   ],
   "metadata": {
    "collapsed": false
   },
   "id": "8062d90a3bb4d6a1"
  },
  {
   "cell_type": "code",
   "outputs": [
    {
     "name": "stdout",
     "output_type": "stream",
     "text": [
      "20\n"
     ]
    }
   ],
   "source": [
    "def summe(number1, number2):\n",
    "    resultat = number1 + number2\n",
    "    return resultat\n",
    "\n",
    "print(summe(5, 15))"
   ],
   "metadata": {
    "collapsed": false,
    "ExecuteTime": {
     "end_time": "2024-01-24T16:49:53.480794Z",
     "start_time": "2024-01-24T16:49:53.442141Z"
    }
   },
   "id": "8ee7e91e4620ae86",
   "execution_count": 32
  },
  {
   "cell_type": "markdown",
   "source": [
    "#### RAISE-Anweisung\n",
    "\n",
    "Die vierte Sprunganweisung bei Python nennt sich raise. Damit werfen Sie eine sogenannte Ausnahme (Exception) aus, die den normalen Programm- beziehungsweise Skriptablauf unterbricht und zu einer Behandlungsroutine springt. Man spricht hier vom „Werfen“ einer Ausnahme.\n",
    "\n",
    "Die meisten Sprachen werfen Ausnahmen mit dem Schlüsselwort throw."
   ],
   "metadata": {
    "collapsed": false
   },
   "id": "f714c84aebe11055"
  },
  {
   "cell_type": "code",
   "outputs": [
    {
     "name": "stdout",
     "output_type": "stream",
     "text": [
      "1\n",
      "2\n",
      "3\n",
      "4\n",
      "5\n",
      "6\n",
      "7\n"
     ]
    },
    {
     "ename": "Exception",
     "evalue": "Ausnahmebedingung geworfen!",
     "output_type": "error",
     "traceback": [
      "\u001B[0;31m---------------------------------------------------------------------------\u001B[0m",
      "\u001B[0;31mException\u001B[0m                                 Traceback (most recent call last)",
      "Cell \u001B[0;32mIn[33], line 6\u001B[0m\n\u001B[1;32m      4\u001B[0m number \u001B[38;5;241m+\u001B[39m\u001B[38;5;241m=\u001B[39m \u001B[38;5;241m1\u001B[39m\n\u001B[1;32m      5\u001B[0m \u001B[38;5;28;01mif\u001B[39;00m number \u001B[38;5;241m==\u001B[39m \u001B[38;5;241m8\u001B[39m:\n\u001B[0;32m----> 6\u001B[0m     \u001B[38;5;28;01mraise\u001B[39;00m \u001B[38;5;167;01mException\u001B[39;00m(\u001B[38;5;124m'\u001B[39m\u001B[38;5;124mAusnahmebedingung geworfen!\u001B[39m\u001B[38;5;124m'\u001B[39m)\n\u001B[1;32m      7\u001B[0m \u001B[38;5;28mprint\u001B[39m(number)\n",
      "\u001B[0;31mException\u001B[0m: Ausnahmebedingung geworfen!"
     ]
    }
   ],
   "source": [
    "number = 0\n",
    "\n",
    "while number < 10:\n",
    "    number += 1\n",
    "    if number == 8:\n",
    "        raise Exception('Ausnahmebedingung geworfen!')\n",
    "    print(number)"
   ],
   "metadata": {
    "collapsed": false,
    "ExecuteTime": {
     "end_time": "2024-01-24T16:49:53.503507Z",
     "start_time": "2024-01-24T16:49:53.491649Z"
    }
   },
   "id": "44bcce92820a31ba",
   "execution_count": 33
  },
  {
   "cell_type": "markdown",
   "source": [
    "### Endlosschleifen\n",
    "\n",
    "Endlosschleifen (_Infinite loop_) sind Schleifen, die nach jeder Abarbeitung erneut abgearbeitet werden, falls die Ausführung nicht durch äußere Einflüsse oder eine Anweisung aus dem Inneren (etwa die Sprunganweisung break) abgebrochen wird.\n",
    "\n",
    "Endlosschleifen können durch Fehler entstehen, wenn die Abbruchbedingung nicht definiert ist oder nicht eintreten kann. Es gibt aber auch sinnvolle Anwendungen. So kann etwa die permanente Abfrage der Mausposition bei einer grafischen Oberfläche eine gewollte Endlosschleife sein. Eine andere Situation ist, dass man eine Schleife eine unbekannte oder unbestimmte Anzahl von Durchläufen ausführen möchte und der Abbruch dann durch eine Eingabe erfolgen soll."
   ],
   "metadata": {
    "collapsed": false
   },
   "id": "49b40cb3d8636eeb"
  },
  {
   "cell_type": "code",
   "outputs": [
    {
     "name": "stdout",
     "output_type": "stream",
     "text": [
      "0\n",
      "1\n",
      "2\n",
      "3\n",
      "4\n",
      "5\n",
      "6\n",
      "7\n",
      "8\n",
      "9\n",
      "10\n",
      "11\n",
      "12\n",
      "13\n",
      "14\n",
      "15\n",
      "16\n",
      "17\n",
      "18\n",
      "19\n",
      "20\n",
      "21\n",
      "22\n",
      "23\n",
      "24\n"
     ]
    },
    {
     "ename": "KeyboardInterrupt",
     "evalue": "",
     "output_type": "error",
     "traceback": [
      "\u001B[0;31m---------------------------------------------------------------------------\u001B[0m",
      "\u001B[0;31mKeyboardInterrupt\u001B[0m                         Traceback (most recent call last)",
      "Cell \u001B[0;32mIn[38], line 4\u001B[0m\n\u001B[1;32m      2\u001B[0m \u001B[38;5;28;01mwhile\u001B[39;00m counter \u001B[38;5;241m<\u001B[39m \u001B[38;5;241m50\u001B[39m:\n\u001B[1;32m      3\u001B[0m     \u001B[38;5;28;01mif\u001B[39;00m \u001B[38;5;241m25\u001B[39m \u001B[38;5;241m<\u001B[39m\u001B[38;5;241m=\u001B[39m counter \u001B[38;5;241m<\u001B[39m\u001B[38;5;241m=\u001B[39m \u001B[38;5;241m30\u001B[39m:\n\u001B[0;32m----> 4\u001B[0m         \u001B[38;5;28;01mcontinue\u001B[39;00m\n\u001B[1;32m      5\u001B[0m     \u001B[38;5;28mprint\u001B[39m(counter)\n\u001B[1;32m      6\u001B[0m     counter \u001B[38;5;241m+\u001B[39m\u001B[38;5;241m=\u001B[39m \u001B[38;5;241m1\u001B[39m\n",
      "\u001B[0;31mKeyboardInterrupt\u001B[0m: "
     ]
    }
   ],
   "source": [
    "counter = 0\n",
    "while counter < 50: \n",
    "    if 25 <= counter <= 30:\n",
    "        continue\n",
    "    print(counter)\n",
    "    counter += 1"
   ],
   "metadata": {
    "collapsed": false,
    "ExecuteTime": {
     "end_time": "2024-01-24T20:17:44.859699Z",
     "start_time": "2024-01-24T20:17:14.809803Z"
    }
   },
   "id": "b638292c91d7ae2b",
   "execution_count": 38
  },
  {
   "cell_type": "markdown",
   "source": [
    "### Übung"
   ],
   "metadata": {
    "collapsed": false
   },
   "id": "881f5da01a823328"
  },
  {
   "cell_type": "markdown",
   "source": [
    "#### Übung 1\n",
    "Schreibe ein Programm, welches zwei Zahlen entgegennimmt und die grössere davon als String ausgibt.\n",
    "\n",
    "<br>\n",
    "\n",
    "```\n",
    "Beispiel Eingabe 1: 23\n",
    "\n",
    "Beispiel Eingabe 2: 42\n",
    "\n",
    "Beispiel Ausgabe: \"Die grössere Zahl ist 42\"\n",
    "```"
   ],
   "metadata": {
    "collapsed": false
   },
   "id": "903ca107a084a3d9"
  },
  {
   "cell_type": "markdown",
   "source": [
    "#### Übung 2\n",
    "\n",
    "Für eine Nachricht soll von einem Programm automatisch die Anrede fomuliert werden. Folgende Variablen existieren:\n",
    "* name (name)\n",
    "* sex (geschlecht)\n",
    "* currentHour (aktuelle Uhrzeit)\n",
    "\n",
    "Die Anrede soll je nach Tageszeit mit \"Guten Morgen\" (0-9 Uhr), \"Guten Tag\" (10-17 Uhr), \"Guten Abend\" (18-0 Uhr) beginnen und anschliessend mit \"Herr xxx\" bzw. \"Frau xxx\" forgesetzt werden. Für xxx soll der entsprechende Name eingesetzt werden."
   ],
   "metadata": {
    "collapsed": false
   },
   "id": "b0193a18bba6f2ad"
  },
  {
   "cell_type": "markdown",
   "source": [
    "#### Übung 3\n",
    "Ein User soll seinen Benutzernamen und das Passwort eingeben können. Entsprechen die beiden den Werten \"gast\" und \"geheim\", soll der String \"Zugang erlaubt\" ausgegeben werden. Ansonsten soll der String \"Zugang verboten\" ausgegeben werden."
   ],
   "metadata": {
    "collapsed": false
   },
   "id": "6e1154b58e1a4d9b"
  },
  {
   "cell_type": "markdown",
   "source": [
    "#### Übung 4\n",
    "Geben Sie in der Konsole die geraden Zahlen von 0 bis 100 (exklusive) aus.\n",
    "\n",
    "Überlege dir mehrere Wege zur Umsetzung.\n"
   ],
   "metadata": {
    "collapsed": false
   },
   "id": "ac7f06208c97cd6e"
  },
  {
   "cell_type": "markdown",
   "source": [
    "#### Übung 5\n",
    "Erstelle ein Programm, das mit dem gegebenen letzten Tag des Vorjahres (Eingabe über die Konsole) alle Sonntage ausgibt, die auf den ersten Tag eines Monats fallen. Verwende Zahlen von 1 (Montag) bis 7 (Sonntag) für die Tage (auch als Eingabewert für den letzten Tag des Vorjahres) und 1 (Januar) bis 12 (Dezember) für die Monate. Die Eingabe ob es sich beim aktuellen Jahr um ein Schaltjahr handelt, muss ebenfalls berücksichtigt werden."
   ],
   "metadata": {
    "collapsed": false
   },
   "id": "a4216a8742f1584d"
  }
 ],
 "metadata": {
  "kernelspec": {
   "display_name": "Python 3",
   "language": "python",
   "name": "python3"
  },
  "language_info": {
   "codemirror_mode": {
    "name": "ipython",
    "version": 2
   },
   "file_extension": ".py",
   "mimetype": "text/x-python",
   "name": "python",
   "nbconvert_exporter": "python",
   "pygments_lexer": "ipython2",
   "version": "2.7.6"
  }
 },
 "nbformat": 4,
 "nbformat_minor": 5
}
