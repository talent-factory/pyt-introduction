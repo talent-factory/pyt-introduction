{
 "nbformat": 4,
 "nbformat_minor": 0,
 "metadata": {
  "colab": {
   "provenance": [],
   "authorship_tag": "ABX9TyNPxNW7zGCfK4Om17Wg5l5W"
  },
  "kernelspec": {
   "name": "python3",
   "language": "python",
   "display_name": "Python 3 (ipykernel)"
  }
 },
 "cells": [
  {
   "cell_type": "markdown",
   "metadata": {
    "id": "SsvH-qgKp-Y_"
   },
   "source": [
    "## Definition der Rekursion"
   ]
  },
  {
   "cell_type": "markdown",
   "metadata": {
    "id": "9EkK8j6OqDM3"
   },
   "source": [
    "Die Rekursion ist eine Programmiertechnik oder ein Programmierkonzept, in dem eine Funktion sich selbst ein oder mehrmals in ihrem Funktionskörper aufruft. Eine Funktionsdefinition, die die Bedingungen der Rekursion erfüllt, nennen wir eine rekursive Funktion."
   ]
  },
  {
   "cell_type": "markdown",
   "metadata": {
    "id": "nkio1oZxqPKm"
   },
   "source": [
    "Eine rekursive Funktion muss terminieren, damit man sie in einem Programm benutzen kann. Eine rekursive Funktion terminiert, wenn mit jedem Rekursionsschritt das Problem reduziert wird und sich in Richtung der Abbruchbedingung bewegt, d.h. dem Fall, in dem die Funktion sich nicht mehr selbst aufruft.\n",
    "\n",
    "Eine rekursive Funktion kann in eine Endlosschleife führen, wenn das Abbruchkriterium nicht erreicht wird."
   ]
  },
  {
   "cell_type": "markdown",
   "metadata": {
    "id": "xfmAIrAAqgK_"
   },
   "source": [
    "Beispiel für die Fakultät:\n",
    "\n",
    "$4! = 4 \\times 3!$\n",
    "\n",
    "$3! = 3 \\times 2!$\n",
    "\n",
    "$2! = 2 \\times 1$\n"
   ]
  },
  {
   "cell_type": "markdown",
   "metadata": {
    "id": "6yqqa2lnq8au"
   },
   "source": [
    "Ersetzt man die ausgerechneten Werte in der jeweiligen Ursprungsgleichung, erhält man für 4! folgenden Ausdruck:\n",
    "\n",
    "$4! = 4 \\times 3 \\times 2 \\times 1$"
   ]
  },
  {
   "cell_type": "markdown",
   "metadata": {
    "id": "wOmJ8THvrE_o"
   },
   "source": [
    "## Rekursive Funktionen in Python"
   ]
  },
  {
   "cell_type": "markdown",
   "metadata": {
    "id": "LXAUhMytrJ0r"
   },
   "source": [
    "Als Beispiel für eine rekursive Funktion in Python wählen wir eine rekursive Implementierung der [Fakultätsfunktion](https://de.wikipedia.org/wiki/Fakult%C3%A4t_(Mathematik)) in Python. Man sieht, dass das Python-Skript ebenso elegant wie die mathematische Funktion ist:"
   ]
  },
  {
   "cell_type": "code",
   "metadata": {
    "id": "pxbB9GyYrWm2",
    "executionInfo": {
     "status": "ok",
     "timestamp": 1694632704733,
     "user_tz": -120,
     "elapsed": 251,
     "user": {
      "displayName": "Daniel Senften",
      "userId": "05364229159230685820"
     }
    },
    "ExecuteTime": {
     "end_time": "2024-01-31T20:37:51.019190Z",
     "start_time": "2024-01-31T20:37:50.995154Z"
    }
   },
   "source": [
    "def factorial(n):\n",
    "  if n == 1:\n",
    "    return 1\n",
    "  else:\n",
    "    return n * factorial(n-1)"
   ],
   "execution_count": 11,
   "outputs": []
  },
  {
   "cell_type": "code",
   "metadata": {
    "id": "0YbLRdesrnxC",
    "colab": {
     "base_uri": "https://localhost:8080/"
    },
    "executionInfo": {
     "status": "ok",
     "timestamp": 1694632766214,
     "user_tz": -120,
     "elapsed": 258,
     "user": {
      "displayName": "Daniel Senften",
      "userId": "05364229159230685820"
     }
    },
    "outputId": "9fd0a344-9010-4e5a-e806-f57255c89130",
    "ExecuteTime": {
     "end_time": "2024-01-31T20:39:58.051184Z",
     "start_time": "2024-01-31T20:39:58.017945Z"
    }
   },
   "source": [
    "factorial(100)"
   ],
   "execution_count": 19,
   "outputs": [
    {
     "data": {
      "text/plain": "93326215443944152681699238856266700490715968264381621468592963895217599993229915608941463976156518286253697920827223758251185210916864000000000000000000000000"
     },
     "execution_count": 19,
     "metadata": {},
     "output_type": "execute_result"
    }
   ]
  },
  {
   "cell_type": "markdown",
   "metadata": {
    "id": "xJ8q2kOGr4OL"
   },
   "source": [
    "## Fibonacci-Folge in Python"
   ]
  },
  {
   "cell_type": "markdown",
   "metadata": {
    "id": "l0WfFlA9r-xE"
   },
   "source": [
    "Die [Fibonacci](https://de.wikipedia.org/wiki/Fibonacci-Folge)-Zahlen lassen sich sehr leicht als rekursive Python-Funktion realisieren. Die rekursive Python-Implementierung spiegelt ziemlich exakt die rekursive mathematische Funktion wider:"
   ]
  },
  {
   "cell_type": "code",
   "metadata": {
    "id": "p-oN5HsbsN5B",
    "executionInfo": {
     "status": "ok",
     "timestamp": 1694633474661,
     "user_tz": -120,
     "elapsed": 560,
     "user": {
      "displayName": "Daniel Senften",
      "userId": "05364229159230685820"
     }
    },
    "ExecuteTime": {
     "end_time": "2024-01-31T20:42:02.499101Z",
     "start_time": "2024-01-31T20:42:02.496232Z"
    }
   },
   "source": [
    "def fib(n):\n",
    "    if n == 0:\n",
    "      return 0\n",
    "    elif n == 1:\n",
    "      return 1\n",
    "    else:\n",
    "      return fib(n-1) + fib(n-2)"
   ],
   "execution_count": 20,
   "outputs": []
  },
  {
   "cell_type": "code",
   "metadata": {
    "id": "V4Uev5issjcf",
    "colab": {
     "base_uri": "https://localhost:8080/"
    },
    "executionInfo": {
     "status": "ok",
     "timestamp": 1694633522952,
     "user_tz": -120,
     "elapsed": 294,
     "user": {
      "displayName": "Daniel Senften",
      "userId": "05364229159230685820"
     }
    },
    "outputId": "2bce8dfd-a601-414a-ac6e-2683061b3ecf",
    "ExecuteTime": {
     "end_time": "2024-01-31T20:43:34.745025Z",
     "start_time": "2024-01-31T20:42:43.320737Z"
    }
   },
   "source": [
    "for value in range(0, 100):\n",
    "    print(value, fib(value))"
   ],
   "execution_count": 22,
   "outputs": [
    {
     "name": "stdout",
     "output_type": "stream",
     "text": [
      "0 0\n",
      "1 1\n",
      "2 1\n",
      "3 2\n",
      "4 3\n",
      "5 5\n",
      "6 8\n",
      "7 13\n",
      "8 21\n",
      "9 34\n",
      "10 55\n",
      "11 89\n",
      "12 144\n",
      "13 233\n",
      "14 377\n",
      "15 610\n",
      "16 987\n",
      "17 1597\n",
      "18 2584\n",
      "19 4181\n",
      "20 6765\n",
      "21 10946\n",
      "22 17711\n",
      "23 28657\n",
      "24 46368\n",
      "25 75025\n",
      "26 121393\n",
      "27 196418\n",
      "28 317811\n",
      "29 514229\n",
      "30 832040\n",
      "31 1346269\n",
      "32 2178309\n",
      "33 3524578\n",
      "34 5702887\n",
      "35 9227465\n",
      "36 14930352\n",
      "37 24157817\n",
      "38 39088169\n",
      "39 63245986\n",
      "40 102334155\n"
     ]
    },
    {
     "ename": "KeyboardInterrupt",
     "evalue": "",
     "output_type": "error",
     "traceback": [
      "\u001B[0;31m---------------------------------------------------------------------------\u001B[0m",
      "\u001B[0;31mKeyboardInterrupt\u001B[0m                         Traceback (most recent call last)",
      "Cell \u001B[0;32mIn[22], line 2\u001B[0m\n\u001B[1;32m      1\u001B[0m \u001B[38;5;28;01mfor\u001B[39;00m value \u001B[38;5;129;01min\u001B[39;00m \u001B[38;5;28mrange\u001B[39m(\u001B[38;5;241m0\u001B[39m, \u001B[38;5;241m100\u001B[39m):\n\u001B[0;32m----> 2\u001B[0m     \u001B[38;5;28mprint\u001B[39m(value, \u001B[43mfib\u001B[49m\u001B[43m(\u001B[49m\u001B[43mvalue\u001B[49m\u001B[43m)\u001B[49m)\n",
      "Cell \u001B[0;32mIn[20], line 7\u001B[0m, in \u001B[0;36mfib\u001B[0;34m(n)\u001B[0m\n\u001B[1;32m      5\u001B[0m   \u001B[38;5;28;01mreturn\u001B[39;00m \u001B[38;5;241m1\u001B[39m\n\u001B[1;32m      6\u001B[0m \u001B[38;5;28;01melse\u001B[39;00m:\n\u001B[0;32m----> 7\u001B[0m   \u001B[38;5;28;01mreturn\u001B[39;00m \u001B[43mfib\u001B[49m\u001B[43m(\u001B[49m\u001B[43mn\u001B[49m\u001B[38;5;241;43m-\u001B[39;49m\u001B[38;5;241;43m1\u001B[39;49m\u001B[43m)\u001B[49m \u001B[38;5;241m+\u001B[39m fib(n\u001B[38;5;241m-\u001B[39m\u001B[38;5;241m2\u001B[39m)\n",
      "Cell \u001B[0;32mIn[20], line 7\u001B[0m, in \u001B[0;36mfib\u001B[0;34m(n)\u001B[0m\n\u001B[1;32m      5\u001B[0m   \u001B[38;5;28;01mreturn\u001B[39;00m \u001B[38;5;241m1\u001B[39m\n\u001B[1;32m      6\u001B[0m \u001B[38;5;28;01melse\u001B[39;00m:\n\u001B[0;32m----> 7\u001B[0m   \u001B[38;5;28;01mreturn\u001B[39;00m \u001B[43mfib\u001B[49m\u001B[43m(\u001B[49m\u001B[43mn\u001B[49m\u001B[38;5;241;43m-\u001B[39;49m\u001B[38;5;241;43m1\u001B[39;49m\u001B[43m)\u001B[49m \u001B[38;5;241m+\u001B[39m fib(n\u001B[38;5;241m-\u001B[39m\u001B[38;5;241m2\u001B[39m)\n",
      "    \u001B[0;31m[... skipping similar frames: fib at line 7 (23 times)]\u001B[0m\n",
      "Cell \u001B[0;32mIn[20], line 7\u001B[0m, in \u001B[0;36mfib\u001B[0;34m(n)\u001B[0m\n\u001B[1;32m      5\u001B[0m   \u001B[38;5;28;01mreturn\u001B[39;00m \u001B[38;5;241m1\u001B[39m\n\u001B[1;32m      6\u001B[0m \u001B[38;5;28;01melse\u001B[39;00m:\n\u001B[0;32m----> 7\u001B[0m   \u001B[38;5;28;01mreturn\u001B[39;00m fib(n\u001B[38;5;241m-\u001B[39m\u001B[38;5;241m1\u001B[39m) \u001B[38;5;241m+\u001B[39m \u001B[43mfib\u001B[49m\u001B[43m(\u001B[49m\u001B[43mn\u001B[49m\u001B[38;5;241;43m-\u001B[39;49m\u001B[38;5;241;43m2\u001B[39;49m\u001B[43m)\u001B[49m\n",
      "Cell \u001B[0;32mIn[20], line 1\u001B[0m, in \u001B[0;36mfib\u001B[0;34m(n)\u001B[0m\n\u001B[0;32m----> 1\u001B[0m \u001B[38;5;28;01mdef\u001B[39;00m \u001B[38;5;21mfib\u001B[39m(n):\n\u001B[1;32m      2\u001B[0m     \u001B[38;5;28;01mif\u001B[39;00m n \u001B[38;5;241m==\u001B[39m \u001B[38;5;241m0\u001B[39m:\n\u001B[1;32m      3\u001B[0m       \u001B[38;5;28;01mreturn\u001B[39;00m \u001B[38;5;241m0\u001B[39m\n",
      "\u001B[0;31mKeyboardInterrupt\u001B[0m: "
     ]
    }
   ]
  },
  {
   "cell_type": "markdown",
   "metadata": {
    "id": "o993Ev6qsx6H"
   },
   "source": [
    "## Aufgaben"
   ]
  },
  {
   "cell_type": "markdown",
   "metadata": {
    "id": "_j-my6Wos17t"
   },
   "source": [
    "### 1. Aufgabe"
   ]
  },
  {
   "cell_type": "markdown",
   "metadata": {
    "id": "HmpOArBfs_kJ"
   },
   "source": [
    "Schreiben Sie eine rekursive Version der Funktion $f(n) = 3 n$, also eine Funktion, die die Vielfachen von 3 berechnet."
   ]
  },
  {
   "cell_type": "markdown",
   "metadata": {
    "id": "btfBoS2jtv6p"
   },
   "source": [
    "#### Lösung"
   ]
  },
  {
   "cell_type": "code",
   "metadata": {
    "id": "vUlGDDT_trc2",
    "executionInfo": {
     "status": "ok",
     "timestamp": 1694633704306,
     "user_tz": -120,
     "elapsed": 265,
     "user": {
      "displayName": "Daniel Senften",
      "userId": "05364229159230685820"
     }
    },
    "ExecuteTime": {
     "end_time": "2024-01-31T20:32:51.523590Z",
     "start_time": "2024-01-31T20:32:51.503414Z"
    }
   },
   "source": [
    "def mult3(n):\n",
    "  if n == 1:\n",
    "    return 3\n",
    "  else:\n",
    "    return mult3(n-1) + 3"
   ],
   "execution_count": 5,
   "outputs": []
  },
  {
   "cell_type": "code",
   "metadata": {
    "id": "IqeJbz_QtzyV",
    "colab": {
     "base_uri": "https://localhost:8080/"
    },
    "executionInfo": {
     "status": "ok",
     "timestamp": 1694633706824,
     "user_tz": -120,
     "elapsed": 280,
     "user": {
      "displayName": "Daniel Senften",
      "userId": "05364229159230685820"
     }
    },
    "outputId": "d60b3a1e-d652-4905-9b75-c8faebff58a6",
    "ExecuteTime": {
     "end_time": "2024-01-31T20:32:51.524060Z",
     "start_time": "2024-01-31T20:32:51.506443Z"
    }
   },
   "source": [
    "for i in range(1, 10):\n",
    "  print(mult3(i))"
   ],
   "execution_count": 6,
   "outputs": [
    {
     "name": "stdout",
     "output_type": "stream",
     "text": [
      "3\n",
      "6\n",
      "9\n",
      "12\n",
      "15\n",
      "18\n",
      "21\n",
      "24\n",
      "27\n"
     ]
    }
   ]
  },
  {
   "cell_type": "markdown",
   "metadata": {
    "id": "tIwLv5YCs4WX"
   },
   "source": [
    "### 2. Aufgabe"
   ]
  },
  {
   "cell_type": "markdown",
   "metadata": {
    "id": "V3hnsGQJt9yK"
   },
   "source": [
    "Schreiben Sie eine rekursive Python-Funktion, welche die Summe der ersten $n$ ganzen Zahlen zurückliefert.\n",
    "\n",
    "*Hinweis*: Diese Funktion sieht ähnlich wie die Fakultätsfunktion aus."
   ]
  },
  {
   "cell_type": "markdown",
   "metadata": {
    "id": "ELj80G5SuNfT"
   },
   "source": [
    "#### Lösung"
   ]
  },
  {
   "cell_type": "code",
   "metadata": {
    "id": "Q4HZlJavuPCe",
    "ExecuteTime": {
     "end_time": "2024-01-31T20:32:51.524289Z",
     "start_time": "2024-01-31T20:32:51.509189Z"
    }
   },
   "source": [
    "def sum_n(n):\n",
    "  if n == 0:\n",
    "    return 0\n",
    "  else:\n",
    "    return n + sum_n(n-1)"
   ],
   "execution_count": 7,
   "outputs": []
  },
  {
   "cell_type": "code",
   "metadata": {
    "id": "g6rQscDvuTmp",
    "ExecuteTime": {
     "end_time": "2024-01-31T20:32:51.524966Z",
     "start_time": "2024-01-31T20:32:51.511449Z"
    }
   },
   "source": [
    "print(\"Die Summe der Zahlen von 1 bis 100: \" + str(sum_n(100)))"
   ],
   "execution_count": 8,
   "outputs": [
    {
     "name": "stdout",
     "output_type": "stream",
     "text": [
      "Die Summe der Zahlen von 1 bis 100: 5050\n"
     ]
    }
   ]
  },
  {
   "cell_type": "markdown",
   "metadata": {
    "id": "AQWy1v5oucmr"
   },
   "source": [
    "### 3. Aufgabe"
   ]
  },
  {
   "cell_type": "markdown",
   "metadata": {
    "id": "uvpA6bfhueu4"
   },
   "source": [
    "Schreiben Sie eine Funktion, die das Pascalsche Dreieck implementiert:"
   ]
  },
  {
   "cell_type": "code",
   "metadata": {
    "id": "J0d2AZybukX-",
    "executionInfo": {
     "status": "ok",
     "timestamp": 1694630557746,
     "user_tz": -120,
     "elapsed": 2,
     "user": {
      "displayName": "Daniel Senften",
      "userId": "05364229159230685820"
     }
    },
    "ExecuteTime": {
     "end_time": "2024-01-31T20:48:36.677256Z",
     "start_time": "2024-01-31T20:48:36.672518Z"
    }
   },
   "source": [
    "def pascal(n):\n",
    "    if n == 1:\n",
    "        return [1]\n",
    "    else:\n",
    "        line = [1]\n",
    "        previous_line = pascal(n - 1)\n",
    "        print(previous_line)\n",
    "        for i in range(len(previous_line) - 1):\n",
    "            line.append(previous_line[i] + previous_line[i + 1])\n",
    "\n",
    "        line += [1]\n",
    "    return line"
   ],
   "execution_count": 23,
   "outputs": []
  },
  {
   "cell_type": "code",
   "metadata": {
    "id": "BYD03HD-uwRG",
    "colab": {
     "base_uri": "https://localhost:8080/"
    },
    "executionInfo": {
     "status": "ok",
     "timestamp": 1694630560489,
     "user_tz": -120,
     "elapsed": 3,
     "user": {
      "displayName": "Daniel Senften",
      "userId": "05364229159230685820"
     }
    },
    "outputId": "d6723419-7ecb-430b-b5ba-21f537631b48",
    "ExecuteTime": {
     "end_time": "2024-01-31T20:48:43.348697Z",
     "start_time": "2024-01-31T20:48:43.266931Z"
    }
   },
   "source": [
    "print(pascal(8))"
   ],
   "execution_count": 24,
   "outputs": [
    {
     "name": "stdout",
     "output_type": "stream",
     "text": [
      "[1]\n",
      "[1, 1]\n",
      "[1, 2, 1]\n",
      "[1, 3, 3, 1]\n",
      "[1, 4, 6, 4, 1]\n",
      "[1, 5, 10, 10, 5, 1]\n",
      "[1, 6, 15, 20, 15, 6, 1]\n",
      "[1, 7, 21, 35, 35, 21, 7, 1]\n"
     ]
    }
   ]
  },
  {
   "cell_type": "code",
   "outputs": [
    {
     "name": "stdout",
     "output_type": "stream",
     "text": [
      "[1]\n",
      "[1, 1]\n",
      "[1, 2, 1]\n",
      "[1, 3, 3, 1]\n",
      "[1, 4, 6, 4, 1]\n",
      "[1, 5, 10, 10, 5, 1]\n",
      "[1, 6, 15, 20, 15, 6, 1]\n",
      "[1, 7, 21, 35, 35, 21, 7, 1]\n"
     ]
    }
   ],
   "source": [
    "def pascal(n):\n",
    "    def pascal_line(n):\n",
    "        if n == 0:\n",
    "            return [1]\n",
    "\n",
    "        current_line = [1]\n",
    "        for i in range(1, n):\n",
    "            current_line = [1] + [current_line[j - 1] + current_line[j] for j in range(1, i)] + [1]\n",
    "\n",
    "        return current_line\n",
    "\n",
    "    triangle = []\n",
    "    for i in range(1, n + 1):\n",
    "        triangle.append(pascal_line(i))\n",
    "        \n",
    "    return triangle\n",
    "        \n",
    "print(*pascal(8), sep='\\n')"
   ],
   "metadata": {
    "collapsed": false,
    "ExecuteTime": {
     "end_time": "2024-01-31T21:24:24.450486Z",
     "start_time": "2024-01-31T21:24:24.415393Z"
    }
   },
   "execution_count": 37
  }
 ]
}
