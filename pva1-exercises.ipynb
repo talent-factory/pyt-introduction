{
 "cells": [
  {
   "cell_type": "markdown",
   "source": [
    "# Übungen\n",
    "\n",
    "## 1. Seminartag\n",
    "An unserem ersten Seminartag haben wir uns folgenden Themen gewidmet:\n",
    "\n",
    "- Installation der notwendigen Software\n",
    "- Erste Schritte mit Python\n",
    "- Programmier- und Skriptsprachen\n",
    "- Variablennamen\n",
    "- Datentypen\n",
    "- Operatoren, Listen, … , Indizierung\n",
    "\n",
    "Bei den vorgeschlagenen Lösungen ist es wichtig zu erkennen, dass es sich jeweils um eine mögliche Umsetzung handelt. Informatik ist keine exakte Wissenschaft, in welcher es immer nur eine richtige Lösung gibt. "
   ],
   "metadata": {
    "collapsed": false
   },
   "id": "91e1cdea172ac557"
  },
  {
   "cell_type": "markdown",
   "source": [
    "### Aufgabe 1\n",
    "Erstelle zwei Variablen und addiere sie. Wie kann das Ergebnis ausgegeben werden?"
   ],
   "metadata": {
    "collapsed": false
   },
   "id": "13b389fb7996c044"
  },
  {
   "cell_type": "markdown",
   "source": [
    "#### Lösung\n",
    "In Python werden Variablen erstellt, indem wir einen Namen gemäss der [Namenskonvention](https://peps.python.org/pep-0008/#naming-conventions) (PEP8) von Python verwenden. Die Bezeichnung PEP bedeutet an dieser Stelle _Python Enhancement Proposal_. Der komplette Index aller vorschläge ist [hier](https://peps.python.org/pep-0000/#) zu finden.\n",
    "\n",
    "Nun zum Lösungsvorschlag:"
   ],
   "metadata": {
    "collapsed": false
   },
   "id": "be0256d128610b92"
  },
  {
   "cell_type": "code",
   "outputs": [
    {
     "name": "stdout",
     "output_type": "stream",
     "text": [
      "3.46912\n"
     ]
    }
   ],
   "source": [
    "var1 = 1.12345 # Durch die Zuweisung eines Wertes wird gleichzeitig auch der Datentyp der Variablen bestimmt\n",
    "var2 = 2.34567\n",
    "\n",
    "print(var1 + var2)"
   ],
   "metadata": {
    "collapsed": false,
    "ExecuteTime": {
     "end_time": "2024-01-17T09:32:49.990847Z",
     "start_time": "2024-01-17T09:32:49.955593Z"
    }
   },
   "id": "89945597f78f0e6d",
   "execution_count": 1
  },
  {
   "cell_type": "markdown",
   "source": [
    "Das Resultat einer Ausgabe kann jederzeit durch das _Advanced String Formatting_ ([PEP3101](https://peps.python.org/pep-3101/)) nach den eigenen Wünsche ausgegeben werden."
   ],
   "metadata": {
    "collapsed": false
   },
   "id": "b0a3b9e62cb7ccfd"
  },
  {
   "cell_type": "code",
   "outputs": [
    {
     "name": "stdout",
     "output_type": "stream",
     "text": [
      "Resultat: 3.46912\n",
      "Resultat: 3.47\n"
     ]
    }
   ],
   "source": [
    "result = var1 + var2\n",
    "\n",
    "print(\"Resultat:{:8}\".format(result))    # Die Gesamtlänge der Ausgabe beträgt 8 Stellen\n",
    "print(\"Resultat:{:5.2f}\".format(result)) # Angabe der Stellen und der Nachkommastellen"
   ],
   "metadata": {
    "collapsed": false,
    "ExecuteTime": {
     "end_time": "2024-01-17T09:32:50.059075Z",
     "start_time": "2024-01-17T09:32:49.991132Z"
    }
   },
   "id": "24e31420f13f9db2",
   "execution_count": 2
  },
  {
   "cell_type": "markdown",
   "source": [
    "[Hier](https://docs.python.org/3/library/string.html#formatexamples) (und an vielen anderen Stellen im Internet) finden wir noch weitere Beispiele $\\dots$"
   ],
   "metadata": {
    "collapsed": false
   },
   "id": "f3efe20f92bb53c8"
  },
  {
   "cell_type": "code",
   "outputs": [
    {
     "name": "stdout",
     "output_type": "stream",
     "text": [
      "left aligned                  \n",
      "                 right aligned\n",
      "           centered           \n",
      "86.36%\n",
      "2024-01-17 10:32:50\n"
     ]
    }
   ],
   "source": [
    "print('{:<30}'.format('left aligned'))\n",
    "print('{:>30}'.format('right aligned'))\n",
    "print('{:^30}'.format('centered'))\n",
    "\n",
    "print('{:.2%}'.format(19/22))\n",
    "\n",
    "from datetime import datetime\n",
    "date = datetime.now()\n",
    "print('{:%Y-%m-%d %H:%M:%S}'.format(date))"
   ],
   "metadata": {
    "collapsed": false,
    "ExecuteTime": {
     "end_time": "2024-01-17T09:32:50.071289Z",
     "start_time": "2024-01-17T09:32:50.052552Z"
    }
   },
   "id": "fe3e04b17e4a623d",
   "execution_count": 3
  },
  {
   "cell_type": "markdown",
   "source": [
    "### Aufgabe 2\n",
    "Wie kann eine Zeichenkette definiert werden?"
   ],
   "metadata": {
    "collapsed": false
   },
   "id": "c07350bb0f5cddc4"
  },
  {
   "cell_type": "markdown",
   "source": [
    "#### Lösung\n",
    "Eine Zeichenkette (_String_) wird innerhalb von Anführungszeichen definiert. In diesem Fall wird \"Python Kurs\" zur Variable `string` zugewiesen und anschliessend ausgegeben.\n",
    "\n",
    "Die Formatierung kann gemäss ([PEP3101](https://peps.python.org/pep-3101/)) nach den eigenen Wünsche angegeben werden."
   ],
   "metadata": {
    "collapsed": false
   },
   "id": "63bb294e91fa28a3"
  },
  {
   "cell_type": "code",
   "outputs": [
    {
     "name": "stdout",
     "output_type": "stream",
     "text": [
      "Python Kurs\n"
     ]
    }
   ],
   "source": [
    "string = \"Python Kurs\"\n",
    "\n",
    "print(string)"
   ],
   "metadata": {
    "collapsed": false,
    "ExecuteTime": {
     "end_time": "2024-01-17T09:32:50.094966Z",
     "start_time": "2024-01-17T09:32:50.073439Z"
    }
   },
   "id": "e83a101f092b3ddb",
   "execution_count": 4
  },
  {
   "cell_type": "markdown",
   "source": [
    "In Python kann sowohl das einfache Anführungszeichen (`'`), als auch das doppelte Anführungszeichen (`\"`) verwendet werden."
   ],
   "metadata": {
    "collapsed": false
   },
   "id": "1bbd82b3e60fbebb"
  },
  {
   "cell_type": "code",
   "outputs": [
    {
     "name": "stdout",
     "output_type": "stream",
     "text": [
      "Python Kurs\n"
     ]
    }
   ],
   "source": [
    "string = 'Python Kurs'\n",
    "\n",
    "print(string)"
   ],
   "metadata": {
    "collapsed": false,
    "ExecuteTime": {
     "end_time": "2024-01-17T09:32:50.116176Z",
     "start_time": "2024-01-17T09:32:50.096381Z"
    }
   },
   "id": "8b9652b4bee33b20",
   "execution_count": 5
  },
  {
   "cell_type": "markdown",
   "source": [
    "Es ist auch möglich, in einer Zeichenkette mit das Anführungszeichen selbst zu verwenden. In diesem Fall muss das Zeichen von seiner ursprünglichen Rolle _befreit_ werden. Wir verwenden das sogenannte _Escape_-Zeichen (`\\`). "
   ],
   "metadata": {
    "collapsed": false
   },
   "id": "6cf2b8cc4c275fbb"
  },
  {
   "cell_type": "code",
   "outputs": [
    {
     "name": "stdout",
     "output_type": "stream",
     "text": [
      "Daniel's Buch\n"
     ]
    }
   ],
   "source": [
    "string = 'Daniel\\'s Buch'\n",
    "\n",
    "print(string)"
   ],
   "metadata": {
    "collapsed": false,
    "ExecuteTime": {
     "end_time": "2024-01-17T09:32:50.174199Z",
     "start_time": "2024-01-17T09:32:50.118133Z"
    }
   },
   "id": "d8a192297f13f8df",
   "execution_count": 6
  },
  {
   "cell_type": "markdown",
   "source": [
    "Eine Zeichenkette, welche sich über mehrere Zeilen erstreckt kann auf zwei verschiedene Arten angegeben werden. Entweder verwenden wir das `\\n` (_newline_) Zeichen am Schluss einer Zeile oder wir schreiben die Zeichenkette innerhalb von drei Anführungszeichen."
   ],
   "metadata": {
    "collapsed": false
   },
   "id": "fdeac35cefa0cafb"
  },
  {
   "cell_type": "code",
   "outputs": [
    {
     "name": "stdout",
     "output_type": "stream",
     "text": [
      "Daniel\n",
      "Senften\n",
      "3000 Bern\n"
     ]
    }
   ],
   "source": [
    "string = \"Daniel\\nSenften\\n3000 Bern\"\n",
    "\n",
    "print(string)"
   ],
   "metadata": {
    "collapsed": false,
    "ExecuteTime": {
     "end_time": "2024-01-17T09:32:50.177665Z",
     "start_time": "2024-01-17T09:32:50.123220Z"
    }
   },
   "id": "7f37bf33092f19ba",
   "execution_count": 7
  },
  {
   "cell_type": "code",
   "outputs": [
    {
     "name": "stdout",
     "output_type": "stream",
     "text": [
      "Daniel\n",
      "Senften\n",
      "3000 Bern\n"
     ]
    }
   ],
   "source": [
    "string = \"\"\"Daniel\n",
    "Senften\n",
    "3000 Bern\"\"\"\n",
    "\n",
    "print(string)"
   ],
   "metadata": {
    "collapsed": false,
    "ExecuteTime": {
     "end_time": "2024-01-17T09:32:50.207039Z",
     "start_time": "2024-01-17T09:32:50.136362Z"
    }
   },
   "id": "5d787f673d653a9b",
   "execution_count": 8
  },
  {
   "cell_type": "markdown",
   "source": [
    "### Aufgabe 3\n",
    "Was passiert beim Addieren von zwei Zeichenketten (Strings)? "
   ],
   "metadata": {
    "collapsed": false
   },
   "id": "c5ba88be19566ab2"
  },
  {
   "cell_type": "markdown",
   "source": [
    "#### Lösung\n",
    "Das Addieren von Strings in Python wird als Konkatenation bezeichnet. In diesem Fall werden die Strings string1 und string2 zusammengefügt und das Ergebnis ausgegeben."
   ],
   "metadata": {
    "collapsed": false
   },
   "id": "c77963157e6a293"
  },
  {
   "cell_type": "code",
   "outputs": [
    {
     "name": "stdout",
     "output_type": "stream",
     "text": [
      "Python Kurs\n"
     ]
    }
   ],
   "source": [
    "string1 = \"Python\"\n",
    "string2 = \"Kurs\"\n",
    "\n",
    "ergebnis = string1 + \" \" + string2\n",
    "print(ergebnis)"
   ],
   "metadata": {
    "collapsed": false,
    "ExecuteTime": {
     "end_time": "2024-01-17T09:32:50.265976Z",
     "start_time": "2024-01-17T09:32:50.181169Z"
    }
   },
   "id": "ef4ba16975e50cf5",
   "execution_count": 9
  },
  {
   "cell_type": "markdown",
   "source": [
    "### Aufgabe 4\n",
    "Wie kann der Datentyp einer Variablen ermittelt werden?"
   ],
   "metadata": {
    "collapsed": false
   },
   "id": "2f7d502534389205"
  },
  {
   "cell_type": "markdown",
   "source": [
    "#### Lösung\n",
    "Der `type` Befehl gibt den Datentyp der Variablen aus."
   ],
   "metadata": {
    "collapsed": false
   },
   "id": "5f23001977a79949"
  },
  {
   "cell_type": "code",
   "outputs": [
    {
     "name": "stdout",
     "output_type": "stream",
     "text": [
      "<class 'str'>\n"
     ]
    }
   ],
   "source": [
    "var = \"Python 3\"\n",
    "print(type(var))"
   ],
   "metadata": {
    "collapsed": false,
    "ExecuteTime": {
     "end_time": "2024-01-17T09:32:50.332309Z",
     "start_time": "2024-01-17T09:32:50.269293Z"
    }
   },
   "id": "69a87a64f5c608ef",
   "execution_count": 10
  },
  {
   "cell_type": "markdown",
   "source": [
    "In diesem Fall wird der Datentyp `<class 'str'>` ausgegeben. In Python entspricht **jeder** Datentype einer Klasse. Ein einfacher (_primitive_) Datentype, wie dies in anderen Sprachen der Falls ist, existiert nicht."
   ],
   "metadata": {
    "collapsed": false
   },
   "id": "c4ced2457f7243d3"
  },
  {
   "cell_type": "code",
   "outputs": [
    {
     "name": "stdout",
     "output_type": "stream",
     "text": [
      "<class 'int'>\n",
      "<class 'float'>\n",
      "<class 'bool'>\n",
      "<class 'list'>\n",
      "<class 'dict'>\n",
      "<class 'tuple'>\n"
     ]
    }
   ],
   "source": [
    "print(type(1))    # Ganze Zahl\n",
    "print(type(1.0))  # Reale Zahl\n",
    "print(type(True)) # Boolean\n",
    "print(type([]))   # Leere Liste\n",
    "print(type({}))   # Leeres Dictionary\n",
    "print(type(()))   # Leeres Tupel"
   ],
   "metadata": {
    "collapsed": false,
    "ExecuteTime": {
     "end_time": "2024-01-17T09:32:50.360635Z",
     "start_time": "2024-01-17T09:32:50.327649Z"
    }
   },
   "id": "ee047e01795d46d8",
   "execution_count": 11
  },
  {
   "cell_type": "markdown",
   "source": [
    "### Aufgabe 5\n",
    "Wie erfolgt die Typumwandlung von String in Integer in Python?"
   ],
   "metadata": {
    "collapsed": false
   },
   "id": "1c133fb40ee6adfe"
  },
  {
   "cell_type": "markdown",
   "source": [
    "#### Lösung\n",
    "Die Funktion `int()` konvertiert den Datentyp nach `int`. "
   ],
   "metadata": {
    "collapsed": false
   },
   "id": "1c509cd9a1e851b3"
  },
  {
   "cell_type": "code",
   "outputs": [
    {
     "name": "stdout",
     "output_type": "stream",
     "text": [
      "<class 'int'>\n"
     ]
    }
   ],
   "source": [
    "zahl = \"10\" # Dies ist eine Zeichenkette und keine Zahl!\n",
    "\n",
    "zahl = int(zahl) # Typenumwandung und erneute Zuweisung\n",
    "print(type(zahl))"
   ],
   "metadata": {
    "collapsed": false,
    "ExecuteTime": {
     "end_time": "2024-01-17T09:32:50.376007Z",
     "start_time": "2024-01-17T09:32:50.362870Z"
    }
   },
   "id": "1ccc8052e6786b34",
   "execution_count": 12
  },
  {
   "cell_type": "markdown",
   "source": [
    "### Aufgabe 6\n",
    "Was ist eine Boolesche Variable und wie kann sie definiert werden?"
   ],
   "metadata": {
    "collapsed": false
   },
   "id": "65bde6c11c4725d5"
  },
  {
   "cell_type": "markdown",
   "source": [
    "#### Lösung\n",
    "Eine Boolesche (_Boolean_) Variable kann nur zwei Werte annehmen: `True` oder `False`. Man beachte, dass diese beiden reservierten Worte in Python gross geschrieben werden."
   ],
   "metadata": {
    "collapsed": false
   },
   "id": "f20d8b989854a1fe"
  },
  {
   "cell_type": "code",
   "outputs": [
    {
     "name": "stdout",
     "output_type": "stream",
     "text": [
      "True <class 'bool'>\n"
     ]
    }
   ],
   "source": [
    "var = True\n",
    "\n",
    "print(var, type(var))"
   ],
   "metadata": {
    "collapsed": false,
    "ExecuteTime": {
     "end_time": "2024-01-17T09:32:50.386813Z",
     "start_time": "2024-01-17T09:32:50.377763Z"
    }
   },
   "id": "9b9f210cf39a6768",
   "execution_count": 13
  },
  {
   "cell_type": "markdown",
   "source": [
    "Den Wahrheitswert werden wir bei den 'bedingten Anweisungen' wieder antreffen. Die möglichen Operatoren, welche in diesem Zusammenhang möglich sind, sind [hier](https://docs.python.org/3/library/stdtypes.html#boolean-operations-and-or-not) zu finden."
   ],
   "metadata": {
    "collapsed": false
   },
   "id": "2f54ac8689fdc314"
  },
  {
   "cell_type": "markdown",
   "source": [
    "### Aufgabe 7\n",
    "Was passiert, wenn eine Fliesskommazahl zu einem Integer konvertiert wird?"
   ],
   "metadata": {
    "collapsed": false
   },
   "id": "701386dc67c017a7"
  },
  {
   "cell_type": "markdown",
   "source": [
    "#### Lösung\n",
    "Die `int()` Funktion konvertiert die Fliesskommazahl in einen Integer. Beachte, dass dies nicht aufrundet, sondern den Bruchteil abschneidet."
   ],
   "metadata": {
    "collapsed": false
   },
   "id": "24f615c6960c5dff"
  },
  {
   "cell_type": "code",
   "outputs": [
    {
     "name": "stdout",
     "output_type": "stream",
     "text": [
      "10.5 <class 'float'> 10\n"
     ]
    }
   ],
   "source": [
    "var = 10.5\n",
    "\n",
    "print(var, type(var), int(var))"
   ],
   "metadata": {
    "collapsed": false,
    "ExecuteTime": {
     "end_time": "2024-01-17T09:32:50.414938Z",
     "start_time": "2024-01-17T09:32:50.382973Z"
    }
   },
   "id": "9b72988cc0c64ed7",
   "execution_count": 14
  },
  {
   "cell_type": "markdown",
   "source": [
    "### Aufgabe 8\n",
    "Wie kann man den Durchschnitt (Mittelwert) einer Liste von Zahlen berechnen? "
   ],
   "metadata": {
    "collapsed": false
   },
   "id": "2b47762e5ee247ab"
  },
  {
   "cell_type": "markdown",
   "source": [
    "#### Lösung\n",
    "Die `sum()` Funktion gibt die Summe der Zahlen in der Liste zurück, während `len` die Anzahl der Elemente in der Liste liefert. Durch das Teilen des einen durch das andere erhält man den Durchschnitt."
   ],
   "metadata": {
    "collapsed": false
   },
   "id": "50b0daeaf0c9be1f"
  },
  {
   "cell_type": "code",
   "outputs": [
    {
     "name": "stdout",
     "output_type": "stream",
     "text": [
      "3.0\n"
     ]
    }
   ],
   "source": [
    "zahlen = [1, 2, 3, 4, 5]\n",
    "\n",
    "durchschnitt = sum(zahlen) / len(zahlen)\n",
    "print(durchschnitt)"
   ],
   "metadata": {
    "collapsed": false,
    "ExecuteTime": {
     "end_time": "2024-01-17T09:32:50.417445Z",
     "start_time": "2024-01-17T09:32:50.388982Z"
    }
   },
   "id": "bea266f74c5e0c8c",
   "execution_count": 15
  },
  {
   "cell_type": "markdown",
   "source": [
    "### Aufgabe 9\n",
    "Wie können Zeichen in einer Zeichenkette rückwärts ausgegeben werden?"
   ],
   "metadata": {
    "collapsed": false
   },
   "id": "36546b9e8961e4d2"
  },
  {
   "cell_type": "markdown",
   "source": [
    "#### Lösung\n",
    "In Python kann die Schrittlänge nützlich sein, um eine Zeichenkette rückwärts zu lesen. In diesem Lösungsansatz wird mit der Schrittlänge `-1` die Reihenfolgen der Zeichen umgedreht."
   ],
   "metadata": {
    "collapsed": false
   },
   "id": "231e56daf87f6d6e"
  },
  {
   "cell_type": "code",
   "outputs": [
    {
     "name": "stdout",
     "output_type": "stream",
     "text": [
      "sruK nohtyP\n"
     ]
    }
   ],
   "source": [
    "string = \"Python Kurs\"\n",
    "\n",
    "string = string[::-1]\n",
    "print(string)"
   ],
   "metadata": {
    "collapsed": false,
    "ExecuteTime": {
     "end_time": "2024-01-17T09:32:50.478582Z",
     "start_time": "2024-01-17T09:32:50.419062Z"
    }
   },
   "id": "40f5f2f43683f7e2",
   "execution_count": 16
  },
  {
   "cell_type": "markdown",
   "source": [
    "### Aufgabe 10\n",
    "Wie wird ein Wahrheitswert (Boolean) aus dem Vergleich zweier Zahlen erstellt?"
   ],
   "metadata": {
    "collapsed": false
   },
   "id": "b1abac60cb77db01"
  },
  {
   "cell_type": "markdown",
   "source": [
    "#### Lösung\n",
    "Hier wird eine Vergleichsoperation durchgeführt, um zu prüfen, ob `x` grösser als `y` ist. Das Ergebnis ist ein boolescher Wert, der entweder `True` (wahr) oder `False` (falsch) sein kann. In diesem Fall ist das Ergebnis False, da 10 nicht grösser als 20 ist."
   ],
   "metadata": {
    "collapsed": false
   },
   "id": "7c4061b0fb9b196e"
  },
  {
   "cell_type": "code",
   "outputs": [
    {
     "name": "stdout",
     "output_type": "stream",
     "text": [
      "False\n"
     ]
    }
   ],
   "source": [
    "x = 10\n",
    "y = 20\n",
    "\n",
    "vergleich = x > y # Frage: Ist x grösser als y → nein\n",
    "print(vergleich)"
   ],
   "metadata": {
    "collapsed": false,
    "ExecuteTime": {
     "end_time": "2024-01-17T09:32:50.497858Z",
     "start_time": "2024-01-17T09:32:50.480415Z"
    }
   },
   "id": "a3f02ac22eb1925c",
   "execution_count": 17
  },
  {
   "cell_type": "markdown",
   "source": [
    "### Aufgabe 11\n",
    "Wie können verschiedene Datentypen in einem String zusammengefügt und ausgegeben werden?"
   ],
   "metadata": {
    "collapsed": false
   },
   "id": "a74c7b6bee6a40e5"
  },
  {
   "cell_type": "markdown",
   "source": [
    "#### Lösung\n",
    "Variablen verschiedener Datentypen können nicht direkt zusammengefügt werden. Die Funktion `str()` wird genutzt, um die Zahl in eine Zeichenkette umzuwandeln, bevor sie mit den anderen Zeichenketten konkateniert wird."
   ],
   "metadata": {
    "collapsed": false
   },
   "id": "2b613e17a622b5e8"
  },
  {
   "cell_type": "code",
   "outputs": [
    {
     "name": "stdout",
     "output_type": "stream",
     "text": [
      "Python 3\n"
     ]
    }
   ],
   "source": [
    "wort = \"Python\"\n",
    "zahl = 3\n",
    "\n",
    "resultat = wort + \" \" + str(zahl)\n",
    "print(resultat)"
   ],
   "metadata": {
    "collapsed": false,
    "ExecuteTime": {
     "end_time": "2024-01-17T09:32:50.524883Z",
     "start_time": "2024-01-17T09:32:50.499403Z"
    }
   },
   "id": "ff40ad85f56e6668",
   "execution_count": 18
  }
 ],
 "metadata": {
  "kernelspec": {
   "display_name": "Python 3",
   "language": "python",
   "name": "python3"
  },
  "language_info": {
   "codemirror_mode": {
    "name": "ipython",
    "version": 2
   },
   "file_extension": ".py",
   "mimetype": "text/x-python",
   "name": "python",
   "nbconvert_exporter": "python",
   "pygments_lexer": "ipython2",
   "version": "2.7.6"
  }
 },
 "nbformat": 4,
 "nbformat_minor": 5
}
